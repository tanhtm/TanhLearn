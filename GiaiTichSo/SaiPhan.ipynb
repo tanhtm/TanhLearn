{
 "cells": [
  {
   "cell_type": "code",
   "execution_count": 1,
   "metadata": {},
   "outputs": [],
   "source": [
    "A= [0,-1,-2,-3] \n",
    "def f(x): # x >= 0\n",
    "    return A[x]\n",
    "h= 1\n",
    "def delta(f, x): # Sai phan cap 1: delta f(x)= f(x+h)- f(x) \n",
    "    return f(x+h) - f(x)\n",
    "def delta_k(f, x, k): # Sai phan cap k: delta^k f(x)= delta^{k-1} f(x+h) - delta^{k-1} f(x)\n",
    "    if k == 0:\n",
    "        return f(x)\n",
    "    return delta_k(f, x+h, k-1) - delta_k(f, x, k-1)\n",
    "\n",
    "def C(n,k):\n",
    "    if k == 0:\n",
    "        return 1\n",
    "    if k == n:\n",
    "        return 1\n",
    "    return C(n-1,k) + C(n-1,k-1)"
   ]
  },
  {
   "cell_type": "code",
   "execution_count": 2,
   "metadata": {},
   "outputs": [
    {
     "data": {
      "text/plain": [
       "6"
      ]
     },
     "execution_count": 2,
     "metadata": {},
     "output_type": "execute_result"
    }
   ],
   "source": [
    "C(4,2)"
   ]
  },
  {
   "cell_type": "code",
   "execution_count": 3,
   "metadata": {},
   "outputs": [
    {
     "name": "stdout",
     "output_type": "stream",
     "text": [
      "Sai phan cap 0: [0, -1, -2, -3]\n",
      "Sai phan cap 1: [-1, -1, -1]\n",
      "Sai phan cap 2: [0, 0]\n",
      "Sai phan cap 3: [0]\n"
     ]
    }
   ],
   "source": [
    "for k in range(0, len(A)):\n",
    "    print('Sai phan cap %d:' % k, [delta_k(f, i, k) for i in range(len(A)-k)])"
   ]
  },
  {
   "cell_type": "markdown",
   "metadata": {},
   "source": [
    "f(0)= 1\n",
    "\n",
    "f(1)= 8\n",
    "\n",
    "f(6)= ?"
   ]
  },
  {
   "cell_type": "code",
   "execution_count": 4,
   "metadata": {},
   "outputs": [
    {
     "name": "stdout",
     "output_type": "stream",
     "text": [
      "1 0\n",
      "4 -1\n",
      "6 0\n",
      "4 0\n",
      "-4\n"
     ]
    }
   ],
   "source": [
    "r= 0\n",
    "n= 4\n",
    "x= 0\n",
    "for i in range(0,n):\n",
    "    r+= C(n,i)*delta_k(f, x, i)\n",
    "    print(C(n,i), delta_k(f, x, i))\n",
    "print(r)"
   ]
  },
  {
   "cell_type": "code",
   "execution_count": 5,
   "metadata": {},
   "outputs": [],
   "source": [
    "def f(x):\n",
    "    if x == 0:\n",
    "        return 1\n",
    "    return f(x-1) + (x+1)**3"
   ]
  },
  {
   "cell_type": "code",
   "execution_count": 6,
   "metadata": {},
   "outputs": [
    {
     "name": "stdout",
     "output_type": "stream",
     "text": [
      "Sai phan cap 0: [1, 9, 36, 100, 225, 441, 784, 1296, 2025, 3025, 4356, 6084, 8281, 11025, 14400]\n",
      "Sai phan cap 1: [8, 27, 64, 125, 216, 343, 512, 729, 1000, 1331, 1728, 2197, 2744, 3375]\n",
      "Sai phan cap 2: [19, 37, 61, 91, 127, 169, 217, 271, 331, 397, 469, 547, 631]\n",
      "Sai phan cap 3: [18, 24, 30, 36, 42, 48, 54, 60, 66, 72, 78, 84]\n",
      "Sai phan cap 4: [6, 6, 6, 6, 6, 6, 6, 6, 6, 6, 6]\n",
      "Sai phan cap 5: [0, 0, 0, 0, 0, 0, 0, 0, 0, 0]\n",
      "Sai phan cap 6: [0, 0, 0, 0, 0, 0, 0, 0, 0]\n",
      "Sai phan cap 7: [0, 0, 0, 0, 0, 0, 0, 0]\n",
      "Sai phan cap 8: [0, 0, 0, 0, 0, 0, 0]\n",
      "Sai phan cap 9: [0, 0, 0, 0, 0, 0]\n",
      "Sai phan cap 10: [0, 0, 0, 0, 0]\n",
      "Sai phan cap 11: [0, 0, 0, 0]\n",
      "Sai phan cap 12: [0, 0, 0]\n",
      "Sai phan cap 13: [0, 0]\n",
      "Sai phan cap 14: [0]\n"
     ]
    }
   ],
   "source": [
    "A= [f(i) for i in range(15)]\n",
    "for k in range(0, len(A)):\n",
    "    print('Sai phan cap %d:' % k, [delta_k(f, i, k) for i in range(len(A)-k)])"
   ]
  },
  {
   "cell_type": "code",
   "execution_count": 7,
   "metadata": {},
   "outputs": [
    {
     "data": {
      "text/plain": [
       "[0, 1, 17, 82, 219, 441, 784, 1296, 2025, 3025, 4356, 6084, 8281, 11025, 14400]"
      ]
     },
     "execution_count": 7,
     "metadata": {},
     "output_type": "execute_result"
    }
   ],
   "source": [
    "res= []\n",
    "for i in range(0,15):\n",
    "    r= 0\n",
    "    n= i\n",
    "    x= 0\n",
    "    for i in range(0,n):\n",
    "        r+= C(n,i)*delta_k(f, x, i)\n",
    "    res.append(r)\n",
    "res"
   ]
  },
  {
   "cell_type": "code",
   "execution_count": null,
   "metadata": {},
   "outputs": [],
   "source": []
  }
 ],
 "metadata": {
  "kernelspec": {
   "display_name": "Python 3",
   "language": "python",
   "name": "python3"
  },
  "language_info": {
   "codemirror_mode": {
    "name": "ipython",
    "version": 3
   },
   "file_extension": ".py",
   "mimetype": "text/x-python",
   "name": "python",
   "nbconvert_exporter": "python",
   "pygments_lexer": "ipython3",
   "version": "3.7.6"
  }
 },
 "nbformat": 4,
 "nbformat_minor": 4
}
