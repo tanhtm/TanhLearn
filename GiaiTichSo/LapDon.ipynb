{
 "cells": [
  {
   "cell_type": "code",
   "execution_count": 1,
   "metadata": {},
   "outputs": [],
   "source": [
    "from numpy import log as ln"
   ]
  },
  {
   "cell_type": "code",
   "execution_count": 10,
   "metadata": {},
   "outputs": [
    {
     "name": "stdout",
     "output_type": "stream",
     "text": [
      "1 0.27465307\n",
      "2 0.35266211\n",
      "3 0.37100543\n",
      "4 0.37513009\n",
      "5 0.37604826\n",
      "6 0.37625219\n",
      "7 0.37629746\n",
      "8 0.37630751\n",
      "9 0.37630974\n",
      "10 0.37631023\n",
      "11 0.37631034\n",
      "12 0.37631037\n"
     ]
    }
   ],
   "source": [
    "x= 0\n",
    "i= 1\n",
    "while True:\n",
    "    o= ln(4*x+3)/4\n",
    "    print(i, round(o,8))\n",
    "    i+= 1\n",
    "    if abs(x- o) <= 1e-7:\n",
    "        break\n",
    "    x= o"
   ]
  },
  {
   "cell_type": "code",
   "execution_count": 7,
   "metadata": {},
   "outputs": [
    {
     "data": {
      "text/plain": [
       "0.3763103669894022"
      ]
     },
     "execution_count": 7,
     "metadata": {},
     "output_type": "execute_result"
    }
   ],
   "source": [
    "o"
   ]
  },
  {
   "cell_type": "code",
   "execution_count": 4,
   "metadata": {},
   "outputs": [],
   "source": [
    "from math import e"
   ]
  },
  {
   "cell_type": "code",
   "execution_count": 5,
   "metadata": {},
   "outputs": [
    {
     "data": {
      "text/plain": [
       "-5.777620160074548e-09"
      ]
     },
     "execution_count": 5,
     "metadata": {},
     "output_type": "execute_result"
    }
   ],
   "source": [
    "e**(5*o)-o-7"
   ]
  },
  {
   "cell_type": "code",
   "execution_count": null,
   "metadata": {},
   "outputs": [],
   "source": []
  }
 ],
 "metadata": {
  "kernelspec": {
   "display_name": "Python 3",
   "language": "python",
   "name": "python3"
  },
  "language_info": {
   "codemirror_mode": {
    "name": "ipython",
    "version": 3
   },
   "file_extension": ".py",
   "mimetype": "text/x-python",
   "name": "python",
   "nbconvert_exporter": "python",
   "pygments_lexer": "ipython3",
   "version": "3.7.6"
  }
 },
 "nbformat": 4,
 "nbformat_minor": 4
}
