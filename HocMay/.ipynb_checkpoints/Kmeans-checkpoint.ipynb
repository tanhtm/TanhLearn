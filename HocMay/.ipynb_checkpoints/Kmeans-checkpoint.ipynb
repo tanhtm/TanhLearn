{
 "cells": [
  {
   "cell_type": "code",
   "execution_count": 1,
   "metadata": {},
   "outputs": [],
   "source": [
    "X1= [3,3,3,4,4,5,5,7,7,8]\n",
    "X2= [8,6,4,7,5,5,1,5,3,5]"
   ]
  },
  {
   "cell_type": "code",
   "execution_count": 2,
   "metadata": {},
   "outputs": [],
   "source": [
    "X= [(X1[i], X2[i])for i in range(len(X1))]"
   ]
  },
  {
   "cell_type": "code",
   "execution_count": 3,
   "metadata": {},
   "outputs": [
    {
     "data": {
      "text/plain": [
       "[(3, 8),\n",
       " (3, 6),\n",
       " (3, 4),\n",
       " (4, 7),\n",
       " (4, 5),\n",
       " (5, 5),\n",
       " (5, 1),\n",
       " (7, 5),\n",
       " (7, 3),\n",
       " (8, 5)]"
      ]
     },
     "execution_count": 3,
     "metadata": {},
     "output_type": "execute_result"
    }
   ],
   "source": [
    "X"
   ]
  },
  {
   "cell_type": "code",
   "execution_count": 5,
   "metadata": {},
   "outputs": [],
   "source": [
    "# Init\n",
    "import numpy as np\n",
    "K1= X[:5]\n",
    "K2= X[5:]"
   ]
  },
  {
   "cell_type": "code",
   "execution_count": 6,
   "metadata": {},
   "outputs": [
    {
     "data": {
      "text/plain": [
       "([(3, 8), (3, 6), (3, 4), (4, 7), (4, 5)],\n",
       " [(5, 5), (5, 1), (7, 5), (7, 3), (8, 5)])"
      ]
     },
     "execution_count": 6,
     "metadata": {},
     "output_type": "execute_result"
    }
   ],
   "source": [
    "K1, K2"
   ]
  },
  {
   "cell_type": "code",
   "execution_count": 9,
   "metadata": {},
   "outputs": [],
   "source": [
    "def center(K):\n",
    "    x_, y_= 0,0\n",
    "    for x in K:\n",
    "        x_+= x[0]\n",
    "        y_+= x[1]\n",
    "    return (x_/len(K), y_/len(K))\n",
    "\n",
    "def d(x1, x2):\n",
    "    return ((x1[0]-x2[0])**2 + (x1[1]-x2[1])**2)**(1/2)"
   ]
  },
  {
   "cell_type": "code",
   "execution_count": 8,
   "metadata": {},
   "outputs": [
    {
     "data": {
      "text/plain": [
       "(3.4, 6.0)"
      ]
     },
     "execution_count": 8,
     "metadata": {},
     "output_type": "execute_result"
    }
   ],
   "source": [
    "center(K1)"
   ]
  },
  {
   "cell_type": "code",
   "execution_count": null,
   "metadata": {},
   "outputs": [],
   "source": [
    "def _2mean(X):\n",
    "    K1= X[:len(X)/2]\n",
    "    K2= X[len(X)/2:]\n",
    "    c1_, c2_= None, None\n",
    "    while True:\n",
    "        c1= center(K1)\n",
    "        c2= center(K2)\n",
    "        if c1 == c1_:\n",
    "            break\n",
    "        else:\n",
    "            c1_= c1\n",
    "            c2_= c2\n",
    "            \n",
    "        for x in K1:\n",
    "            d1= d(x, c1)\n",
    "            d2= d(x, c2)\n",
    "            if d1 > d2:\n",
    "                K2.append(x)\n",
    "                K1.remove(x)\n",
    "        "
   ]
  }
 ],
 "metadata": {
  "kernelspec": {
   "display_name": "Python 3",
   "language": "python",
   "name": "python3"
  },
  "language_info": {
   "codemirror_mode": {
    "name": "ipython",
    "version": 3
   },
   "file_extension": ".py",
   "mimetype": "text/x-python",
   "name": "python",
   "nbconvert_exporter": "python",
   "pygments_lexer": "ipython3",
   "version": "3.7.7"
  }
 },
 "nbformat": 4,
 "nbformat_minor": 4
}
