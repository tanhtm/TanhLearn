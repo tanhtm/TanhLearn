{
 "cells": [
  {
   "cell_type": "code",
   "execution_count": 1,
   "metadata": {},
   "outputs": [],
   "source": [
    "# import lib\n",
    "import os\n",
    "import sys\n",
    "sys.path.append(\"src/RSA/\")\n",
    "sys.path.append(\"src/DES/\")\n",
    "import RSA\n",
    "import DES"
   ]
  },
  {
   "cell_type": "code",
   "execution_count": 2,
   "metadata": {},
   "outputs": [
    {
     "data": {
      "text/plain": [
       "'Thuật toán RSA có hai khóa: khóa công khai (hay khóa công cộng) và khóa bí mật (hay khóa cá nhân). Mỗi khóa là những số cố định sử dụng trong quá trình mã hóa và giải mã. Khóa công khai được công bố rộng rãi cho mọi người và được dùng để mã hóa. Những thông tin được mã hóa bằng khóa công khai chỉ có thể được giải mã bằng khóa bí mật tương ứng. Nói cách khác, mọi người đều có thể mã hóa nhưng chỉ có người biết khóa cá nhân (bí mật) mới có thể giải mã được.\\n\\nTa có thể mô phỏng trực quan một hệ mật mã khoá công khai như sau: Bình muốn gửi cho An một thông tin mật mà Bình muốn duy nhất An có thể đọc được. Để làm được điều này, An gửi cho Bình một chiếc hộp có khóa đã mở sẵn và giữ lại chìa khóa. Bình nhận chiếc hộp, cho vào đó một tờ giấy viết thư bình thường và khóa lại (như loại khoá thông thường chỉ cần sập chốt lại, sau khi sập chốt khóa ngay cả Bình cũng không thể mở lại được-không đọc lại hay sửa thông tin trong thư được nữa). Sau đó Bình gửi chiếc hộp lại cho An. An mở hộp với chìa khóa của mình và đọc thông tin trong thư. Trong ví dụ này, chiếc hộp với khóa mở đóng vai trò khóa công khai, chiếc chìa khóa chính là khóa bí mật. '"
      ]
     },
     "execution_count": 2,
     "metadata": {},
     "output_type": "execute_result"
    }
   ],
   "source": [
    "PLAINTEXT      = 'Data/Plaintext.txt'\n",
    "plainText = RSA.getPlaintext(PLAINTEXT)\n",
    "plainText"
   ]
  },
  {
   "cell_type": "markdown",
   "metadata": {},
   "source": [
    "# RSA"
   ]
  },
  {
   "cell_type": "code",
   "execution_count": 3,
   "metadata": {},
   "outputs": [],
   "source": [
    "PUBLICKEY      = 'Data/PublicKey.txt'\n",
    "PRIVATEKEY     = 'Data/PrivateKey.txt'\n",
    "CIPHERTEXT     = 'Data/Ciphertext.txt'\n",
    "PLAINTEXTDECODE= 'Data/PlaintextDecode.txt'"
   ]
  },
  {
   "cell_type": "code",
   "execution_count": 4,
   "metadata": {},
   "outputs": [],
   "source": [
    "publicKey = RSA.getPublicKey(PUBLICKEY)\n",
    "ciphertextRSA= RSA.encode(publicKey, plainText, CIPHERTEXT)"
   ]
  },
  {
   "cell_type": "code",
   "execution_count": 5,
   "metadata": {},
   "outputs": [
    {
     "data": {
      "text/plain": [
       "(1050564529132274693594138445233107259504478785442147395211961090117141912324933649332043844337619718799330554417826092653,\n",
       " 65537)"
      ]
     },
     "execution_count": 5,
     "metadata": {},
     "output_type": "execute_result"
    }
   ],
   "source": [
    "publicKey"
   ]
  },
  {
   "cell_type": "code",
   "execution_count": 6,
   "metadata": {},
   "outputs": [
    {
     "data": {
      "text/plain": [
       "'POUWIPgdZUiERsOSBR5v0xLM2Hoz7BCFT0IeP-2wuujSTeg74HMzdTNGzSjJ+-XfK9 4kLtfJT2tXuknAwAuCJQotWABS5RSk98hD0W5xSSKD6EonzJvenLRB-GhLVvfOT1tgl 3SorH7AHqzO0BaLK3WnLIrnFwgCSml3jdiaDJn5E9ENc20PHWqyxRI12h2nARNMzkpO 4WCw0FkUFpXktjqcaG5YvgTJYChLVYw0zj-PAhRSmafX30UZy+IWLAaWhkWCIykZSSa 1bUhY-AFur+Uh2HdyqsiV+CM6mxL7ZfOTOGdMKH9ACEa48UyEYl9DVAwVDkl7tfAAMd 2XdqC9Y2e1ZC5qStTBNo9RqKumYTSOqW1hapTzMeZPfNx0n7CYurakAmGEIIgEA78Kn 7AgQ9Z1iicl7lBYAbbIeUgiGjtOHq0RuK4E9cFBfsG81Gcu71GByrUqqMGVWK729TY 2g1AiQL2KV4ITIlWE3GnL4JX4nT6Py5S1QPQe+Syj-UMCXzdFBDyy9LIdFwEsLM6gj1 JMyGo8E-TzMVschDgXHqgjLiT3yHPmkuATILjJhgXq1bsoGGTbEOd2imUulRZQ6XyF 2r6uzBOvfmQVj5vNtVfzdVWWsFrZUIuyqcucvHv3nBryuCDqbET7CSvJeI9rvrhYvWW 4mL98JcCUKex8t5v-28yoUgqJfIc4dnBqwP3BNeSIkjqenqOCBdYiL+62kkA6OOYj9Z 2hEAgkR-oWcucnLTBu5ORhW5uZTvNjQfPd1jGSVrejjHH-1e0s0XscC+MQZDCh1zio5 5FFBNgwmeHnMNAKyPHUr5txbpKPR9xZxTe8HEDl7JBRcYPIwwHTpSEPhm+E91gX5jzE 3ixJqlUWOK59tythq5HGhh3w8SftsmO1Tu9lZrEg5Hittn47ScQ71l8i9N7zhNwzZwP 4E+nX+EBcfdmLFF4+R71Ndmm3siwbHXIa4ti4Q7hzEMcSH6IGC6YSpHFhU7FMfr0Mar 4APdfh9jjJJV0cJzIg4r-7iPwkdhD1J-twDukU3pULiu5YnD+cdL0N1pfjE4m2uGsfL vVxQ87Dxy1Q2NlmzYUZQ6BpvcTS0yrWNCuB8jYP50DYOX86tYUBosw0ojsIb+qgw+R 2061VdLntYK8L-fMqsFuvw9o+rqkVFDkUjTFwkb91PV-hHXxvlVNfz+hJRdBNBmcxLl kJKNO1zdIGYa7dpIeEgi8nwh7YtWNLSaZRHX4IKTU+PX7d24nWzZac+bq33Zai3qR0 3rRxhoHUSIxoiXF59dBLtnsJWUT5ugGhrn4O59IeZhx6DgcwwC2nDKpjCURJl+YKzYA 34BBcJtX7WKNannQ0+ro-ji-JZpKzVSdDb4b8yNE7znBG4TKY3vheyOpc50UrS8+mOd 1sUoeAdifYuTFtnOqOLdFYPE3bLhwchnGkZcKb-2+S1+wrnI9HGlzIk4dJxUUKn9adc 6Pq4uG28mlFG6jEJK0aRd1nhiSLnSgHsuCtqcm3prswoWcNRGLmCdTd31LNNRZFK4aY 4CHOM1dqSH4QEIqyecH+gq794hvIeTM1B6MQRzIBroJ41BHcVbRlixqcI4x4kKubGKt 3fKdTcQb-jiZOzVKOypwJrNWczenTCup5nuV5fDJuOpKOFaHk3vRZShw8dV9jmVzSbj JTACssC31+a9K9jwgiGZsohkknO5nRrZ6Xj+C8UkcI2n6hOOLcJ8MmlE30MFE02Vkj 2SugDxn7Gq-e1qnDbHlQhMMfw5YoXbH2tfOEctkqN6odUQ2Rkp8SEkiic9M-6NO7eLZ 32vsQYxPjtd0H2jw3A3R330CCIV+-BVBg1dgx1rcT7XFQbcDaZOZuxNmMSWQGxY3le1 4VSn3Y04wjFU-PX4mYR2ZBiL+16DUmWceDBKufm7g8PgXJt3QTRTTKQCJdQeJxbDOAR 3vJ4fLD3RtRiqAZZbp4hPtibBYgeNMUIkhdyvWHK4rkLjIncI9mkgqY0KrpufQ2hx-Y 22AKMuekzPL-cHuz7aRioKWnKrwaP0VFAwLj+bmpZpcNHm7bZbbSHg5EGGzSyM0CHlS 2OtSgCOM2L379TTGS0+PslqqRQ-rEPKIeuQTnGafmvLbWoqFbp+-Vdv+RD3wTDi3o8F qtQhmC4nnupIx0tKgc5PocRbBUBD0p1Yuz+ArTq06b-nSBRzJpnwtr-Qtb1zcQX7kM 3OG-4eZLqmf2FJm5zvcZ1PD7xUw3fYV6vryjvqF5PTQFYlo1rcN7GeyfTS0mISiOCzN 1VMb1g-9v2HLJdAXA6jovo80rz0Sgj9JX62I2GorUkYj1WleHZjWwd06LeW2aZ+tDX6 5nQMQHx302szVx-xRYMkv2Hh3tfJYn4ivRFQSQ5ZYnJ1xH5gufsd4PH2JCFq-f2vbkT 4U5DnZI8oi-KLqOLxePo2eSi9sBghQnTqYpgOwM7mE-B9YJc96oP3q0gZMG-1Jc9auG NFadeY9tXCNkxzNHxu5kzBdl+MYxW2LUhyPQNeQ-aRM9syZzlrcw342eYhGuhQ3JX0 2hWI1G0md4TIk0DbQgAH4sXUheFOpihu7rSu4Z07LzUxHdDExBOjgFHSYLFD28SFZ0p '"
      ]
     },
     "execution_count": 6,
     "metadata": {},
     "output_type": "execute_result"
    }
   ],
   "source": [
    "ciphertextRSA"
   ]
  },
  {
   "cell_type": "code",
   "execution_count": 7,
   "metadata": {},
   "outputs": [],
   "source": [
    "privateKey= RSA.getPrivateKey(PRIVATEKEY)\n",
    "ciphertextRSA= RSA.getCiphertext(CIPHERTEXT)\n",
    "plainTextRSA= RSA.decode(privateKey, ciphertextRSA, PLAINTEXTDECODE)"
   ]
  },
  {
   "cell_type": "code",
   "execution_count": 8,
   "metadata": {},
   "outputs": [
    {
     "data": {
      "text/plain": [
       "'Thuật toán RSA có hai khóa: khóa công khai (hay khóa công cộng) và khóa bí mật (hay khóa cá nhân). Mỗi khóa là những số cố định sử dụng trong quá trình mã hóa và giải mã. Khóa công khai được công bố rộng rãi cho mọi người và được dùng để mã hóa. Những thông tin được mã hóa bằng khóa công khai chỉ có thể được giải mã bằng khóa bí mật tương ứng. Nói cách khác, mọi người đều có thể mã hóa nhưng chỉ có người biết khóa cá nhân (bí mật) mới có thể giải mã được.\\n\\nTa có thể mô phỏng trực quan một hệ mật mã khoá công khai như sau: Bình muốn gửi cho An một thông tin mật mà Bình muốn duy nhất An có thể đọc được. Để làm được điều này, An gửi cho Bình một chiếc hộp có khóa đã mở sẵn và giữ lại chìa khóa. Bình nhận chiếc hộp, cho vào đó một tờ giấy viết thư bình thường và khóa lại (như loại khoá thông thường chỉ cần sập chốt lại, sau khi sập chốt khóa ngay cả Bình cũng không thể mở lại được-không đọc lại hay sửa thông tin trong thư được nữa). Sau đó Bình gửi chiếc hộp lại cho An. An mở hộp với chìa khóa của mình và đọc thông tin trong thư. Trong ví dụ này, chiếc hộp với khóa mở đóng vai trò khóa công khai, chiếc chìa khóa chính là khóa bí mật. '"
      ]
     },
     "execution_count": 8,
     "metadata": {},
     "output_type": "execute_result"
    }
   ],
   "source": [
    "plainTextRSA"
   ]
  },
  {
   "cell_type": "markdown",
   "metadata": {},
   "source": [
    "# DES"
   ]
  },
  {
   "cell_type": "code",
   "execution_count": 9,
   "metadata": {},
   "outputs": [
    {
     "data": {
      "text/plain": [
       "'0000000100110011010001010111011110011001101110111100110011111111'"
      ]
     },
     "execution_count": 9,
     "metadata": {},
     "output_type": "execute_result"
    }
   ],
   "source": [
    "key = '0000 0001 0011 0011 0100 0101 0111 0111 1001 1001 1011 1011 1100 1100 1111 1111'.replace(' ','')\n",
    "key"
   ]
  },
  {
   "cell_type": "code",
   "execution_count": 10,
   "metadata": {},
   "outputs": [],
   "source": [
    "ciphertextDES= DES.encode(plainText, key)"
   ]
  },
  {
   "cell_type": "code",
   "execution_count": 11,
   "metadata": {},
   "outputs": [
    {
     "data": {
      "text/plain": [
       "'ﮎ⇌ᝓ⋑絮쫸\\uf5d7\\uf2f6▟닫\\ue0ad舦鴵돬ꈝ\\u0be2̾熙揮﹑䐗它ᗇ翣轮\\u9ff8⋆ᅤ꼚ᯡ侩쳏赳﨩㆒兘ꛝ깞蹤轞ᐉ⇟༐纰섯\\x92赝\\ue8e4꼚ᯡ侩쳏赳﨩㆒兘䩛䅋⨕灧쫒䫍橯拐\\uf7d9磘䪙Ṷ啗\\udb1b퍒猳㸎먍ɞ轢イ\\ud818죧儮섯\\x92赝\\ue8e4꼚ᯡ侩쳏胠䀷ᒴ婠ᘤ岿邃⾦늓椱홹\\ue404Г鑿쮔ﾸ啗\\udb1b퍒猳\\u07fc瑺逄ħ\\ueb50䇩쫖⍍\\ue005仱⢂灹퀦箚\\ud9a7濿瓝ྱ\\ue98d\\u08be\\ua97f瀙ꌙ炜\\uf132贾\\u2d9d⑄斴彍Ⱊᑫ승賕멹\\udc90伬ᰓ컩ⴑ柟㡢俲䑊⎺\\uf065钑㪬轻锩\\udb87煉봘⓼ᦆﵚ⼼猊䏋䁷鼾퍉ፒ嵻啗\\udb1b퍒猳ꑊ㺎쥖纔좵早痊옡\\ua7d9홙霉㮡駒鵄᧺㮷煵뗑킀忧䩥\\uabfb\\ue97cᆽ\\udc37\\ue752℁嬻씨᷻瞸舕蕉\\uea9c㎝땑뤄䐜麯䏢졳⟒䊶幛\\u0ffc쁅壢\\uf77a㪄㲽\\u17ffɎ茧衶䭺质斖Ϯ㠏䞋쇋ൄ覸⽑Ѣ◄࿁䘌琯쐆\\ud9b2탪\\ue469웵꛳앻癈냪⃔\\ue924⫠ꧥ彜䈻ιﰅ\\ud868礘ﻪ챢\\uf7c8㊁贋䓈玩ቆయ൩ퟷⅣꬍ쩻皔䄐啗\\udb1b퍒猳ꑊ㺎쥖纔좵早痊옡竴⒂鿢\\uf78e\\ud83c\\udfc6쓛镨䝞껉糈㗣㪄㲽\\u17ffɎ븕쟷岁簪⼼猊䏋䁷娜莆긪垤ꬍ쩻皔䄐啗\\udb1b퍒猳㸎먍ɞ轢\\ueb7aᮅ쎘댬ୢ혊伃簁交儿鑂잿╂\\uf04e◭홹ଛǅ衺擬Ĵ嘒\\ueb6b忆滜⫱賮붩鲖랧\\udeee뫍閌⽏抹踀꽩⻩渗Ȫ앦뇯讣\\ua7c6▎雰։\\uf868쇋ൄ覸⽑Ѣ◄࿁䘌▿㳪荲牠ꉔ仕⎛곯淚讕蒴戋⠱蘸펖뤷铭\\x8f碫聑避㴝\\u0b3a\\ue2d9ᾘ＝椁뚒葐릺缹Ტ䈐\\uf3a2从ꅰ\\ue13e의캲⸋뉭衙唓\\ud9e9匪⌓㴥㤆岢쌭\\ud939丽▎雰։\\uf868縅䠤쭏\\udee9⼼猊䏋䁷\\uf47b⡖ꕏꏪ⸾㱖嬊ቑ뫧뮹顂蓯\\ue098黪\\uf0eb䘷ᔪ毈\\uf0c5ខᷡ⍑\\udd3d䧖\\ud912ᕵ⬍ﳢ䵂뒐ꪇᝁ豪倥봏岮練\\uddb3숵挐瀐ନ藒\\ue1a0⽋뵊闒시ｷ\\udca5歄鼾㔅얾㠕卖赳﨩㆒兘ꛝ깞蹤轞왂歴檫䌱랔\\udd11䟨숔赞咫⭑ཀ藆㕚\\ud9a6\\u0cbb留鹇㼚⢏荺륍毿鶏竴⒂鿢\\uf78e뺴핎\\uda68\\ueaa6㼮Ｚ⠇ᢘ㖁ت\\ude76歌쀹ꔭ扗ଯდ꿔☌\\u2005\\uf035ᐐ歆ᒈꭣꥺ뎚韼३ܽ粻욈\\uf219钏쪛漥鿡駷\\ufdec귢䢇阖\\ue784뺌㻣裯ᓿ࿑\\ue098黪\\uf0eb䘷䝴㦱╔⿄冩撊\\u2e79鍳ﱓᘲ綍謷嵻眒逦퍶예瞚\\ue011䕫\\ue8a3\\uee17퉊薥ﰸ뾘ټ딱狉鶈\\uefff㉮ꮒ\\ue2c8ᶀ蜑荺륍毿鶏竴⒂鿢\\uf78eㇻ䩂ઊ\\uf731३ܽ粻욈\\ue8c9\\uefed굫ӟ㗯\\udacd߸䦓篍쪪嗱ᬸ䔷둷\\ue9c0쉝꼚ᯡ侩쳏ᨩ㖄钼制峂䊹\\uea40灐瞙槍태杒봘⓼ᦆﵚ륖ቩ\\ueb86䫹竴⒂鿢\\uf78e폵臾澕ㄶ掤㧕╔⭇٧\\uf373ᙱ캅\\uf49e낦緧ֺ᧑돏₿Ṷ㗯\\udacd߸䦓篍쪪嗱ᬸ\\ue39b릮꽯夤⛬뾲涛\\ue512\\ue743䚴öỄ㼮Ｚ⠇ᢘ夃䳶廉\\ud912\\ue865ꕴ谳얱溙嬻吉ࣸ\\u1dfa磡噞嶾談䗙\\uf0fb蠡︄ꇳ孺쾘ៀ둠ந잘ꝼ\\ue0af軷臬ᾘ＝椁뚒ࠫ癙츘䩸罅녾梽輋ퟆ秕ⳍ⫶鮇\\ue94e铙憅㔅얾㠕卖㖁ت\\ude76歌쀹ꔭ扗ଯៀ둠ந잘ꍂᭊ힞蚅䫛啈䏕湁芒脾芜癶샳₤蜈컡䇿\\ue919颐奷疆粏읯펫ᬈ뇾維\\ue99a繀ꘔ茅쎖銷烖ꕾ䅔\\udbcd愶솅ഉᾘ＝椁뚒\\uf8bd鍢뢿뭞\\ue92c┢髦籡긠勆峢횎賝鉎➐\\ue6c5㱺驡结噐Ꮩꀢ⮉哒醐餁儥휅Æ㦗㿾\\ud967헫痪ᮗ聃㪄㲽\\u17ffɎ긃饚它얖煵뗑킀忧⸳띍僼⯏羈챕摸ᾞ섯\\x92赝\\ue8e4饴븴窬嫉癈냪⃔\\ue924⫠ꧥ彜䈻쳢鲉윌ắ內\\uf5d1ﰶ쨳\\ue5da힔ᙔഖ\\ue8a3\\uee17퉊薥榺裏륕\\u0a49̾쭐㫿聆\\uefc2꣪䝬즘䧩ˆ㢺쒽駴库씸籘\\uebf9߾接롫㗯\\udacd߸䦓篍쪪嗱ᬸ헫痪ᮗ聃动€翋똱\\uddf1\\ua83e롸쇅㻣裯ᓿ࿑쭄뿅糍ữ\\udbdc੶帍䴐岢쌭\\ud939丽뻍\\ue15aὩ顂꼚ᯡ侩쳏篧拾셙퀶ᓩꪺङ\\uefb0䦁町\\u2fe5┼㵎쀑䭹冱㖁ت\\ude76歌쀹ꔭ扗ଯᦑﭭ诎㆐\\uea2b㪰䚴씆㬫\\ue923❲℧\\uea79\\ufaed鱑\\ue7dc內\\uf5d1ﰶ쨳\\u0e7e䣣砌㸔楨⥴퇕㈩\\ua7c3⦌雜擊㗯\\udacd߸䦓篍쪪嗱ᬸ瞳\\uf607ꝉ賌ᾘ＝椁뚒忀\\ued16챘騒⁒\\udb47銲됾쯊즽า掚뙍恝छ곟쵊箱뻝ㅵ爱㍉ᕶᢉ煵뗑킀忧ᡟᡜඔፍ\\ue39b릮꽯夤㸮ﴤ◹ꠔᄠశ\\u173e僌ᾘ＝椁뚒\\ud834㮐ۓ\\ue877䜇㏸ṑⷬ\\uef60\\ue1a0돚㸌啗\\udb1b퍒猳㸎먍ɞ轢⤈ᬪ擠兢'"
      ]
     },
     "execution_count": 11,
     "metadata": {},
     "output_type": "execute_result"
    }
   ],
   "source": [
    "DES.binToText(ciphertextDES)"
   ]
  },
  {
   "cell_type": "code",
   "execution_count": 12,
   "metadata": {},
   "outputs": [],
   "source": [
    "plainTextDES= DES.decode(ciphertextDES, key)"
   ]
  },
  {
   "cell_type": "code",
   "execution_count": 13,
   "metadata": {},
   "outputs": [
    {
     "data": {
      "text/plain": [
       "'Thuật toán RSA có hai khóa: khóa công khai (hay khóa công cộng) và khóa bí mật (hay khóa cá nhân). Mỗi khóa là những số cố định sử dụng trong quá trình mã hóa và giải mã. Khóa công khai được công bố rộng rãi cho mọi người và được dùng để mã hóa. Những thông tin được mã hóa bằng khóa công khai chỉ có thể được giải mã bằng khóa bí mật tương ứng. Nói cách khác, mọi người đều có thể mã hóa nhưng chỉ có người biết khóa cá nhân (bí mật) mới có thể giải mã được.\\n\\nTa có thể mô phỏng trực quan một hệ mật mã khoá công khai như sau: Bình muốn gửi cho An một thông tin mật mà Bình muốn duy nhất An có thể đọc được. Để làm được điều này, An gửi cho Bình một chiếc hộp có khóa đã mở sẵn và giữ lại chìa khóa. Bình nhận chiếc hộp, cho vào đó một tờ giấy viết thư bình thường và khóa lại (như loại khoá thông thường chỉ cần sập chốt lại, sau khi sập chốt khóa ngay cả Bình cũng không thể mở lại được-không đọc lại hay sửa thông tin trong thư được nữa). Sau đó Bình gửi chiếc hộp lại cho An. An mở hộp với chìa khóa của mình và đọc thông tin trong thư. Trong ví dụ này, chiếc hộp với khóa mở đóng vai trò khóa công khai, chiếc chìa khóa chính là khóa bí mật. '"
      ]
     },
     "execution_count": 13,
     "metadata": {},
     "output_type": "execute_result"
    }
   ],
   "source": [
    "plainTextDES"
   ]
  },
  {
   "cell_type": "code",
   "execution_count": 14,
   "metadata": {},
   "outputs": [
    {
     "data": {
      "text/plain": [
       "'\\ue322ﮏ㖁屗뙱䎚낪\\ue377\\ue169춫섟舘尬鰳뚰娾\\ue5bf퐡諌䨅슶헹\\uf2d4窩\\x1d䲘囕\\ue540Ꭹ浝⡶䟺玸鋝⿐䷧瀦\\u245b㢤에숵ᝢ﹃襗醎\\ued6eꩄ귍Ꭹ浝⡶䟺玸鋝⿐䷧\\udde9Ĥ蕖孲Ӽ憭醹㈊帻堈齰\\ue282퐁箔છ咒癴\\udd5a㱨跛蓪카鴔蠖醎\\ued6eꩄ귍Ꭹ浝⡶䟺⦽漳ዷ\\udea9\\uf269먶綒粻ᵁ\\uf1d0䫓붊랯䊔䙣貳퐁箔છ咒模쿊\\uf092뒶\\ua7d4엊퉌뛟ꡀ\\ue397ྤᠩ⑼鼑귓됒ⶌౙ멦ᑂ\\ue700㏿䍠偏牷\\ue01c텬烲壻癕꒔뗍똵㶕匒㷒鴝奆얻\\u9ff7荣⚙\\u0883땆爩⾠聍/\\udff0繾嚺\\uf73e骯ॎ\\uf55b\\u0ff7Í鬮䤮䈹異\\udeb3᠓⡯퐁箔છ咒ᑽ䊁帯㟹칋ꬻᾩ\\ue2f3บ꽔ᤂⱖ蔑瞔㺖儃긄ᱳ투栺㨚ᩥ섮ᴐ嫜⫮쿒\\u0e5f菾\\ue1c7巳⚨ݰ챟ᚿ䞛䃦贂爩풀鷛⮟Ῐ\\ud873梾腮༑\\ueaea圁ಠ殔٨㯟\\u3101繘畔\\ue996톁竤᭚빌䰼阌﹀\\ue700띕衦袗鴦ﱳ킶닡雵⠒箨㙑㽻䱢捤\\uee65礊髪鋨ꔛ埊헇晁쓢〚簾졡\\ude0d撙膼砕诊\\ud8f2쁑ؽ渷\\ue054\\ued62ࢥ妏퐁箔છ咒ᑽ䊁帯㟹칋ꬻᾩ\\ue2f3᠑봥ၸ쎄礆谔ຊ軞崝韫㼤汧圁ಠ殔٨\\u12b6꺵檓᧣Í鬮䤮䈹ﱇ胾랅쌔\\ue054\\ued62ࢥ妏퐁箔છ咒癴\\udd5a㱨跛Ჾ琗㖋宺ᜪㄱ쿃笻\\uecdb䌴썜㕘ֆڝ帶⾇咣\\u0fe0㍖퀙읍옲쾉覯槕骴\\uf512ﳇᘑ㘦욍蹕ꦡ妏죳㞫寡\\uf48e❃荊绁듋缠乹\\ue4f9⤟槤ﲥ빌䰼阌﹀\\ue700띕衦袗嚍쟭\\uf677\\uf5fe\\ue85d楝얭蜕\\ue07bǧ婾憺十䙷稏\\ue845鄪∯舳춆妡嶤䶤ᯆ휅昦㾭ﯨퟰ끮⽗\\ue579岘荨ꌼ虹搋㽁椲罚嗑⎟\\ud8fa뇙噦\\ueecd볘ﱝ刊帄툮㐓\\ue4f9⤟槤ﲥ캥ⳃ鱒敛Í鬮䤮䈹༫ṳ는↜惡ﮯ뮅ꫬ萵쌮\\udd3c\\ue389ᴋ\\u17ec\\ue93aﺌ蒇㸆䌘柷﨏䠊\\uf2ecІᑂ焊肓➂\\uee57浭\\ue331垏\\uda63꿄쨔ᡯ䰪ֻ嶷췏鋚寑庉溸耠졨愶ȶᅽ㡷ക麝ً溣㢜ꉌ玸鋝⿐䷧瀦\\u245b㢤에諼⍰ႎ뒊摃\\ue4ab易힢ᇤ브茥趚갫僚ፌⴒ鞠냳蜲檔ᖟ꯬䶦\\u12b7᠑봥ၸ쎄쥎ǅ溮渿\\u0bd2㑆쳭㛵\\ue994銵樍⽄蟃眇̍ꙕ᧼至塥紑伪鈨쮙ሊ옳ረ榹譕긾柇ᶧ䑌㫽⠛际鳰핗桮ꤚᐖ\\uf608泄שּׁ᭬맍⁜虔薡ᴋ\\u17ec\\ue93aﺌ앿赵㡨愳嫦쩽䪍欀\\uf39eߍ嶩蛂\\uf006がꍨ绎\\uf733妓⏹㔑୯沴ሜȂ炀蟔땵녒㎖Ⲝ癟묈콏뜑뚱썲ᖟ꯬䶦\\u12b7᠑봥ၸ쎄工\\uee19拜\\uf809긾柇ᶧ䑌䧳꣖陰邕\\ue6f6譔\\u082f\\u192e췊疽黵\\uda15ᱍ傡蛇\\udb00Ꭹ浝⡶䟺慲翇\\udbf4䦞縣ꆊ뗨\\ud938৩메ﲎ\\uf2ea骯ॎ\\uf55b\\u0ff7腺ꎈૡӲ᠑봥ၸ쎄蚤\\uf0ad\\udec2彬쌧㦐塺擱缀室酙ṉᰎ\\ue6efⵌ䎺\\udd53뜲ꆂﻅ\\ue6f6譔\\u082f\\u192e췊疽黵\\uda15㹓ꚟ\\x88潳龝仇ϩ꼹̩\\uf2b5䋄ྦྷ\\u0bd2㑆쳭㛵鐀龻\\uec81敓虨ఛ摫ⶺ䱔ള\\uea99鄱痩痕ሧ\\uda10ỷ反䛸ࡖᐺ㉿̀䢯꙱ᡳ\\ufada청趶҇䤯듔휅昦㾭ﯨ燓㉍嶉꣦䬜箲珠檞呝謾䈫\\ue76c鳇\\uf715趤ﳹً溣㢜ꉌ\\ue994銵樍⽄蟃眇̍ꙕ꙱ᡳ\\ufada청傁Ů㧜㬛蒺씞郏婢\\udd26仈⧦ꝩ鞶艏柕ㇶ戔첔ⓜ﴿䤨뇫特氋⸪㣾붕ឆ켰龷葔ꁱ僅㿑䝔㭬䒧⪉\\ue063螆휅昦㾭ﯨ裟ብ빪㪳龝ȩ瞟㍧ﾋ⚔\\ue407\\ue2e8塿ᐜ픯踴\\ue5b7\\u0e79\\uf50d쪠㒶ᐻϑ鑫涁ᔋ煘黃킶\\ue979㉑\\udb33ꞟ탤嗪歪圁ಠ殔٨弛\\uf81c\\ued9e쩚긄ᱳ투栺퉠豆潏\\ufae2ݝ\\u0d50⬍엇醎\\ued6eꩄ귍쿄\\ud84cꥤ琉㽻䱢捤\\uee65礊髪鋨ꔛ뀣끞这戜實럍䰜\\ue367狆힌詖\\udd92୯沴ሜȂ볲㈹✘ᰶ啯⑅ꮎ䁬꼱灻龙Ἒ\\udfd6⪸답ዼ絃\\ue159렳ᯁ虜莾ꯂꠀ\\ue6f6譔\\u082f\\u192e췊疽黵\\uda15ꞟ탤嗪歪訸驄폫遾甃ⱐ锥誫맍⁜虔薡℩蘘㑬\\uf27a㔹ʹꫣ♎刊帄툮㐓Ⲧ헝誈ቝᎩ浝⡶䟺謁婗\\ufe6f⑰憛\\uf797呦钒쀬ꀔൿᶍ\\uf3ed껀잦⓷\\ue994銵樍⽄蟃眇̍ꙕ헙鏖ꦤ\\ue5c2⫙窤渤ꑔ虰稉ꗧ話㋰嵘陳\\uef9e實럍䰜\\ue367⅝\\ue3f1뜚\\uf883ꏿ◹쟪銚词퓣蓕鿟\\ue6f6譔\\u082f\\u192e췊疽黵\\uda15쬲䗑࠘┗휅昦㾭ﯨ⟋䵂\\u10cb᪀辛\\ud9a0\\uf2cc\\ue953튓輡쮙谝\\u0cd8\\uec56鯠靨䷛\\ud80a禄췰\\uf819艧ḉ恶긄ᱳ투栺㯍។逰皾㹓ꚟ\\x88潳䪡킒钮ꅁᣈ\\uf109룵簳휅昦㾭ﯨ酸诩\\ued8bӶ␛\\uf255\\ueb21ꯛ㱖㠀⺻䥐퐁箔છ咒癴\\udd5a㱨跛㈓㰯ꎡ鈳'"
      ]
     },
     "execution_count": 14,
     "metadata": {},
     "output_type": "execute_result"
    }
   ],
   "source": [
    "# key_ khác key tại bit đầu tiên\n",
    "key_= '1000 0001 0011 0011 0100 0101 0111 0111 1001 1001 1011 1011 1100 1100 1111 1111'.replace(' ','')\n",
    "plainTextDES= DES.decode(ciphertextDES, key_)\n",
    "plainTextDES"
   ]
  },
  {
   "cell_type": "markdown",
   "metadata": {},
   "source": [
    "# Kết hợp DES và RSA\n",
    "\n",
    "Sử dụng DES để mã hóa văn bản, còn RSA để mã hóa khóa của DES.\n",
    "\n",
    "Kịch bản:\n",
    "\n",
    "A muốn gửi cho B một văn bản như sau: 'Mai họp ở trường lúc 8 giờ'\n",
    "\n",
    "A tạo khóa cho DES - keys và dùng khóa đó để mã hóa văn bản được bản mã hóa văn bản.\n",
    "\n",
    "A lấy khóa công khai - public key của B mã hóa keys được bản mã hóa khóa.\n",
    "\n",
    "A gửi cho B 2 văn bản mã hóa:\n",
    "- Bản mã hóa khóa.\n",
    "- Bản mã hóa văn bản.\n",
    "\n",
    "B nhận 2 văn bản từ A.\n",
    "\n",
    "B dùng private key giải mã bản mã hóa khóa và thu được khóa keys.\n",
    "\n",
    "B dùng keys giải mã bản mã hóa văn bản thu được văn bản được gửi.\n"
   ]
  },
  {
   "cell_type": "code",
   "execution_count": 15,
   "metadata": {},
   "outputs": [
    {
     "data": {
      "text/plain": [
       "((1050564529132274693594138445233107259504478785442147395211961090117141912324933649332043844337619718799330554417826092653,\n",
       "  65537),\n",
       " (1050564529132274693594138445233107259504478785442147395211961090117141912324933649332043844337619718799330554417826092653,\n",
       "  940485846532348997866367129740854828800948629657915188017236582744477550274300213401060659323136331022113789087428247873))"
      ]
     },
     "execution_count": 15,
     "metadata": {},
     "output_type": "execute_result"
    }
   ],
   "source": [
    "# Giả định B có publicKey và privateKey như trên\n",
    "publicKey, privateKey"
   ]
  },
  {
   "cell_type": "code",
   "execution_count": 16,
   "metadata": {},
   "outputs": [],
   "source": [
    "# A có văn bản cần chuyền đi như sau:\n",
    "text= 'Mai họp ở trường lúc 8 giờ !!!!!!!!!!!'"
   ]
  },
  {
   "cell_type": "markdown",
   "metadata": {},
   "source": [
    "### Mã hóa"
   ]
  },
  {
   "cell_type": "code",
   "execution_count": 17,
   "metadata": {},
   "outputs": [
    {
     "data": {
      "text/plain": [
       "'1111111011000010111111110101100101100011001011010001010001110011'"
      ]
     },
     "execution_count": 17,
     "metadata": {},
     "output_type": "execute_result"
    }
   ],
   "source": [
    "# A tạo key cho mã hóa DES\n",
    "key= DES.genKey()\n",
    "key"
   ]
  },
  {
   "cell_type": "code",
   "execution_count": 18,
   "metadata": {},
   "outputs": [
    {
     "data": {
      "text/plain": [
       "'⫅᷇㉄瞫퍊ရ\\u0b3a᧡㸂ᑫẛ綬\\uea5e箜\\ue837諪푾瞠폟빓퓟兀筍텐澿ﴟẋ詶\\ud9a7⇸⽨估\\ud9a7⇸⽨估佴챭棡尷'"
      ]
     },
     "execution_count": 18,
     "metadata": {},
     "output_type": "execute_result"
    }
   ],
   "source": [
    "# A mã hóa văn bản sử dụng DES\n",
    "ciphertext= DES.encode(text, key)\n",
    "DES.binToText(ciphertext)"
   ]
  },
  {
   "cell_type": "code",
   "execution_count": 19,
   "metadata": {},
   "outputs": [
    {
     "data": {
      "text/plain": [
       "'3682LsWPa+8QlCRwVHXGhscEzWtrz8vQU1Kd-26SBPdSaNAzktXLZ6QRXg8CKIvC1EV 1BWqh1XI8fhlLfqTZhltmqNYiB1ZfgDpeEFkjqkIitUF2xmY6KshtR3+SMzeDmKl+K+ 5g3jT9tHA2qWtEbQkGth7WagULpcD3OUUq81Nu-dFd62sp7AVm79qI+uRBkANpEgtZd '"
      ]
     },
     "execution_count": 19,
     "metadata": {},
     "output_type": "execute_result"
    }
   ],
   "source": [
    "# A dùng public_key của B để mã hóa khóa\n",
    "cipherkey= RSA.encode(publicKey, key)\n",
    "cipherkey"
   ]
  },
  {
   "cell_type": "code",
   "execution_count": 20,
   "metadata": {},
   "outputs": [],
   "source": [
    "# A gửi cho B cipherkey và ciphertext"
   ]
  },
  {
   "cell_type": "markdown",
   "metadata": {},
   "source": [
    "### Giải mã"
   ]
  },
  {
   "cell_type": "code",
   "execution_count": 21,
   "metadata": {},
   "outputs": [
    {
     "data": {
      "text/plain": [
       "'1111111011000010111111110101100101100011001011010001010001110011'"
      ]
     },
     "execution_count": 21,
     "metadata": {},
     "output_type": "execute_result"
    }
   ],
   "source": [
    "# B lấy cipherkey, dùng privateKey để giải\n",
    "plainkey= RSA.decode(privateKey, cipherkey)\n",
    "plainkey"
   ]
  },
  {
   "cell_type": "code",
   "execution_count": 22,
   "metadata": {},
   "outputs": [
    {
     "data": {
      "text/plain": [
       "'Mai họp ở trường lúc 8 giờ !!!!!!!!!!!'"
      ]
     },
     "execution_count": 22,
     "metadata": {},
     "output_type": "execute_result"
    }
   ],
   "source": [
    "# Dùng plainKey để giải mã ciphertext\n",
    "plaintex= DES.decode(ciphertext, plainkey)\n",
    "plaintex"
   ]
  },
  {
   "cell_type": "markdown",
   "metadata": {},
   "source": [
    "# Triple DES"
   ]
  },
  {
   "cell_type": "code",
   "execution_count": 24,
   "metadata": {},
   "outputs": [],
   "source": [
    "import tripleDES"
   ]
  },
  {
   "cell_type": "code",
   "execution_count": 25,
   "metadata": {},
   "outputs": [],
   "source": [
    "key1= DES.genKey()\n",
    "key2= DES.genKey()\n",
    "key3= DES.genKey()"
   ]
  },
  {
   "cell_type": "code",
   "execution_count": 29,
   "metadata": {},
   "outputs": [
    {
     "data": {
      "text/plain": [
       "'Ĭ༅ꢸꙂ緯왛謡\\u0880⭭麕뎞閫욶蠄꺩\\uf485如饭탛๛ᐝ\\uf34d㸳ᠢ㳆뛽Е哲웬\\uedc6莿\\udc9c웬\\uedc6莿\\udc9c\\uf495둸᜴钹'"
      ]
     },
     "execution_count": 29,
     "metadata": {},
     "output_type": "execute_result"
    }
   ],
   "source": [
    "ciphertext= tripleDES.encode(text, key1, key2, key3)\n",
    "DES.binToText(ciphertext)"
   ]
  },
  {
   "cell_type": "code",
   "execution_count": 30,
   "metadata": {},
   "outputs": [],
   "source": [
    "plaintex= tripleDES.decode(ciphertext, key1, key2, key3)"
   ]
  },
  {
   "cell_type": "code",
   "execution_count": 31,
   "metadata": {},
   "outputs": [
    {
     "data": {
      "text/plain": [
       "'Mai họp ở trường lúc 8 giờ !!!!!!!!!!!'"
      ]
     },
     "execution_count": 31,
     "metadata": {},
     "output_type": "execute_result"
    }
   ],
   "source": [
    "plaintex"
   ]
  },
  {
   "cell_type": "code",
   "execution_count": null,
   "metadata": {},
   "outputs": [],
   "source": []
  }
 ],
 "metadata": {
  "kernelspec": {
   "display_name": "Python 3",
   "language": "python",
   "name": "python3"
  },
  "language_info": {
   "codemirror_mode": {
    "name": "ipython",
    "version": 3
   },
   "file_extension": ".py",
   "mimetype": "text/x-python",
   "name": "python",
   "nbconvert_exporter": "python",
   "pygments_lexer": "ipython3",
   "version": "3.7.4"
  }
 },
 "nbformat": 4,
 "nbformat_minor": 2
}
