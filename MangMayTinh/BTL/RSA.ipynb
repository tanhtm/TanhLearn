{
 "cells": [
  {
   "cell_type": "markdown",
   "metadata": {},
   "source": [
    "Bài tập lớn - Mạng máy tính\n",
    "=============================\n",
    "# Mã hóa RSA"
   ]
  },
  {
   "cell_type": "markdown",
   "metadata": {},
   "source": [
    "## 1. Các hàm toán học\n",
    "\n",
    "### 1.1. Hàm tính lũy thừa\n",
    "Hàm trả về kết quả của phép tính: $a^b \\mod m$\n",
    "\n",
    "Trong đó $a,b,m$ là các số nguyên lớn bất kỳ.\n",
    "\n",
    "Thông tin hàm:\n",
    "- Tên hàm: **powMod**\n",
    "- Đầu vào: $a, b, m$ là các số nguyên **lớn** bất kỳ\n",
    "- Đầu ra: Một số nguyên là kết quả của phép tính $a^b \\mod m$\n",
    "\n",
    "#### Code:"
   ]
  },
  {
   "cell_type": "code",
   "execution_count": 1,
   "metadata": {},
   "outputs": [],
   "source": [
    "def powMod(a, b, m):\n",
    "    x = []\n",
    "    while b != 0:\n",
    "        x.append(b & 1)\n",
    "        b = b >> 1\n",
    "    sz = len(x)\n",
    "    po = [a%m]\n",
    "    for i in range(1,sz):\n",
    "        p = (po[i-1]*po[i-1])%m\n",
    "        po.append(p)\n",
    "    r = 1\n",
    "    for i in range(sz):\n",
    "        if(x[i] != 0):\n",
    "            r*= po[i]\n",
    "            r%= m\n",
    "    return r"
   ]
  },
  {
   "cell_type": "markdown",
   "metadata": {},
   "source": [
    "#### Test:"
   ]
  },
  {
   "cell_type": "code",
   "execution_count": 3,
   "metadata": {},
   "outputs": [
    {
     "name": "stdout",
     "output_type": "stream",
     "text": [
      "Hàm pow:\n",
      "Kết quả : 98965368137705464391352948556524895605932214432542550560650265261249453682328934925613448551671736435551146186870735366354732489119004896942406121108155845094939582335954431484122641973997595264277588480296778653639480133982029600661136068292140536237077028973936445035553967062309088361084753578657358314935587348113851560437388425296765407651471115607613715498156253322515229223028370386545018897287757567136842386834048528159390842401143128367372235281\n",
      "Thời gian : 0.018508\n",
      "Hàm powMod:\n",
      "Kết quả : 98965368137705464391352948556524895605932214432542550560650265261249453682328934925613448551671736435551146186870735366354732489119004896942406121108155845094939582335954431484122641973997595264277588480296778653639480133982029600661136068292140536237077028973936445035553967062309088361084753578657358314935587348113851560437388425296765407651471115607613715498156253322515229223028370386545018897287757567136842386834048528159390842401143128367372235281\n",
      "Thời gian : 0.028668\n"
     ]
    }
   ],
   "source": [
    "import time\n",
    "\n",
    "a= 22**300\n",
    "b= 11**300\n",
    "m= 33**300\n",
    "\n",
    "ticks = time.time()\n",
    "k= pow(a,b,m)\n",
    "print('Hàm pow:')\n",
    "print('Kết quả : %d' % k)\n",
    "print('Thời gian : %f' % (time.time() - ticks))\n",
    "ticks = time.time()\n",
    "k= powMod(a,b,m)\n",
    "print('Hàm powMod:')\n",
    "print('Kết quả : %d' % k)\n",
    "print('Thời gian : %f' % (time.time() - ticks))"
   ]
  },
  {
   "cell_type": "markdown",
   "metadata": {},
   "source": [
    "### 1.2. Hàm tính ước chung lớn nhất\n",
    "\n",
    "Hàm tính toán ước chung lớn nhất bằng giải thuật **Euclid**\n",
    "#### a. Giải thuật Euclid\n",
    "Thông tin hàm:\n",
    "- Tên hàm: **GCD** \n",
    "- Đầu vào: 2 số $a, b$ lớn tùy ý.\n",
    "- Đầu ra: Một số nguyên là ước chung của 2 số $a$ và $b$.\n",
    "\n",
    "Code:"
   ]
  },
  {
   "cell_type": "code",
   "execution_count": 3,
   "metadata": {},
   "outputs": [],
   "source": [
    "def GCD(a, b):\n",
    "    if b == 0:\n",
    "        return a\n",
    "    return GCD(b, a%b)"
   ]
  },
  {
   "cell_type": "code",
   "execution_count": 4,
   "metadata": {},
   "outputs": [
    {
     "data": {
      "text/plain": [
       "12"
      ]
     },
     "execution_count": 4,
     "metadata": {},
     "output_type": "execute_result"
    }
   ],
   "source": [
    "GCD(24,36)"
   ]
  },
  {
   "cell_type": "markdown",
   "metadata": {},
   "source": [
    "#### b. Giải thuật Euclid mở rộng\n",
    "\n",
    "Thông tin hàm:\n",
    "- Tên hàm: **GCD_extended**\n",
    "- Đầu vào: 2 số nguyên $x, y$ lớn tùy ý\n",
    "- Đầu ra: 3 số nguyên $a, b, c$ thỏa mã: $ax + by = c$, $c= GCD(x,y)$. "
   ]
  },
  {
   "cell_type": "code",
   "execution_count": 5,
   "metadata": {},
   "outputs": [],
   "source": [
    "def GCD_extended(x, y):\n",
    "    u1, u2, u3 = 1, 0, x\n",
    "    v1, v2, v3 = 0, 1, y\n",
    "    while v3 != 0:\n",
    "        q = u3//v3\n",
    "        t1, t2, t3 = u1 - q*v1, u2 - q*v2, u3 - q*v3\n",
    "        u1, u2, u3 = v1, v2, v3\n",
    "        v1, v2, v3 = t1, t2, t3\n",
    "    a, b, c= u1, u2, u3\n",
    "    return a, b, c"
   ]
  },
  {
   "cell_type": "code",
   "execution_count": 6,
   "metadata": {},
   "outputs": [
    {
     "data": {
      "text/plain": [
       "(-1, 1, 12)"
      ]
     },
     "execution_count": 6,
     "metadata": {},
     "output_type": "execute_result"
    }
   ],
   "source": [
    "GCD_extended(24,36)"
   ]
  },
  {
   "cell_type": "markdown",
   "metadata": {},
   "source": [
    "### 1.3. Đổi cơ số "
   ]
  },
  {
   "cell_type": "code",
   "execution_count": 7,
   "metadata": {},
   "outputs": [],
   "source": [
    "dig =\"0123456789ABCDEFGHIJKLMNOPQRSTUVWXYZabcdefghijklmnopqrstuvwxyz-+\"\n",
    "def getId(ch):\n",
    "    if ch == '-':\n",
    "        return 62\n",
    "    if ch == '+':\n",
    "        return 63\n",
    "    if ch <= '9':\n",
    "        return int(ch)\n",
    "    if ch <= 'Z':\n",
    "        return ord(ch) - ord('A') + 10\n",
    "    return ord(ch) - ord('a') + 36\n",
    "\n",
    "def toBase(a, base):\n",
    "    r = \"\"\n",
    "    while a != 0:\n",
    "        r+=dig[a % base]\n",
    "        a //= base\n",
    "    r = r[::-1]\n",
    "    return r;\n",
    "\n",
    "def toInt(r, base):\n",
    "    a = 0;\n",
    "    for i in r:\n",
    "        a*= base\n",
    "        a+= getId(i)\n",
    "    return a"
   ]
  },
  {
   "cell_type": "markdown",
   "metadata": {},
   "source": [
    "## 2. Kiểm trả tính nguyên tố (Giả nguyên tố)\n",
    "\n",
    "### 2.1. Số nguyên tố nhỏ"
   ]
  },
  {
   "cell_type": "code",
   "execution_count": 8,
   "metadata": {},
   "outputs": [],
   "source": [
    "sprime = [2, 3, 5, 7, 11, 13, 17, 19, 23, 29, 31, 37, 41, 43, 47, 53, 59, 61, 67, 71, 73, 79, 83, 89, 97, 101, 103, 107, 109, 113, 127, 131, 137, 139, 149, 151, 157, 163, 167, 173, 179, 181, 191, 193, 197, 199, 211, 223, 227, 229, 233, 239, 241, 251, 257, 263, 269, 271, 277, 281, 283, 293, 307, 311, 313, 317, 331, 337, 347, 349, 353, 359, 367, 373, 379, 383, 389, 397, 401, 409, 419, 421, 431, 433, 439, 443, 449, 457, 461, 463, 467, 479, 487, 491, 499, 503, 509, 521, 523, 541, 547, 557, 563, 569, 571, 577, 587, 593, 599, 601, 607, 613, 617, 619, 631, 641, 643, 647, 653, 659, 661, 673, 677, 683, 691, 701, 709, 719, 727, 733, 739, 743, 751, 757, 761, 769, 773, 787, 797, 809, 811, 821, 823, 827, 829, 839, 853, 857, 859, 863, 877, 881, 883, 887, 907, 911, 919, 929, 937, 941, 947, 953, 967, 971, 977, 983, 991, 997, 1009, 1013, 1019, 1021, 1031, 1033, 1039, 1049, 1051, 1061, 1063, 1069, 1087, 1091, 1093, 1097, 1103, 1109, 1117, 1123, 1129, 1151, 1153, 1163, 1171, 1181, 1187, 1193, 1201, 1213, 1217, 1223, 1229, 1231, 1237, 1249, 1259, 1277, 1279, 1283, 1289, 1291, 1297, 1301, 1303, 1307, 1319, 1321, 1327, 1361, 1367, 1373, 1381, 1399, 1409, 1423, 1427, 1429, 1433, 1439, 1447, 1451, 1453, 1459, 1471, 1481, 1483, 1487, 1489, 1493, 1499, 1511, 1523, 1531, 1543, 1549, 1553, 1559, 1567, 1571, 1579, 1583, 1597, 1601, 1607, 1609, 1613, 1619, 1621, 1627, 1637, 1657, 1663, 1667, 1669, 1693, 1697, 1699, 1709, 1721, 1723, 1733, 1741, 1747, 1753, 1759, 1777, 1783, 1787, 1789, 1801, 1811, 1823, 1831, 1847, 1861, 1867, 1871, 1873, 1877, 1879, 1889, 1901, 1907, 1913, 1931, 1933, 1949, 1951, 1973, 1979, 1987, 1993, 1997, 1999, 2003, 2011, 2017, 2027, 2029, 2039, 2053, 2063, 2069, 2081, 2083, 2087, 2089, 2099, 2111, 2113, 2129, 2131, 2137, 2141, 2143, 2153, 2161, 2179, 2203, 2207, 2213, 2221, 2237, 2239, 2243, 2251, 2267, 2269, 2273, 2281, 2287, 2293, 2297, 2309, 2311, 2333, 2339, 2341, 2347, 2351, 2357, 2371, 2377, 2381, 2383, 2389, 2393, 2399, 2411, 2417, 2423, 2437, 2441, 2447, 2459, 2467, 2473, 2477, 2503, 2521, 2531, 2539, 2543, 2549, 2551, 2557, 2579, 2591, 2593, 2609, 2617, 2621, 2633, 2647, 2657, 2659, 2663, 2671, 2677, 2683, 2687, 2689, 2693, 2699, 2707, 2711, 2713, 2719, 2729, 2731, 2741, 2749, 2753, 2767, 2777, 2789, 2791, 2797, 2801, 2803, 2819, 2833, 2837, 2843, 2851, 2857, 2861, 2879, 2887, 2897, 2903, 2909, 2917, 2927, 2939, 2953, 2957, 2963, 2969, 2971, 2999, 3001, 3011, 3019, 3023, 3037, 3041, 3049, 3061, 3067, 3079, 3083, 3089, 3109, 3119, 3121, 3137, 3163, 3167, 3169, 3181, 3187, 3191, 3203, 3209, 3217, 3221, 3229, 3251, 3253, 3257, 3259, 3271, 3299, 3301, 3307, 3313, 3319, 3323, 3329, 3331, 3343, 3347, 3359, 3361, 3371, 3373, 3389, 3391, 3407, 3413, 3433, 3449, 3457, 3461, 3463, 3467, 3469, 3491, 3499, 3511, 3517, 3527, 3529, 3533, 3539, 3541, 3547, 3557, 3559, 3571, 3581, 3583, 3593, 3607, 3613, 3617, 3623, 3631, 3637, 3643, 3659, 3671, 3673, 3677, 3691, 3697, 3701, 3709, 3719, 3727, 3733, 3739, 3761, 3767, 3769, 3779, 3793, 3797, 3803, 3821, 3823, 3833, 3847, 3851, 3853, 3863, 3877, 3881, 3889, 3907, 3911, 3917, 3919, 3923, 3929, 3931, 3943, 3947, 3967, 3989, 4001, 4003, 4007, 4013, 4019, 4021, 4027, 4049, 4051, 4057, 4073, 4079, 4091, 4093, 4099, 4111, 4127, 4129, 4133, 4139, 4153, 4157, 4159, 4177, 4201, 4211, 4217, 4219, 4229, 4231, 4241, 4243, 4253, 4259, 4261, 4271, 4273, 4283, 4289, 4297, 4327, 4337, 4339, 4349, 4357, 4363, 4373, 4391, 4397, 4409, 4421, 4423, 4441, 4447, 4451, 4457, 4463, 4481, 4483, 4493, 4507, 4513, 4517, 4519, 4523, 4547, 4549, 4561, 4567, 4583, 4591, 4597, 4603, 4621, 4637, 4639, 4643, 4649, 4651, 4657, 4663, 4673, 4679, 4691, 4703, 4721, 4723, 4729, 4733, 4751, 4759, 4783, 4787, 4789, 4793, 4799, 4801, 4813, 4817, 4831, 4861, 4871, 4877, 4889, 4903, 4909, 4919, 4931, 4933, 4937, 4943, 4951, 4957, 4967, 4969, 4973, 4987, 4993, 4999, 5003, 5009, 5011, 5021, 5023, 5039, 5051, 5059, 5077, 5081, 5087, 5099, 5101, 5107, 5113, 5119, 5147, 5153, 5167, 5171, 5179, 5189, 5197, 5209, 5227, 5231, 5233, 5237, 5261, 5273, 5279, 5281, 5297, 5303, 5309, 5323, 5333, 5347, 5351, 5381, 5387, 5393, 5399, 5407, 5413, 5417, 5419, 5431, 5437, 5441, 5443, 5449, 5471, 5477, 5479, 5483, 5501, 5503, 5507, 5519, 5521, 5527, 5531, 5557, 5563, 5569, 5573, 5581, 5591, 5623, 5639, 5641, 5647, 5651, 5653, 5657, 5659, 5669, 5683, 5689, 5693, 5701, 5711, 5717, 5737, 5741, 5743, 5749, 5779, 5783, 5791, 5801, 5807, 5813, 5821, 5827, 5839, 5843, 5849, 5851, 5857, 5861, 5867, 5869, 5879, 5881, 5897, 5903, 5923, 5927, 5939, 5953, 5981, 5987, 6007, 6011, 6029, 6037, 6043, 6047, 6053, 6067, 6073, 6079, 6089, 6091, 6101, 6113, 6121, 6131, 6133, 6143, 6151, 6163, 6173, 6197, 6199, 6203, 6211, 6217, 6221, 6229, 6247, 6257, 6263, 6269, 6271, 6277, 6287, 6299, 6301, 6311, 6317, 6323, 6329, 6337, 6343, 6353, 6359, 6361, 6367, 6373, 6379, 6389, 6397, 6421, 6427, 6449, 6451, 6469, 6473, 6481, 6491, 6521, 6529, 6547, 6551, 6553, 6563, 6569, 6571, 6577, 6581, 6599, 6607, 6619, 6637, 6653, 6659, 6661, 6673, 6679, 6689, 6691, 6701, 6703, 6709, 6719, 6733, 6737, 6761, 6763, 6779, 6781, 6791, 6793, 6803, 6823, 6827, 6829, 6833, 6841, 6857, 6863, 6869, 6871, 6883, 6899, 6907, 6911, 6917, 6947, 6949, 6959, 6961, 6967, 6971, 6977, 6983, 6991, 6997, 7001, 7013, 7019, 7027, 7039, 7043, 7057, 7069, 7079, 7103, 7109, 7121, 7127, 7129, 7151, 7159, 7177, 7187, 7193, 7207, 7211, 7213, 7219, 7229, 7237, 7243, 7247, 7253, 7283, 7297, 7307, 7309, 7321, 7331, 7333, 7349, 7351, 7369, 7393, 7411, 7417, 7433, 7451, 7457, 7459, 7477, 7481, 7487, 7489, 7499, 7507, 7517, 7523, 7529, 7537, 7541, 7547, 7549, 7559, 7561, 7573, 7577, 7583, 7589, 7591, 7603, 7607, 7621, 7639, 7643, 7649, 7669, 7673, 7681, 7687, 7691, 7699, 7703, 7717, 7723, 7727, 7741, 7753, 7757, 7759, 7789, 7793, 7817, 7823, 7829, 7841, 7853, 7867, 7873, 7877, 7879, 7883, 7901, 7907, 7919]\n",
    "\n",
    "def Preprocessor(a):\n",
    "    for i in sprime:\n",
    "        if a == i:\n",
    "            return True\n",
    "        if a % i == 0:\n",
    "            return False\n",
    "    return True"
   ]
  },
  {
   "cell_type": "code",
   "execution_count": 9,
   "metadata": {
    "scrolled": true
   },
   "outputs": [
    {
     "data": {
      "text/plain": [
       "1000"
      ]
     },
     "execution_count": 9,
     "metadata": {},
     "output_type": "execute_result"
    }
   ],
   "source": [
    "len(sprime)"
   ]
  },
  {
   "cell_type": "markdown",
   "metadata": {},
   "source": [
    "### 2.2. Kiểm tra nguyên tố với định lý Fermat nhỏ\n",
    "\n",
    "- Ý nghĩa: Kiểm tra số p sử dụng định lý Fermat nhỏ với x cơ sở.\n",
    "    - Kiến thức:\n",
    "      - Định lý Fermat nhỏ: $a^{(p-1)} ≡ 1(\\mod p)$ ($p$: số nguyên tố và $a$ không chia hết cho $p$)\n",
    "      - Số giả nguyên tố cơ sở\n",
    "    - Code:"
   ]
  },
  {
   "cell_type": "code",
   "execution_count": 10,
   "metadata": {},
   "outputs": [],
   "source": [
    "# Fermat's little theorem\n",
    "def Fermat(p,x):\n",
    "    for i in range(x): #check x base\n",
    "        a = sprime[i]\n",
    "        if powMod(a,p-1,p) != 1:\n",
    "            return False\n",
    "    return True"
   ]
  },
  {
   "cell_type": "markdown",
   "metadata": {},
   "source": [
    "### 2.3. Miller_Rabin(p, x):\n",
    "\n",
    "Ý nghĩa: Kiểm tra Miller- Rabin với x cơ sở\n",
    "\n",
    "Kiến thức: n là số nguyên dương lẻ, $n-1 =2^{s*m}$, n trải qua Miller cơ sở b nếu $b^t ≡ 1 mod{n}$ hoặc $b^{2^jt} ≡ -1 \\mod{n}$ với j nào đó $0 ≤ j ≤ s-1$"
   ]
  },
  {
   "cell_type": "code",
   "execution_count": 11,
   "metadata": {},
   "outputs": [],
   "source": [
    "# Miller–Rabin primality test\n",
    "# Q(a,p,m,s) = 1 nếu p trải qua Miller-Rabin cơ sở a\n",
    "def Q(a, p, m, s):\n",
    "    x = powMod(a,m,p)\n",
    "    if x == 1:\n",
    "        return True\n",
    "    for i in range(0,s+1):\n",
    "        if x == p - 1:\n",
    "            return True\n",
    "        x *= x\n",
    "        x %= p\n",
    "    return False\n",
    "\n",
    "def Miller_Rabin(p, x):\n",
    "    # x : the number of bases\n",
    "    # p - 1 = m*2^s (m is odd)\n",
    "    n = p - 1\n",
    "    s = 0\n",
    "    while n & 1 == 0:\n",
    "        n = n >> 1\n",
    "        s+= 1\n",
    "    m = n\n",
    "    for i in range(x):\n",
    "        a = sprime[i]\n",
    "        if Q(a,p,m,s) == False:\n",
    "            return False\n",
    "    return True"
   ]
  },
  {
   "cell_type": "markdown",
   "metadata": {},
   "source": [
    "## 3. Sinh số nguyên tố lớn\n",
    "\n",
    "Sinh 2 số nguyên tố $p, q$ $b$ bits"
   ]
  },
  {
   "cell_type": "code",
   "execution_count": 12,
   "metadata": {},
   "outputs": [],
   "source": [
    "import random\n",
    "\n",
    "def Random (b):\n",
    "    a = random.getrandbits(b)\n",
    "    a = a | (1 << (b-1))\n",
    "    a = a | 1\n",
    "    return a;\n",
    "\n",
    "def getPrime(b):\n",
    "    p = Random(b)\n",
    "    d1 = d2 = d3 = 0\n",
    "    while True:\n",
    "        d1+= 1\n",
    "        if Preprocessor(p) == False:\n",
    "            p+= 2\n",
    "            continue\n",
    "        d2+=1\n",
    "        if Fermat(p,20) == False:\n",
    "            p+= 2\n",
    "            continue\n",
    "        d3+=1\n",
    "        if Miller_Rabin(p,20) == False:\n",
    "            p+= 2\n",
    "            continue\n",
    "        break\n",
    "#     print(d1)\n",
    "#     print(d2)\n",
    "#     print(d3)\n",
    "    return p"
   ]
  },
  {
   "cell_type": "code",
   "execution_count": 13,
   "metadata": {},
   "outputs": [
    {
     "name": "stdout",
     "output_type": "stream",
     "text": [
      "p: 926765092133881109498939392410229398333989039521679186788523\n",
      "q: 1450990752126455840789384267212869132024194626507726517971919\n"
     ]
    }
   ],
   "source": [
    "bits= 200\n",
    "p = getPrime(bits)\n",
    "q = getPrime(bits)\n",
    "fo = open(\"Data/BigPrime.txt\",\"w\")\n",
    "fo.write(str(p)+'\\n')\n",
    "fo.write(str(q))\n",
    "fo.close()\n",
    "print('p: %d' % p)\n",
    "print('q: %d' % q)"
   ]
  },
  {
   "cell_type": "markdown",
   "metadata": {},
   "source": [
    "## 4. Mã hóa RSA\n",
    "\n",
    "### 4.1. Tạo khóa\n",
    "- Lấy 2 số $p,q$\n",
    "- Gắn $n = p*q$, $φ(n) = (p-1)(q-1)$\n",
    "- Lấy $e$ sao cho $(e, φ(n)) = 1$\n",
    "- Gắn $d$ là nghịch đảo modulo $\\phi$ của $e$, xử dụng **GCD_extended**"
   ]
  },
  {
   "cell_type": "code",
   "execution_count": 14,
   "metadata": {},
   "outputs": [
    {
     "name": "stdout",
     "output_type": "stream",
     "text": [
      "n: 1344727578079884294690501523490133093397296531164326676953086512603943272569565426860185609740258267879798111908705485637\n",
      "e: 65537\n",
      "d: 393177439479480947477903935076642664993499795995709717926896229488064349488096362125774920366034304371534903412156490169\n"
     ]
    }
   ],
   "source": [
    "def getPQ(file):\n",
    "    fi = open(file,\"r\")\n",
    "    p = int(fi.readline())\n",
    "    q = int(fi.readline())\n",
    "    return p, q\n",
    "\n",
    "def getE(phi):\n",
    "    e = 65537\n",
    "    while True:\n",
    "        if GCD(e,phi) == 1:\n",
    "            break\n",
    "        e+= 2\n",
    "    return e\n",
    "\n",
    "def getD(e, phi):\n",
    "    d = GCD_extended(e,phi)[0] #[x,y,z] #d = x\n",
    "    if d < 0:\n",
    "        d+= phi\n",
    "    return d\n",
    "\n",
    "\n",
    "p, q = getPQ(\"Data/BigPrime.txt\")\n",
    "n = p*q\n",
    "phi = (p-1)*(q-1)\n",
    "e = getE(phi)\n",
    "d = getD(e, phi)\n",
    "fo = open(\"Data/PublicKey.txt\",\"w\")\n",
    "fo.write(str(n)+'\\n'+str(e))\n",
    "fo.close()\n",
    "fo = open(\"Data/PrivateKey.txt\",\"w\")\n",
    "fo.write(str(n)+'\\n'+str(d))\n",
    "fo.close()\n",
    "\n",
    "print('n: %d' % n)\n",
    "print('e: %d' % e)\n",
    "print('d: %d' % d)"
   ]
  },
  {
   "cell_type": "code",
   "execution_count": 15,
   "metadata": {},
   "outputs": [
    {
     "data": {
      "text/plain": [
       "1"
      ]
     },
     "execution_count": 15,
     "metadata": {},
     "output_type": "execute_result"
    }
   ],
   "source": [
    "(d * e) % phi"
   ]
  },
  {
   "cell_type": "markdown",
   "metadata": {},
   "source": [
    "### 4.2. Mã hóa\n",
    "- Lấy khóa công khai $(n, e)$\n",
    "- Lấy bản rõ $P$\n",
    "- Chuyển các kí tự trong $P$ về số theo bản mã `UTF-8` tạo thành mảng các số $R$\n",
    "- Ghép các số trong $R$ thành số lớn nhỏ hơn $n$ thành số $Pi$ rồi mã hóa nó thành $Ci$ với công thức: $Ci ≡ Pi^e \\mod{n}$\n",
    "- In mảng số mới ra file với `cơ số 64`"
   ]
  },
  {
   "cell_type": "code",
   "execution_count": 16,
   "metadata": {},
   "outputs": [],
   "source": [
    "def getPublicKey (file) :\n",
    "    fi = open(file,\"r\")\n",
    "    n = int(fi.readline())\n",
    "    e = int(fi.readline())\n",
    "    fi.close()\n",
    "    return n, e\n",
    "\n",
    "def getPlaintext (file):\n",
    "    fi = open(file,\"r\")\n",
    "    P = fi.read()\n",
    "    fi.close()\n",
    "    return P\n",
    "\n",
    "def convertStringToInt(P, base):\n",
    "    R = []\n",
    "    for i in P:\n",
    "        c = str(ord(i))\n",
    "        while len(c) != base:\n",
    "            c = '0' + c #0000\n",
    "        R.append(c)\n",
    "    return R\n",
    "\n",
    "def createBigInt(R, size_n):\n",
    "    A = []\n",
    "    x = \"\"\n",
    "    for i in R:\n",
    "        if len(x) + len(i) >= size_n: # Tối ưu mã hóa nhiều kí tự nhất có thể\n",
    "            A.append(int(x))\n",
    "            x = \"\"\n",
    "        x+= i\n",
    "    A.append(int(x))\n",
    "    return A\n",
    "\n",
    "def encode(n, e, P, file):\n",
    "    fo = open(file,\"w\")\n",
    "    C = \"\"\n",
    "    R = convertStringToInt(P, 4)\n",
    "    A = createBigInt(R, len(str(n)))\n",
    "    for i in A:\n",
    "        M = powMod(i,e,n)\n",
    "        M = toBase(M,64)\n",
    "        C+= M + ' '\n",
    "        fo.write(M+' ')\n",
    "    fo.close()\n",
    "    return C"
   ]
  },
  {
   "cell_type": "code",
   "execution_count": 17,
   "metadata": {},
   "outputs": [],
   "source": [
    "# Lấy n, e - PublicKey\n",
    "n, e = getPublicKey(\"Data/PublicKey.txt\")\n",
    "\n",
    "# Lấy văn bản cần mà hóa\n",
    "P = getPlaintext(\"Data/Plaintext.txt\")\n",
    "\n",
    "# Mã hóa văn bản\n",
    "C = encode(n, e, P, \"Data/Ciphertext.txt\")"
   ]
  },
  {
   "cell_type": "code",
   "execution_count": 18,
   "metadata": {
    "scrolled": true
   },
   "outputs": [
    {
     "data": {
      "text/plain": [
       "'Thuật toán RSA có hai khóa: khóa công khai (hay khóa công cộng) và khóa bí mật (hay khóa cá nhân). Mỗi khóa là những số cố định sử dụng trong quá trình mã hóa và giải mã. Khóa công khai được công bố rộng rãi cho mọi người và được dùng để mã hóa. Những thông tin được mã hóa bằng khóa công khai chỉ có thể được giải mã bằng khóa bí mật tương ứng. Nói cách khác, mọi người đều có thể mã hóa nhưng chỉ có người biết khóa cá nhân (bí mật) mới có thể giải mã được.\\n\\nTa có thể mô phỏng trực quan một hệ mật mã khoá công khai như sau: Bình muốn gửi cho An một thông tin mật mà Bình muốn duy nhất An có thể đọc được. Để làm được điều này, An gửi cho Bình một chiếc hộp có khóa đã mở sẵn và giữ lại chìa khóa. Bình nhận chiếc hộp, cho vào đó một tờ giấy viết thư bình thường và khóa lại (như loại khoá thông thường chỉ cần sập chốt lại, sau khi sập chốt khóa ngay cả Bình cũng không thể mở lại được-không đọc lại hay sửa thông tin trong thư được nữa). Sau đó Bình gửi chiếc hộp lại cho An. An mở hộp với chìa khóa của mình và đọc thông tin trong thư. Trong ví dụ này, chiếc hộp với khóa mở đóng vai trò khóa công khai, chiếc chìa khóa chính là khóa bí mật. '"
      ]
     },
     "execution_count": 18,
     "metadata": {},
     "output_type": "execute_result"
    }
   ],
   "source": [
    "P"
   ]
  },
  {
   "cell_type": "code",
   "execution_count": 19,
   "metadata": {
    "scrolled": true
   },
   "outputs": [
    {
     "data": {
      "text/plain": [
       "'4u27kn5GEc4X4jZj75xvrqv769PKAQ0OEv6JwpqPq8LdvULOWX3xe0L3tW7c4w0idsd 4U7pz8pPr9OVYJjb48XYk7lj4NV9qAt5XVuZEHDtqE4M1dOELx5LSv78Jam5G4RzJhc 7tKb-7DVDBXqCTc9PLM64ubnkj7CKDSTe5X1mzVmaE1rnjRuyEfgABVN-pGg4HEcfUv 72ShchSgDFA7TJnopnpdlu-E8QRNMwDrLxKZZlHIZ0WMaY8UjakIqDM+NxQWg6ox6BW 6023IvSC-Ipce7nwfeLyrJZujizjXgaBkH24EwTCfYZcFbvIE0SA1zSN8XLVnDccuv9 7rxtuEklX0mGPh0BKTLHazLTa0T82NgUsr2xDx99DU2oGnXEDywZBvVRrwu2KF4LGgv 1tcdj1NkKxKck6+2avD4gTQW7O9LyZlpt0pqOd6dlO+T49nHLgLM0oqJ8fYZWn1YufK 4o6Tgl7uTisvuQ17f1dSuYoy4YrpziJiVwZrmu8uqRiMI8oSsXN6HWitlddy4xvlBO6 4kMERlvRAJ9m+llwK8vAc-G24R01Kb-Pl3-qI8qg4zoHqNsPADx3+HMFY0WmB+l2toH 6iK-agPoRn4vF8ybXT08wUF1z9BLQ0349p7ApFDZiks6j84uR+ONILlsHASRT9j6Fp9 5dwU8F2Kq7U9fLZAXsVAEXcHsht9QrNVirZffFt1j8HUiC79gN3p4CGpG0MqA9JiFle 7gfCc222V6vKhGDyczc-d5RU-3SWWp+uwGWzEI9Zvoy4M0gurSk266dTCBOylGhcxTZ 1CL0hBRzQCjC9K-flMK3WaFofmPSyULX0tqCj2s-8Gunj3T24LXDsTiVZ5G-XzuJsFU 2bRwL-JxppdNSYMkPG2SYdeD9z4ai7OQj+z6wYD1GqZyYyR9X1+Di0J3CodHG+ZcF1b 3ZYRMqLZuXqB0ieL1qN2i2LEdTMzHn4L8lJz4rFTM5mmylldhiXHDOU9uQLM3KygAXI 6M+I3B0y2QYx61z4AU0aq7W0ozYVwE6ux+3FxnnMTbYqSYiSRlDkmZkdUOoN5aLFxXM 5UThdsDMIYbvJq6iqiOjcHlMDykPXCv5Qccixc5gAe6YzrRKD+t5-XK9VbTpCPSMRcb 1Cxck8cavnh8NB2HKBH9hwiDhK4j8CDvqep-LeeL7Vx4diEAMuKpeL+ErSgbU53EBnB 55ylQ19dZK1tOHhCQPbq-aEH+ue0J2fwYAeTqo8i2VgTTLXMuJVCZ9jc0UiU1YYPhTf 2sp7Ju3vB5WxFU5gYRDYxCKDcj69KijT+9WwLv8szGTdsglgPz+XYwLQUoZ-MhMswO7 3Vj2noEXYcVi07puW3SApP8Dg5ppd7osgEGfHr6CxzGIHyNCwE-syFyWEkJPBlb6NOo 5Ru+Uxf76G-qe9fkSoqDqRf2VqVpazzLODnpHo0MGR7Wq60frRImkQq3LkDvt-va65w 3SY89xmrtR2qbtikvATFIaBtp4xVWufXyvNDzNNVvwqhh4-9gj7r2sEwjI8tMdWSQC9 7Hh4D7beMNrDyQGlEboMscyR1-hBl9AQHKN7CBGOP1pb3R66PtdUU8AyvtNvJrI6WkA 2sjxgX7hLtfPDIoFCXapxmiy05ocKaw2OMnmIqWc7F9XUenv0OPBT-GhDXyBBi0v9Bq 5mwJB9CS7xa39uh+WxYfJ6ZY85BgfCwYFyQ0ptD0GzTQmImHCLz-H9yYjfSlOjF5dnL 11ZeU0rNpubqV37mlXIcATyns0wbSAKCNz12TssUqbZRYaVoaakLmxiRbOUKzCewi1M 7+1rIHUU+9iUh-ogqPqRjZu818Rnau-O8Ak7A94hLMUR02HUGybOroGuVIGBrtDjX74 1Az59H8NbZl9QycjgIXT4DZjT-jlgDXtp13-zvLK6o5v-8Us0Uup6oizTkIAARNWCdM 5C9Vt8mCA0f0PbK1f8FQAssO3KJQhaukKxWWzKJyWGbCbJQSIsFWOoi6aNRO8cDl8IJ vuSYIvixIhjpgqnA6SUbj3Gxzxophv-hq9ocYiHM9QRl3q1CpXGooGHRW89KR3bb7H 4SUcXUEffuePdyg5UanrSSkkWmUzpduU1T6uzYe3dTjEGyrnzg4Ij-yM-OpOVpbRyyS 1+MasIoa2X5z-zQxn1BUsvR2dQerTuo1tITX6Kjf5TeHj4XwJUAhK3jHYgBL2PFFR6S 6A0UGhpT2ZHc62BSXTObeng-q+ggyV1P2QulSs-Vt9jHO2-AqLvK4fHsFb7U6I-maDa 54pG1oRAk-Ae9vr66+n0dhVxda5WuW-pLCWDwUcJBPce8G3-ecJeRLkAjGVpc3JBcEz 7D+E3-TjTd4UK8B5kKfrwOFXgmfNcqA0Ff6EQOMRZd1yY82aLtocO5m-ql7D506q6qf 6ADixGhX+FwVeHc+NyUFS0fn-s7caSKfFrUDHTRJw4X2dtKDUgdcCfstP9KO+O9ESgA 2JRSrMZgnpTuL0W+tYEUhDLAUYyGQptRlWapFVOMQq+Y3+iGJLmRHtwVGfXhkO3Y-A7 cm6bHNff8L8xaas5Guz++NpbvZp4zmSLZZ7lwolO0xpeItERUfhXAfSTNuB+Zv2U+4 '"
      ]
     },
     "execution_count": 19,
     "metadata": {},
     "output_type": "execute_result"
    }
   ],
   "source": [
    "C"
   ]
  },
  {
   "cell_type": "markdown",
   "metadata": {},
   "source": [
    "### 4.3 Giải mã\n",
    "- Lấy khóa bảo mật `(n, d)`\n",
    "- Lấy bản mã C trong file chuyển về `cơ số 10`\n",
    "- Lấy từ số trong C là `Ci` giải mã được `Pi` với công thức: $Pi ≡ Ci^d mod n$\n",
    "- Lấy kết quả tách số rồi chuyển về dạng kí tự\n",
    "- In kết quả ra file"
   ]
  },
  {
   "cell_type": "code",
   "execution_count": 20,
   "metadata": {},
   "outputs": [],
   "source": [
    "def getPrivateKey (file) : # file Privatekey\n",
    "    fi = open(file,\"r\")\n",
    "    n = int(fi.readline())\n",
    "    d = int(fi.readline())\n",
    "    fi.close()\n",
    "    return n, d\n",
    "\n",
    "def getCiphertext(file): # file Ciphertext\n",
    "    fi = open(file,\"r\")\n",
    "    C = fi.readline()\n",
    "    C = C.split(\" \")\n",
    "    C = C[:-1]\n",
    "    fi.close()\n",
    "    return C\n",
    "\n",
    "def decode(n, d, C, base, fileOut): # file PlanintextDecode\n",
    "    fo = open(fileOut,\"w\")\n",
    "    P = \"\"\n",
    "    for i in C:\n",
    "        m = powMod(toInt(i,64),d,n)\n",
    "        c = str(m)\n",
    "        while len(c) % base != 0:\n",
    "            c = '0' + c\n",
    "        x = 0\n",
    "        while x != len(c):\n",
    "            a = c[x:x+base]\n",
    "            x+= base\n",
    "            P+= chr(int(a))\n",
    "            fo.write(chr(int(a)))\n",
    "    fo.close()\n",
    "    return P"
   ]
  },
  {
   "cell_type": "code",
   "execution_count": 21,
   "metadata": {},
   "outputs": [],
   "source": [
    "n, d= getPrivateKey(\"Data/PrivateKey.txt\")\n",
    "C= getCiphertext(\"Data/Ciphertext.txt\")\n",
    "P_= decode(n, d, C, 4, \"Data/PlaintextDecode.txt\")"
   ]
  },
  {
   "cell_type": "code",
   "execution_count": 22,
   "metadata": {},
   "outputs": [
    {
     "data": {
      "text/plain": [
       "'Thuật toán RSA có hai khóa: khóa công khai (hay khóa công cộng) và khóa bí mật (hay khóa cá nhân). Mỗi khóa là những số cố định sử dụng trong quá trình mã hóa và giải mã. Khóa công khai được công bố rộng rãi cho mọi người và được dùng để mã hóa. Những thông tin được mã hóa bằng khóa công khai chỉ có thể được giải mã bằng khóa bí mật tương ứng. Nói cách khác, mọi người đều có thể mã hóa nhưng chỉ có người biết khóa cá nhân (bí mật) mới có thể giải mã được.\\n\\nTa có thể mô phỏng trực quan một hệ mật mã khoá công khai như sau: Bình muốn gửi cho An một thông tin mật mà Bình muốn duy nhất An có thể đọc được. Để làm được điều này, An gửi cho Bình một chiếc hộp có khóa đã mở sẵn và giữ lại chìa khóa. Bình nhận chiếc hộp, cho vào đó một tờ giấy viết thư bình thường và khóa lại (như loại khoá thông thường chỉ cần sập chốt lại, sau khi sập chốt khóa ngay cả Bình cũng không thể mở lại được-không đọc lại hay sửa thông tin trong thư được nữa). Sau đó Bình gửi chiếc hộp lại cho An. An mở hộp với chìa khóa của mình và đọc thông tin trong thư. Trong ví dụ này, chiếc hộp với khóa mở đóng vai trò khóa công khai, chiếc chìa khóa chính là khóa bí mật. '"
      ]
     },
     "execution_count": 22,
     "metadata": {},
     "output_type": "execute_result"
    }
   ],
   "source": [
    "P_"
   ]
  },
  {
   "cell_type": "code",
   "execution_count": null,
   "metadata": {},
   "outputs": [],
   "source": []
  }
 ],
 "metadata": {
  "kernelspec": {
   "display_name": "Python 3",
   "language": "python",
   "name": "python3"
  },
  "language_info": {
   "codemirror_mode": {
    "name": "ipython",
    "version": 3
   },
   "file_extension": ".py",
   "mimetype": "text/x-python",
   "name": "python",
   "nbconvert_exporter": "python",
   "pygments_lexer": "ipython3",
   "version": "3.7.3"
  }
 },
 "nbformat": 4,
 "nbformat_minor": 2
}
