{
 "cells": [
  {
   "cell_type": "code",
   "execution_count": 1,
   "metadata": {},
   "outputs": [],
   "source": [
    "# import lib\n",
    "import os\n",
    "import sys\n",
    "sys.path.append(\"src/RSA/\")\n",
    "sys.path.append(\"src/DES/\")\n",
    "import RSA\n",
    "import DES"
   ]
  },
  {
   "cell_type": "code",
   "execution_count": 2,
   "metadata": {},
   "outputs": [
    {
     "data": {
      "text/plain": [
       "'Thuật toán RSA có hai khóa: khóa công khai (hay khóa công cộng) và khóa bí mật (hay khóa cá nhân). Mỗi khóa là những số cố định sử dụng trong quá trình mã hóa và giải mã. Khóa công khai được công bố rộng rãi cho mọi người và được dùng để mã hóa. Những thông tin được mã hóa bằng khóa công khai chỉ có thể được giải mã bằng khóa bí mật tương ứng. Nói cách khác, mọi người đều có thể mã hóa nhưng chỉ có người biết khóa cá nhân (bí mật) mới có thể giải mã được.\\n\\nTa có thể mô phỏng trực quan một hệ mật mã khoá công khai như sau: Bình muốn gửi cho An một thông tin mật mà Bình muốn duy nhất An có thể đọc được. Để làm được điều này, An gửi cho Bình một chiếc hộp có khóa đã mở sẵn và giữ lại chìa khóa. Bình nhận chiếc hộp, cho vào đó một tờ giấy viết thư bình thường và khóa lại (như loại khoá thông thường chỉ cần sập chốt lại, sau khi sập chốt khóa ngay cả Bình cũng không thể mở lại được-không đọc lại hay sửa thông tin trong thư được nữa). Sau đó Bình gửi chiếc hộp lại cho An. An mở hộp với chìa khóa của mình và đọc thông tin trong thư. Trong ví dụ này, chiếc hộp với khóa mở đóng vai trò khóa công khai, chiếc chìa khóa chính là khóa bí mật. '"
      ]
     },
     "execution_count": 2,
     "metadata": {},
     "output_type": "execute_result"
    }
   ],
   "source": [
    "PLAINTEXT      = 'Data/Plaintext.txt'\n",
    "plainText = RSA.getPlaintext(PLAINTEXT)\n",
    "plainText"
   ]
  },
  {
   "cell_type": "markdown",
   "metadata": {},
   "source": [
    "# RSA"
   ]
  },
  {
   "cell_type": "code",
   "execution_count": 3,
   "metadata": {},
   "outputs": [],
   "source": [
    "PUBLICKEY      = 'Data/PublicKey.txt'\n",
    "PRIVATEKEY     = 'Data/PrivateKey.txt'\n",
    "CIPHERTEXT     = 'Data/Ciphertext.txt'\n",
    "PLAINTEXTDECODE= 'Data/PlaintextDecode.txt'"
   ]
  },
  {
   "cell_type": "code",
   "execution_count": 4,
   "metadata": {},
   "outputs": [],
   "source": [
    "publicKey = RSA.getPublicKey(PUBLICKEY)\n",
    "ciphertextRSA= RSA.encode(publicKey, plainText, CIPHERTEXT)"
   ]
  },
  {
   "cell_type": "code",
   "execution_count": 5,
   "metadata": {},
   "outputs": [
    {
     "data": {
      "text/plain": [
       "(1344727578079884294690501523490133093397296531164326676953086512603943272569565426860185609740258267879798111908705485637,\n",
       " 65537)"
      ]
     },
     "execution_count": 5,
     "metadata": {},
     "output_type": "execute_result"
    }
   ],
   "source": [
    "publicKey"
   ]
  },
  {
   "cell_type": "code",
   "execution_count": 6,
   "metadata": {},
   "outputs": [
    {
     "data": {
      "text/plain": [
       "'4u27kn5GEc4X4jZj75xvrqv769PKAQ0OEv6JwpqPq8LdvULOWX3xe0L3tW7c4w0idsd 4U7pz8pPr9OVYJjb48XYk7lj4NV9qAt5XVuZEHDtqE4M1dOELx5LSv78Jam5G4RzJhc 7tKb-7DVDBXqCTc9PLM64ubnkj7CKDSTe5X1mzVmaE1rnjRuyEfgABVN-pGg4HEcfUv 72ShchSgDFA7TJnopnpdlu-E8QRNMwDrLxKZZlHIZ0WMaY8UjakIqDM+NxQWg6ox6BW 6023IvSC-Ipce7nwfeLyrJZujizjXgaBkH24EwTCfYZcFbvIE0SA1zSN8XLVnDccuv9 7rxtuEklX0mGPh0BKTLHazLTa0T82NgUsr2xDx99DU2oGnXEDywZBvVRrwu2KF4LGgv 1tcdj1NkKxKck6+2avD4gTQW7O9LyZlpt0pqOd6dlO+T49nHLgLM0oqJ8fYZWn1YufK 4o6Tgl7uTisvuQ17f1dSuYoy4YrpziJiVwZrmu8uqRiMI8oSsXN6HWitlddy4xvlBO6 4kMERlvRAJ9m+llwK8vAc-G24R01Kb-Pl3-qI8qg4zoHqNsPADx3+HMFY0WmB+l2toH 6iK-agPoRn4vF8ybXT08wUF1z9BLQ0349p7ApFDZiks6j84uR+ONILlsHASRT9j6Fp9 5dwU8F2Kq7U9fLZAXsVAEXcHsht9QrNVirZffFt1j8HUiC79gN3p4CGpG0MqA9JiFle 7gfCc222V6vKhGDyczc-d5RU-3SWWp+uwGWzEI9Zvoy4M0gurSk266dTCBOylGhcxTZ 1CL0hBRzQCjC9K-flMK3WaFofmPSyULX0tqCj2s-8Gunj3T24LXDsTiVZ5G-XzuJsFU 2bRwL-JxppdNSYMkPG2SYdeD9z4ai7OQj+z6wYD1GqZyYyR9X1+Di0J3CodHG+ZcF1b 3ZYRMqLZuXqB0ieL1qN2i2LEdTMzHn4L8lJz4rFTM5mmylldhiXHDOU9uQLM3KygAXI 6M+I3B0y2QYx61z4AU0aq7W0ozYVwE6ux+3FxnnMTbYqSYiSRlDkmZkdUOoN5aLFxXM 5UThdsDMIYbvJq6iqiOjcHlMDykPXCv5Qccixc5gAe6YzrRKD+t5-XK9VbTpCPSMRcb 1Cxck8cavnh8NB2HKBH9hwiDhK4j8CDvqep-LeeL7Vx4diEAMuKpeL+ErSgbU53EBnB 55ylQ19dZK1tOHhCQPbq-aEH+ue0J2fwYAeTqo8i2VgTTLXMuJVCZ9jc0UiU1YYPhTf 2sp7Ju3vB5WxFU5gYRDYxCKDcj69KijT+9WwLv8szGTdsglgPz+XYwLQUoZ-MhMswO7 3Vj2noEXYcVi07puW3SApP8Dg5ppd7osgEGfHr6CxzGIHyNCwE-syFyWEkJPBlb6NOo 5Ru+Uxf76G-qe9fkSoqDqRf2VqVpazzLODnpHo0MGR7Wq60frRImkQq3LkDvt-va65w 3SY89xmrtR2qbtikvATFIaBtp4xVWufXyvNDzNNVvwqhh4-9gj7r2sEwjI8tMdWSQC9 7Hh4D7beMNrDyQGlEboMscyR1-hBl9AQHKN7CBGOP1pb3R66PtdUU8AyvtNvJrI6WkA 2sjxgX7hLtfPDIoFCXapxmiy05ocKaw2OMnmIqWc7F9XUenv0OPBT-GhDXyBBi0v9Bq 5mwJB9CS7xa39uh+WxYfJ6ZY85BgfCwYFyQ0ptD0GzTQmImHCLz-H9yYjfSlOjF5dnL 11ZeU0rNpubqV37mlXIcATyns0wbSAKCNz12TssUqbZRYaVoaakLmxiRbOUKzCewi1M 7+1rIHUU+9iUh-ogqPqRjZu818Rnau-O8Ak7A94hLMUR02HUGybOroGuVIGBrtDjX74 1Az59H8NbZl9QycjgIXT4DZjT-jlgDXtp13-zvLK6o5v-8Us0Uup6oizTkIAARNWCdM 5C9Vt8mCA0f0PbK1f8FQAssO3KJQhaukKxWWzKJyWGbCbJQSIsFWOoi6aNRO8cDl8IJ vuSYIvixIhjpgqnA6SUbj3Gxzxophv-hq9ocYiHM9QRl3q1CpXGooGHRW89KR3bb7H 4SUcXUEffuePdyg5UanrSSkkWmUzpduU1T6uzYe3dTjEGyrnzg4Ij-yM-OpOVpbRyyS 1+MasIoa2X5z-zQxn1BUsvR2dQerTuo1tITX6Kjf5TeHj4XwJUAhK3jHYgBL2PFFR6S 6A0UGhpT2ZHc62BSXTObeng-q+ggyV1P2QulSs-Vt9jHO2-AqLvK4fHsFb7U6I-maDa 54pG1oRAk-Ae9vr66+n0dhVxda5WuW-pLCWDwUcJBPce8G3-ecJeRLkAjGVpc3JBcEz 7D+E3-TjTd4UK8B5kKfrwOFXgmfNcqA0Ff6EQOMRZd1yY82aLtocO5m-ql7D506q6qf 6ADixGhX+FwVeHc+NyUFS0fn-s7caSKfFrUDHTRJw4X2dtKDUgdcCfstP9KO+O9ESgA 2JRSrMZgnpTuL0W+tYEUhDLAUYyGQptRlWapFVOMQq+Y3+iGJLmRHtwVGfXhkO3Y-A7 cm6bHNff8L8xaas5Guz++NpbvZp4zmSLZZ7lwolO0xpeItERUfhXAfSTNuB+Zv2U+4 '"
      ]
     },
     "execution_count": 6,
     "metadata": {},
     "output_type": "execute_result"
    }
   ],
   "source": [
    "ciphertextRSA"
   ]
  },
  {
   "cell_type": "code",
   "execution_count": 7,
   "metadata": {},
   "outputs": [],
   "source": [
    "privateKey= RSA.getPrivateKey(PRIVATEKEY)\n",
    "ciphertextRSA= RSA.getCiphertext(CIPHERTEXT)\n",
    "plainTextRSA= RSA.decode(privateKey, ciphertextRSA, PLAINTEXTDECODE)"
   ]
  },
  {
   "cell_type": "code",
   "execution_count": 8,
   "metadata": {
    "scrolled": true
   },
   "outputs": [
    {
     "data": {
      "text/plain": [
       "'Thuật toán RSA có hai khóa: khóa công khai (hay khóa công cộng) và khóa bí mật (hay khóa cá nhân). Mỗi khóa là những số cố định sử dụng trong quá trình mã hóa và giải mã. Khóa công khai được công bố rộng rãi cho mọi người và được dùng để mã hóa. Những thông tin được mã hóa bằng khóa công khai chỉ có thể được giải mã bằng khóa bí mật tương ứng. Nói cách khác, mọi người đều có thể mã hóa nhưng chỉ có người biết khóa cá nhân (bí mật) mới có thể giải mã được.\\n\\nTa có thể mô phỏng trực quan một hệ mật mã khoá công khai như sau: Bình muốn gửi cho An một thông tin mật mà Bình muốn duy nhất An có thể đọc được. Để làm được điều này, An gửi cho Bình một chiếc hộp có khóa đã mở sẵn và giữ lại chìa khóa. Bình nhận chiếc hộp, cho vào đó một tờ giấy viết thư bình thường và khóa lại (như loại khoá thông thường chỉ cần sập chốt lại, sau khi sập chốt khóa ngay cả Bình cũng không thể mở lại được-không đọc lại hay sửa thông tin trong thư được nữa). Sau đó Bình gửi chiếc hộp lại cho An. An mở hộp với chìa khóa của mình và đọc thông tin trong thư. Trong ví dụ này, chiếc hộp với khóa mở đóng vai trò khóa công khai, chiếc chìa khóa chính là khóa bí mật. '"
      ]
     },
     "execution_count": 8,
     "metadata": {},
     "output_type": "execute_result"
    }
   ],
   "source": [
    "plainTextRSA"
   ]
  },
  {
   "cell_type": "markdown",
   "metadata": {},
   "source": [
    "# DES"
   ]
  },
  {
   "cell_type": "code",
   "execution_count": 9,
   "metadata": {},
   "outputs": [
    {
     "data": {
      "text/plain": [
       "'0000000100110011010001010111011110011001101110111100110011111111'"
      ]
     },
     "execution_count": 9,
     "metadata": {},
     "output_type": "execute_result"
    }
   ],
   "source": [
    "key = '0000 0001 0011 0011 0100 0101 0111 0111 1001 1001 1011 1011 1100 1100 1111 1111'.replace(' ','')\n",
    "key"
   ]
  },
  {
   "cell_type": "code",
   "execution_count": 10,
   "metadata": {},
   "outputs": [],
   "source": [
    "ciphertextDES= DES.encode(plainText, key)"
   ]
  },
  {
   "cell_type": "code",
   "execution_count": 11,
   "metadata": {},
   "outputs": [
    {
     "data": {
      "text/plain": [
       "'ﮎ⇌ᝓ⋑絮쫸\\uf5d7\\uf2f6▟닫\\ue0ad舦鴵돬ꈝ\\u0be2̾熙揮﹑䐗它ᗇ翣轮\\u9ff8⋆ᅤ꼚ᯡ侩쳏赳﨩㆒兘ꛝ깞蹤轞ᐉ⇟༐纰섯\\x92赝\\ue8e4꼚ᯡ侩쳏赳﨩㆒兘䩛䅋⨕灧쫒䫍橯拐\\uf7d9磘䪙Ṷ啗\\udb1b퍒猳㸎먍ɞ轢イ\\ud818죧儮섯\\x92赝\\ue8e4꼚ᯡ侩쳏胠䀷ᒴ婠ᘤ岿邃⾦늓椱홹\\ue404Г鑿쮔ﾸ啗\\udb1b퍒猳\\u07fc瑺逄ħ\\ueb50䇩쫖⍍\\ue005仱⢂灹퀦箚\\ud9a7濿瓝ྱ\\ue98d\\u08be\\ua97f瀙ꌙ炜\\uf132贾\\u2d9d⑄斴彍Ⱊᑫ승賕멹\\udc90伬ᰓ컩ⴑ柟㡢俲䑊⎺\\uf065钑㪬轻锩\\udb87煉봘⓼ᦆﵚ⼼猊䏋䁷鼾퍉ፒ嵻啗\\udb1b퍒猳ꑊ㺎쥖纔좵早痊옡\\ua7d9홙霉㮡駒鵄᧺㮷煵뗑킀忧䩥\\uabfb\\ue97cᆽ\\udc37\\ue752℁嬻씨᷻瞸舕蕉\\uea9c㎝땑뤄䐜麯䏢졳⟒䊶幛\\u0ffc쁅壢\\uf77a㪄㲽\\u17ffɎ茧衶䭺质斖Ϯ㠏䞋쇋ൄ覸⽑Ѣ◄࿁䘌琯쐆\\ud9b2탪\\ue469웵꛳앻癈냪⃔\\ue924⫠ꧥ彜䈻ιﰅ\\ud868礘ﻪ챢\\uf7c8㊁贋䓈玩ቆయ൩ퟷⅣꬍ쩻皔䄐啗\\udb1b퍒猳ꑊ㺎쥖纔좵早痊옡竴⒂鿢\\uf78e\\ud83c\\udfc6쓛镨䝞껉糈㗣㪄㲽\\u17ffɎ븕쟷岁簪⼼猊䏋䁷娜莆긪垤ꬍ쩻皔䄐啗\\udb1b퍒猳㸎먍ɞ轢\\ueb7aᮅ쎘댬ୢ혊伃簁交儿鑂잿╂\\uf04e◭홹ଛǅ衺擬Ĵ嘒\\ueb6b忆滜⫱賮붩鲖랧\\udeee뫍閌⽏抹踀꽩⻩渗Ȫ앦뇯讣\\ua7c6▎雰։\\uf868쇋ൄ覸⽑Ѣ◄࿁䘌▿㳪荲牠ꉔ仕⎛곯淚讕蒴戋⠱蘸펖뤷铭\\x8f碫聑避㴝\\u0b3a\\ue2d9ᾘ＝椁뚒葐릺缹Ტ䈐\\uf3a2从ꅰ\\ue13e의캲⸋뉭衙唓\\ud9e9匪⌓㴥㤆岢쌭\\ud939丽▎雰։\\uf868縅䠤쭏\\udee9⼼猊䏋䁷\\uf47b⡖ꕏꏪ⸾㱖嬊ቑ뫧뮹顂蓯\\ue098黪\\uf0eb䘷ᔪ毈\\uf0c5ខᷡ⍑\\udd3d䧖\\ud912ᕵ⬍ﳢ䵂뒐ꪇᝁ豪倥봏岮練\\uddb3숵挐瀐ନ藒\\ue1a0⽋뵊闒시ｷ\\udca5歄鼾㔅얾㠕卖赳﨩㆒兘ꛝ깞蹤轞왂歴檫䌱랔\\udd11䟨숔赞咫⭑ཀ藆㕚\\ud9a6\\u0cbb留鹇㼚⢏荺륍毿鶏竴⒂鿢\\uf78e뺴핎\\uda68\\ueaa6㼮Ｚ⠇ᢘ㖁ت\\ude76歌쀹ꔭ扗ଯდ꿔☌\\u2005\\uf035ᐐ歆ᒈꭣꥺ뎚韼३ܽ粻욈\\uf219钏쪛漥鿡駷\\ufdec귢䢇阖\\ue784뺌㻣裯ᓿ࿑\\ue098黪\\uf0eb䘷䝴㦱╔⿄冩撊\\u2e79鍳ﱓᘲ綍謷嵻眒逦퍶예瞚\\ue011䕫\\ue8a3\\uee17퉊薥ﰸ뾘ټ딱狉鶈\\uefff㉮ꮒ\\ue2c8ᶀ蜑荺륍毿鶏竴⒂鿢\\uf78eㇻ䩂ઊ\\uf731३ܽ粻욈\\ue8c9\\uefed굫ӟ㗯\\udacd߸䦓篍쪪嗱ᬸ䔷둷\\ue9c0쉝꼚ᯡ侩쳏ᨩ㖄钼制峂䊹\\uea40灐瞙槍태杒봘⓼ᦆﵚ륖ቩ\\ueb86䫹竴⒂鿢\\uf78e폵臾澕ㄶ掤㧕╔⭇٧\\uf373ᙱ캅\\uf49e낦緧ֺ᧑돏₿Ṷ㗯\\udacd߸䦓篍쪪嗱ᬸ\\ue39b릮꽯夤⛬뾲涛\\ue512\\ue743䚴öỄ㼮Ｚ⠇ᢘ夃䳶廉\\ud912\\ue865ꕴ谳얱溙嬻吉ࣸ\\u1dfa磡噞嶾談䗙\\uf0fb蠡︄ꇳ孺쾘ៀ둠ந잘ꝼ\\ue0af軷臬ᾘ＝椁뚒ࠫ癙츘䩸罅녾梽輋ퟆ秕ⳍ⫶鮇\\ue94e铙憅㔅얾㠕卖㖁ت\\ude76歌쀹ꔭ扗ଯៀ둠ந잘ꍂᭊ힞蚅䫛啈䏕湁芒脾芜癶샳₤蜈컡䇿\\ue919颐奷疆粏읯펫ᬈ뇾維\\ue99a繀ꘔ茅쎖銷烖ꕾ䅔\\udbcd愶솅ഉᾘ＝椁뚒\\uf8bd鍢뢿뭞\\ue92c┢髦籡긠勆峢횎賝鉎➐\\ue6c5㱺驡结噐Ꮩꀢ⮉哒醐餁儥휅Æ㦗㿾\\ud967헫痪ᮗ聃㪄㲽\\u17ffɎ긃饚它얖煵뗑킀忧⸳띍僼⯏羈챕摸ᾞ섯\\x92赝\\ue8e4饴븴窬嫉癈냪⃔\\ue924⫠ꧥ彜䈻쳢鲉윌ắ內\\uf5d1ﰶ쨳\\ue5da힔ᙔഖ\\ue8a3\\uee17퉊薥榺裏륕\\u0a49̾쭐㫿聆\\uefc2꣪䝬즘䧩ˆ㢺쒽駴库씸籘\\uebf9߾接롫㗯\\udacd߸䦓篍쪪嗱ᬸ헫痪ᮗ聃动€翋똱\\uddf1\\ua83e롸쇅㻣裯ᓿ࿑쭄뿅糍ữ\\udbdc੶帍䴐岢쌭\\ud939丽뻍\\ue15aὩ顂꼚ᯡ侩쳏篧拾셙퀶ᓩꪺङ\\uefb0䦁町\\u2fe5┼㵎쀑䭹冱㖁ت\\ude76歌쀹ꔭ扗ଯᦑﭭ诎㆐\\uea2b㪰䚴씆㬫\\ue923❲℧\\uea79\\ufaed鱑\\ue7dc內\\uf5d1ﰶ쨳\\u0e7e䣣砌㸔楨⥴퇕㈩\\ua7c3⦌雜擊㗯\\udacd߸䦓篍쪪嗱ᬸ瞳\\uf607ꝉ賌ᾘ＝椁뚒忀\\ued16챘騒⁒\\udb47銲됾쯊즽า掚뙍恝छ곟쵊箱뻝ㅵ爱㍉ᕶᢉ煵뗑킀忧ᡟᡜඔፍ\\ue39b릮꽯夤㸮ﴤ◹ꠔᄠశ\\u173e僌ᾘ＝椁뚒\\ud834㮐ۓ\\ue877䜇㏸ṑⷬ\\uef60\\ue1a0돚㸌啗\\udb1b퍒猳㸎먍ɞ轢⤈ᬪ擠兢'"
      ]
     },
     "execution_count": 11,
     "metadata": {},
     "output_type": "execute_result"
    }
   ],
   "source": [
    "DES.binToText(ciphertextDES)"
   ]
  },
  {
   "cell_type": "code",
   "execution_count": 12,
   "metadata": {},
   "outputs": [],
   "source": [
    "plainTextDES= DES.decode(ciphertextDES, key)"
   ]
  },
  {
   "cell_type": "code",
   "execution_count": 13,
   "metadata": {},
   "outputs": [
    {
     "data": {
      "text/plain": [
       "'Thuật toán RSA có hai khóa: khóa công khai (hay khóa công cộng) và khóa bí mật (hay khóa cá nhân). Mỗi khóa là những số cố định sử dụng trong quá trình mã hóa và giải mã. Khóa công khai được công bố rộng rãi cho mọi người và được dùng để mã hóa. Những thông tin được mã hóa bằng khóa công khai chỉ có thể được giải mã bằng khóa bí mật tương ứng. Nói cách khác, mọi người đều có thể mã hóa nhưng chỉ có người biết khóa cá nhân (bí mật) mới có thể giải mã được.\\n\\nTa có thể mô phỏng trực quan một hệ mật mã khoá công khai như sau: Bình muốn gửi cho An một thông tin mật mà Bình muốn duy nhất An có thể đọc được. Để làm được điều này, An gửi cho Bình một chiếc hộp có khóa đã mở sẵn và giữ lại chìa khóa. Bình nhận chiếc hộp, cho vào đó một tờ giấy viết thư bình thường và khóa lại (như loại khoá thông thường chỉ cần sập chốt lại, sau khi sập chốt khóa ngay cả Bình cũng không thể mở lại được-không đọc lại hay sửa thông tin trong thư được nữa). Sau đó Bình gửi chiếc hộp lại cho An. An mở hộp với chìa khóa của mình và đọc thông tin trong thư. Trong ví dụ này, chiếc hộp với khóa mở đóng vai trò khóa công khai, chiếc chìa khóa chính là khóa bí mật. '"
      ]
     },
     "execution_count": 13,
     "metadata": {},
     "output_type": "execute_result"
    }
   ],
   "source": [
    "plainTextDES"
   ]
  },
  {
   "cell_type": "code",
   "execution_count": 14,
   "metadata": {},
   "outputs": [
    {
     "data": {
      "text/plain": [
       "'\\ue322ﮏ㖁屗뙱䎚낪\\ue377\\ue169춫섟舘尬鰳뚰娾\\ue5bf퐡諌䨅슶헹\\uf2d4窩\\x1d䲘囕\\ue540Ꭹ浝⡶䟺玸鋝⿐䷧瀦\\u245b㢤에숵ᝢ﹃襗醎\\ued6eꩄ귍Ꭹ浝⡶䟺玸鋝⿐䷧\\udde9Ĥ蕖孲Ӽ憭醹㈊帻堈齰\\ue282퐁箔છ咒癴\\udd5a㱨跛蓪카鴔蠖醎\\ued6eꩄ귍Ꭹ浝⡶䟺⦽漳ዷ\\udea9\\uf269먶綒粻ᵁ\\uf1d0䫓붊랯䊔䙣貳퐁箔છ咒模쿊\\uf092뒶\\ua7d4엊퉌뛟ꡀ\\ue397ྤᠩ⑼鼑귓됒ⶌౙ멦ᑂ\\ue700㏿䍠偏牷\\ue01c텬烲壻癕꒔뗍똵㶕匒㷒鴝奆얻\\u9ff7荣⚙\\u0883땆爩⾠聍/\\udff0繾嚺\\uf73e骯ॎ\\uf55b\\u0ff7Í鬮䤮䈹異\\udeb3᠓⡯퐁箔છ咒ᑽ䊁帯㟹칋ꬻᾩ\\ue2f3บ꽔ᤂⱖ蔑瞔㺖儃긄ᱳ투栺㨚ᩥ섮ᴐ嫜⫮쿒\\u0e5f菾\\ue1c7巳⚨ݰ챟ᚿ䞛䃦贂爩풀鷛⮟Ῐ\\ud873梾腮༑\\ueaea圁ಠ殔٨㯟\\u3101繘畔\\ue996톁竤᭚빌䰼阌﹀\\ue700띕衦袗鴦ﱳ킶닡雵⠒箨㙑㽻䱢捤\\uee65礊髪鋨ꔛ埊헇晁쓢〚簾졡\\ude0d撙膼砕诊\\ud8f2쁑ؽ渷\\ue054\\ued62ࢥ妏퐁箔છ咒ᑽ䊁帯㟹칋ꬻᾩ\\ue2f3᠑봥ၸ쎄礆谔ຊ軞崝韫㼤汧圁ಠ殔٨\\u12b6꺵檓᧣Í鬮䤮䈹ﱇ胾랅쌔\\ue054\\ued62ࢥ妏퐁箔છ咒癴\\udd5a㱨跛Ჾ琗㖋宺ᜪㄱ쿃笻\\uecdb䌴썜㕘ֆڝ帶⾇咣\\u0fe0㍖퀙읍옲쾉覯槕骴\\uf512ﳇᘑ㘦욍蹕ꦡ妏죳㞫寡\\uf48e❃荊绁듋缠乹\\ue4f9⤟槤ﲥ빌䰼阌﹀\\ue700띕衦袗嚍쟭\\uf677\\uf5fe\\ue85d楝얭蜕\\ue07bǧ婾憺十䙷稏\\ue845鄪∯舳춆妡嶤䶤ᯆ휅昦㾭ﯨퟰ끮⽗\\ue579岘荨ꌼ虹搋㽁椲罚嗑⎟\\ud8fa뇙噦\\ueecd볘ﱝ刊帄툮㐓\\ue4f9⤟槤ﲥ캥ⳃ鱒敛Í鬮䤮䈹༫ṳ는↜惡ﮯ뮅ꫬ萵쌮\\udd3c\\ue389ᴋ\\u17ec\\ue93aﺌ蒇㸆䌘柷﨏䠊\\uf2ecІᑂ焊肓➂\\uee57浭\\ue331垏\\uda63꿄쨔ᡯ䰪ֻ嶷췏鋚寑庉溸耠졨愶ȶᅽ㡷ക麝ً溣㢜ꉌ玸鋝⿐䷧瀦\\u245b㢤에諼⍰ႎ뒊摃\\ue4ab易힢ᇤ브茥趚갫僚ፌⴒ鞠냳蜲檔ᖟ꯬䶦\\u12b7᠑봥ၸ쎄쥎ǅ溮渿\\u0bd2㑆쳭㛵\\ue994銵樍⽄蟃眇̍ꙕ᧼至塥紑伪鈨쮙ሊ옳ረ榹譕긾柇ᶧ䑌㫽⠛际鳰핗桮ꤚᐖ\\uf608泄שּׁ᭬맍⁜虔薡ᴋ\\u17ec\\ue93aﺌ앿赵㡨愳嫦쩽䪍欀\\uf39eߍ嶩蛂\\uf006がꍨ绎\\uf733妓⏹㔑୯沴ሜȂ炀蟔땵녒㎖Ⲝ癟묈콏뜑뚱썲ᖟ꯬䶦\\u12b7᠑봥ၸ쎄工\\uee19拜\\uf809긾柇ᶧ䑌䧳꣖陰邕\\ue6f6譔\\u082f\\u192e췊疽黵\\uda15ᱍ傡蛇\\udb00Ꭹ浝⡶䟺慲翇\\udbf4䦞縣ꆊ뗨\\ud938৩메ﲎ\\uf2ea骯ॎ\\uf55b\\u0ff7腺ꎈૡӲ᠑봥ၸ쎄蚤\\uf0ad\\udec2彬쌧㦐塺擱缀室酙ṉᰎ\\ue6efⵌ䎺\\udd53뜲ꆂﻅ\\ue6f6譔\\u082f\\u192e췊疽黵\\uda15㹓ꚟ\\x88潳龝仇ϩ꼹̩\\uf2b5䋄ྦྷ\\u0bd2㑆쳭㛵鐀龻\\uec81敓虨ఛ摫ⶺ䱔ള\\uea99鄱痩痕ሧ\\uda10ỷ反䛸ࡖᐺ㉿̀䢯꙱ᡳ\\ufada청趶҇䤯듔휅昦㾭ﯨ燓㉍嶉꣦䬜箲珠檞呝謾䈫\\ue76c鳇\\uf715趤ﳹً溣㢜ꉌ\\ue994銵樍⽄蟃眇̍ꙕ꙱ᡳ\\ufada청傁Ů㧜㬛蒺씞郏婢\\udd26仈⧦ꝩ鞶艏柕ㇶ戔첔ⓜ﴿䤨뇫特氋⸪㣾붕ឆ켰龷葔ꁱ僅㿑䝔㭬䒧⪉\\ue063螆휅昦㾭ﯨ裟ብ빪㪳龝ȩ瞟㍧ﾋ⚔\\ue407\\ue2e8塿ᐜ픯踴\\ue5b7\\u0e79\\uf50d쪠㒶ᐻϑ鑫涁ᔋ煘黃킶\\ue979㉑\\udb33ꞟ탤嗪歪圁ಠ殔٨弛\\uf81c\\ued9e쩚긄ᱳ투栺퉠豆潏\\ufae2ݝ\\u0d50⬍엇醎\\ued6eꩄ귍쿄\\ud84cꥤ琉㽻䱢捤\\uee65礊髪鋨ꔛ뀣끞这戜實럍䰜\\ue367狆힌詖\\udd92୯沴ሜȂ볲㈹✘ᰶ啯⑅ꮎ䁬꼱灻龙Ἒ\\udfd6⪸답ዼ絃\\ue159렳ᯁ虜莾ꯂꠀ\\ue6f6譔\\u082f\\u192e췊疽黵\\uda15ꞟ탤嗪歪訸驄폫遾甃ⱐ锥誫맍⁜虔薡℩蘘㑬\\uf27a㔹ʹꫣ♎刊帄툮㐓Ⲧ헝誈ቝᎩ浝⡶䟺謁婗\\ufe6f⑰憛\\uf797呦钒쀬ꀔൿᶍ\\uf3ed껀잦⓷\\ue994銵樍⽄蟃眇̍ꙕ헙鏖ꦤ\\ue5c2⫙窤渤ꑔ虰稉ꗧ話㋰嵘陳\\uef9e實럍䰜\\ue367⅝\\ue3f1뜚\\uf883ꏿ◹쟪銚词퓣蓕鿟\\ue6f6譔\\u082f\\u192e췊疽黵\\uda15쬲䗑࠘┗휅昦㾭ﯨ⟋䵂\\u10cb᪀辛\\ud9a0\\uf2cc\\ue953튓輡쮙谝\\u0cd8\\uec56鯠靨䷛\\ud80a禄췰\\uf819艧ḉ恶긄ᱳ투栺㯍។逰皾㹓ꚟ\\x88潳䪡킒钮ꅁᣈ\\uf109룵簳휅昦㾭ﯨ酸诩\\ued8bӶ␛\\uf255\\ueb21ꯛ㱖㠀⺻䥐퐁箔છ咒癴\\udd5a㱨跛㈓㰯ꎡ鈳'"
      ]
     },
     "execution_count": 14,
     "metadata": {},
     "output_type": "execute_result"
    }
   ],
   "source": [
    "# key_ khác key tại bit đầu tiên\n",
    "key_= '1000 0001 0011 0011 0100 0101 0111 0111 1001 1001 1011 1011 1100 1100 1111 1111'.replace(' ','')\n",
    "plainTextDES= DES.decode(ciphertextDES, key_)\n",
    "plainTextDES"
   ]
  },
  {
   "cell_type": "markdown",
   "metadata": {},
   "source": [
    "# Kết hợp DES và RSA\n",
    "\n",
    "Sử dụng DES để mã hóa văn bản, còn RSA để mã hóa khóa của DES.\n",
    "\n",
    "Kịch bản:\n",
    "\n",
    "A muốn gửi cho B một văn bản như sau: 'Mai họp ở trường lúc 8 giờ'\n",
    "\n",
    "A tạo khóa cho DES - keys và dùng khóa đó để mã hóa văn bản được bản mã hóa văn bản.\n",
    "\n",
    "A lấy khóa công khai - public key của B mã hóa keys được bản mã hóa khóa.\n",
    "\n",
    "A gửi cho B 2 văn bản mã hóa:\n",
    "- Bản mã hóa khóa.\n",
    "- Bản mã hóa văn bản.\n",
    "\n",
    "B nhận 2 văn bản từ A.\n",
    "\n",
    "B dùng private key giải mã bản mã hóa khóa và thu được khóa keys.\n",
    "\n",
    "B dùng keys giải mã bản mã hóa văn bản thu được văn bản được gửi.\n"
   ]
  },
  {
   "cell_type": "code",
   "execution_count": 15,
   "metadata": {},
   "outputs": [
    {
     "data": {
      "text/plain": [
       "((1344727578079884294690501523490133093397296531164326676953086512603943272569565426860185609740258267879798111908705485637,\n",
       "  65537),\n",
       " (1344727578079884294690501523490133093397296531164326676953086512603943272569565426860185609740258267879798111908705485637,\n",
       "  393177439479480947477903935076642664993499795995709717926896229488064349488096362125774920366034304371534903412156490169))"
      ]
     },
     "execution_count": 15,
     "metadata": {},
     "output_type": "execute_result"
    }
   ],
   "source": [
    "# Giả định B có publicKey và privateKey như trên\n",
    "publicKey, privateKey"
   ]
  },
  {
   "cell_type": "code",
   "execution_count": 16,
   "metadata": {},
   "outputs": [],
   "source": [
    "# A có văn bản cần chuyền đi như sau:\n",
    "text= 'Mai họp ở trường lúc 8 giờ !!!!!!!!!!!'"
   ]
  },
  {
   "cell_type": "markdown",
   "metadata": {},
   "source": [
    "### Mã hóa"
   ]
  },
  {
   "cell_type": "code",
   "execution_count": 17,
   "metadata": {},
   "outputs": [
    {
     "data": {
      "text/plain": [
       "'1011001111000100111111100110010001111110001111100100110001001110'"
      ]
     },
     "execution_count": 17,
     "metadata": {},
     "output_type": "execute_result"
    }
   ],
   "source": [
    "# A tạo key cho mã hóa DES\n",
    "key= DES.genKey()\n",
    "key"
   ]
  },
  {
   "cell_type": "code",
   "execution_count": 18,
   "metadata": {},
   "outputs": [
    {
     "data": {
      "text/plain": [
       "'0101010000010010000011100111000010011101100001000110101110100000000001100101101111100001100001111100110001101010010010001101100111111001110111100100001010110101100001100011010111000011101000001001001110111000010011011100111001001110001000110111010100011011000101110101000100111101010000111110010001110111010001010010111010011011011011110011001101100101111001100011111111001010010111111011101001011101010100001100110100111001100111001001000000110000111111111111010001010001010011000011111111010010110001010010100011111111111101000101000101001100001111111101001011000101001010000010110110011111110110111011011101000101110111011000101010101001'"
      ]
     },
     "execution_count": 18,
     "metadata": {},
     "output_type": "execute_result"
    }
   ],
   "source": [
    "# A mã hóa văn bản sử dụng DES\n",
    "ciphertext= DES.encode(text, key)\n",
    "ciphertext"
   ]
  },
  {
   "cell_type": "code",
   "execution_count": 19,
   "metadata": {},
   "outputs": [
    {
     "data": {
      "text/plain": [
       "'4fr36oWGy94h0aIoUGzIIeE2GZlPiBOCjp8b+xtUHn5ZSHnrFDh58RQoZvqIgvme13l 6OQ5R-mBo9ymBpCMD3YLRaJutWJcjFFK6EFrjtGbNieJjpJyDYhkS6ZLSSP1F9rbrUh 41vYqee0euceqxBkK5x7WqcU5+YML7lSqU49VTxzX-co+Vfj4eZ0ekagDSbq9Q8zNsY '"
      ]
     },
     "execution_count": 19,
     "metadata": {},
     "output_type": "execute_result"
    }
   ],
   "source": [
    "# A dùng public_key của B để mã hóa khóa\n",
    "cipherkey= RSA.encode(publicKey, key)\n",
    "cipherkey"
   ]
  },
  {
   "cell_type": "code",
   "execution_count": 20,
   "metadata": {},
   "outputs": [],
   "source": [
    "# A gửi cho B cipherkey và ciphertext"
   ]
  },
  {
   "cell_type": "markdown",
   "metadata": {},
   "source": [
    "### Giải mã"
   ]
  },
  {
   "cell_type": "code",
   "execution_count": 21,
   "metadata": {},
   "outputs": [
    {
     "data": {
      "text/plain": [
       "'1011001111000100111111100110010001111110001111100100110001001110'"
      ]
     },
     "execution_count": 21,
     "metadata": {},
     "output_type": "execute_result"
    }
   ],
   "source": [
    "# B lấy cipherkey, dùng privateKey để giải\n",
    "plainkey= RSA.decode(privateKey, cipherkey)\n",
    "plainkey"
   ]
  },
  {
   "cell_type": "code",
   "execution_count": 22,
   "metadata": {},
   "outputs": [
    {
     "data": {
      "text/plain": [
       "'Mai họp ở trường lúc 8 giờ !!!!!!!!!!!'"
      ]
     },
     "execution_count": 22,
     "metadata": {},
     "output_type": "execute_result"
    }
   ],
   "source": [
    "# Dùng plainKey để giải mã ciphertext\n",
    "plaintex= DES.decode(ciphertext, plainkey)\n",
    "plaintex"
   ]
  },
  {
   "cell_type": "markdown",
   "metadata": {},
   "source": [
    "# Triple DES"
   ]
  },
  {
   "cell_type": "code",
   "execution_count": 23,
   "metadata": {},
   "outputs": [],
   "source": [
    "import tripleDES"
   ]
  },
  {
   "cell_type": "code",
   "execution_count": 24,
   "metadata": {},
   "outputs": [],
   "source": [
    "key1= DES.genKey()\n",
    "key2= DES.genKey()\n",
    "key3= DES.genKey()"
   ]
  },
  {
   "cell_type": "code",
   "execution_count": 25,
   "metadata": {},
   "outputs": [
    {
     "data": {
      "text/plain": [
       "'쎬上䗥琿棻岙希在偽詑\\ud96f⭀郀븄鋪붢\\udec7\\ue8e5었傣⭿\\uf4a2쁂\\ue986ᵔꢏ的岸债宩䋳\\ue84d债宩䋳\\ue84dᴞ㈉髤ႅ'"
      ]
     },
     "execution_count": 25,
     "metadata": {},
     "output_type": "execute_result"
    }
   ],
   "source": [
    "ciphertext= tripleDES.encode(text, key1, key2, key3)\n",
    "DES.binToText(ciphertext)"
   ]
  },
  {
   "cell_type": "code",
   "execution_count": 26,
   "metadata": {},
   "outputs": [],
   "source": [
    "plaintex= tripleDES.decode(ciphertext, key1, key2, key3)"
   ]
  },
  {
   "cell_type": "code",
   "execution_count": 27,
   "metadata": {},
   "outputs": [
    {
     "data": {
      "text/plain": [
       "'Mai họp ở trường lúc 8 giờ !!!!!!!!!!!'"
      ]
     },
     "execution_count": 27,
     "metadata": {},
     "output_type": "execute_result"
    }
   ],
   "source": [
    "plaintex"
   ]
  },
  {
   "cell_type": "code",
   "execution_count": null,
   "metadata": {},
   "outputs": [],
   "source": []
  }
 ],
 "metadata": {
  "kernelspec": {
   "display_name": "Python 3",
   "language": "python",
   "name": "python3"
  },
  "language_info": {
   "codemirror_mode": {
    "name": "ipython",
    "version": 3
   },
   "file_extension": ".py",
   "mimetype": "text/x-python",
   "name": "python",
   "nbconvert_exporter": "python",
   "pygments_lexer": "ipython3",
   "version": "3.7.4"
  }
 },
 "nbformat": 4,
 "nbformat_minor": 2
}
