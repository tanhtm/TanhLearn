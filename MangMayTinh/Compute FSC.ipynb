{
 "cells": [
  {
   "cell_type": "code",
   "execution_count": 28,
   "metadata": {},
   "outputs": [],
   "source": [
    "def char2bit(c):\n",
    "    i= ord(c)\n",
    "    r= \"{0:b}\".format(i)\n",
    "    return r\n",
    "\n",
    "def FSC(Add, Ctrl, info):\n",
    "    bins= []\n",
    "    for c in info:\n",
    "        b= char2bit(c)\n",
    "        while len(b) < 7:\n",
    "            b = '0' + b\n",
    "        n= b.count('1')\n",
    "        if n%2 == 0:\n",
    "            b+= '0'\n",
    "        else:\n",
    "            b+= '1'\n",
    "        bins.append(b)\n",
    "    FSC= int(Add, 2)\n",
    "    FSC= FSC ^ int(Ctrl, 2)\n",
    "    for b in bins:\n",
    "        print(b)\n",
    "        x= int(b, 2)\n",
    "        FSC= FSC ^ x\n",
    "    r= \"{0:b}\".format(FSC)\n",
    "    while len(r) < 8:\n",
    "        r = '0' + r\n",
    "    return r\n",
    "        "
   ]
  },
  {
   "cell_type": "code",
   "execution_count": 29,
   "metadata": {},
   "outputs": [
    {
     "name": "stdout",
     "output_type": "stream",
     "text": [
      "10101111\n",
      "11011110\n",
      "11100100\n",
      "11010111\n",
      "11010010\n",
      "11011101\n",
      "11001111\n",
      "01000001\n",
      "11001001\n",
      "11000011\n",
      "11110011\n"
     ]
    },
    {
     "data": {
      "text/plain": [
       "'11010001'"
      ]
     },
     "execution_count": 29,
     "metadata": {},
     "output_type": "execute_result"
    }
   ],
   "source": [
    "FSC('11011111', '00110100', 'Working day')"
   ]
  },
  {
   "cell_type": "code",
   "execution_count": 30,
   "metadata": {},
   "outputs": [
    {
     "name": "stdout",
     "output_type": "stream",
     "text": [
      "10010000\n",
      "11010010\n",
      "01000001\n",
      "11101110\n",
      "11011110\n",
      "11100100\n",
      "11011000\n",
      "11001001\n"
     ]
    },
    {
     "data": {
      "text/plain": [
       "'01101100'"
      ]
     },
     "execution_count": 30,
     "metadata": {},
     "output_type": "execute_result"
    }
   ],
   "source": [
    "FSC('10011111', '00110101', 'Hi world')"
   ]
  },
  {
   "cell_type": "code",
   "execution_count": null,
   "metadata": {},
   "outputs": [],
   "source": []
  },
  {
   "cell_type": "code",
   "execution_count": null,
   "metadata": {},
   "outputs": [],
   "source": []
  }
 ],
 "metadata": {
  "kernelspec": {
   "display_name": "Python 3",
   "language": "python",
   "name": "python3"
  },
  "language_info": {
   "codemirror_mode": {
    "name": "ipython",
    "version": 3
   },
   "file_extension": ".py",
   "mimetype": "text/x-python",
   "name": "python",
   "nbconvert_exporter": "python",
   "pygments_lexer": "ipython3",
   "version": "3.7.4"
  }
 },
 "nbformat": 4,
 "nbformat_minor": 2
}
