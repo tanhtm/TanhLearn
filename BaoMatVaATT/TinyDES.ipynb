{
 "cells": [
  {
   "cell_type": "code",
   "execution_count": 1,
   "metadata": {},
   "outputs": [],
   "source": [
    "def expand(R):\n",
    "    # R= abcd\n",
    "    return R[2] + R[3] + R[1] + R[2] + R[1] + R[0]\n",
    "\n",
    "def shiftLeft(b, k):\n",
    "    #Dịch vòng k bit sang trái\n",
    "    r=b[k:]\n",
    "    r= r + b[:k]\n",
    "    return r\n",
    "\n",
    "def XOR(a, b):\n",
    "    assert len(a) == len(b), 'Không cùng số bit !'\n",
    "    return ''.join(['0' if a[i] == b[i] else '1' for i in range(len(a))])\n",
    "\n",
    "def compress(k):\n",
    "    # Nén khóa từ 8 bit thành 6 bit\n",
    "    return k[5] + k[1] + k[3] + k[2] + k[7] + k[0]\n",
    "\n",
    "def genKey(key):\n",
    "    # Sinh 3 khóa con 6bit từ khóa 8bit\n",
    "    l, r= key[:4], key[4:]\n",
    "    #print(l, r)\n",
    "    keys= []\n",
    "    for i in range(3):\n",
    "        #print('Bước %d' % (i+1))\n",
    "        if i % 2 == 0:\n",
    "            l= shiftLeft(l, 1)\n",
    "            r= shiftLeft(r, 1)\n",
    "        else:\n",
    "            l= shiftLeft(l, 2)\n",
    "            r= shiftLeft(r, 2)\n",
    "        #print(l, r)\n",
    "        keys.append(compress(l+r))\n",
    "    return keys\n",
    "\n",
    "def SBox(b):\n",
    "    # Thay thế\n",
    "    s=[[14, 4, 13, 1, 2, 15, 11, 8, 3, 10, 6, 12, 5, 9, 0, 7],\n",
    "       [0, 15, 7, 4, 14, 2, 13, 1, 10, 6, 12, 11, 9, 5, 3, 8],\n",
    "       [4, 1, 14, 8, 13, 6, 2, 11, 15, 12, 9, 7, 3, 10, 5, 0],\n",
    "       [15, 12, 8, 2, 4, 9, 1, 7, 5, 11, 3, 14, 10, 0, 6, 13]]\n",
    "    row= int(b[0] + b[5], 2)\n",
    "    col= int(b[1:-1], 2)\n",
    "    r= \"{0:b}\".format(s[row][col])\n",
    "    r= '0'*(4- len(r)) + r\n",
    "    return r\n",
    "\n",
    "def PBox(b):\n",
    "    # Hoán vị 4bit\n",
    "    return b[2] + b[0] + b[3] + b[1] # 1001 -> 0110 -> 1001\n",
    "\n",
    "def F(R, K):\n",
    "    #Feistel\n",
    "    return PBox(SBox(XOR(expand(R), K)))\n",
    "\n",
    "def encode(P, K):\n",
    "    Pl, Pr= P[:4], P[4:]\n",
    "    #print('Pl= %s, Pr= %s' % (Pl, Pr))\n",
    "    key= genKey(K)\n",
    "    #print('Sinh khóa con: ')\n",
    "#     for i in range(3):\n",
    "#         print('K%d= ' % (i+1) + key[i])\n",
    "    for i in range(3):\n",
    "        #print('Vòng %d:' % (i + 1))\n",
    "        temp= Pr\n",
    "        f= F(Pr, key[i])\n",
    "        #print('F%d= %s' % ((i+1), f))\n",
    "        Pr= XOR(f, Pl) \n",
    "        Pl= temp\n",
    "        #print('L%d= %s, R%d= %s' % ((i+1), Pl,(i+1), Pr))\n",
    "    return Pl + Pr\n",
    "\n",
    "def decode(C, K):\n",
    "    Cl, Cr= C[:4], C[4:]\n",
    "    #print('Cl= %s, Cr= %s' % (Cl, Cr))\n",
    "    key= genKey(K)\n",
    "    #print('Sinh khóa con: ')\n",
    "#     for i in range(3):\n",
    "#         print('K%d= ' % (i+1) + key[i])\n",
    "    for i in range(3):\n",
    "        #print('Vòng %d:' % (i + 1))\n",
    "        temp= Cl\n",
    "        f= F(Cl, key[3-i-1])\n",
    "        #print('F%d= %s' % ((i+1), f))\n",
    "        Cl= XOR(f, Cr) \n",
    "        Cr= temp\n",
    "        #print('L%d= %s, R%d= %s' % ((i+1), Cl,(i+1), Cr))\n",
    "    return Cl + Cr\n",
    "\n",
    "def textToBin(text): #16bit\n",
    "    out= ''\n",
    "    for letter in text:\n",
    "        b= format(ord(letter), 'b')\n",
    "        b= '0'*(16-len(b)) + b\n",
    "        out += b\n",
    "    return out\n",
    "\n",
    "def binToText(btext): #16bit\n",
    "    out= ''\n",
    "    for i in range(0,len(btext), 16):\n",
    "        b= btext[i: i+ 16]\n",
    "        letter= chr(int(b, 2))\n",
    "        out+= letter\n",
    "    return out\n",
    "\n",
    "def getBlocks(text, nbit= 4):   \n",
    "    btext= textToBin(text)\n",
    "    blocks = []\n",
    "    for i in range(0, len(btext), nbit):\n",
    "        blocks.append(btext[i:i+nbit])\n",
    "    return blocks\n",
    "\n",
    "def ENCODE(p, key):\n",
    "    blocks= getBlocks(p, 8)\n",
    "    enblocks= [encode(block, key) for block in blocks]\n",
    "    c= ''.join(enblocks)\n",
    "    return binToText(c)\n",
    "\n",
    "def DECODE(c, key):\n",
    "    blocks= getBlocks(c, 8)\n",
    "    deblocks= [decode(block, key) for block in blocks]\n",
    "    p= ''.join(deblocks)\n",
    "    return binToText(p)"
   ]
  },
  {
   "cell_type": "code",
   "execution_count": 3,
   "metadata": {},
   "outputs": [
    {
     "data": {
      "text/plain": [
       "'10010010'"
      ]
     },
     "execution_count": 3,
     "metadata": {},
     "output_type": "execute_result"
    }
   ],
   "source": [
    "encode('01011100', '10011010')"
   ]
  },
  {
   "cell_type": "code",
   "execution_count": 59,
   "metadata": {},
   "outputs": [
    {
     "data": {
      "text/plain": [
       "'01011100'"
      ]
     },
     "execution_count": 59,
     "metadata": {},
     "output_type": "execute_result"
    }
   ],
   "source": [
    "decode('10010010', '10011010')"
   ]
  },
  {
   "cell_type": "code",
   "execution_count": 66,
   "metadata": {
    "scrolled": true
   },
   "outputs": [],
   "source": [
    "p= 'Hôm nay đi chơi đi !'\n",
    "k= '10011010'"
   ]
  },
  {
   "cell_type": "code",
   "execution_count": 65,
   "metadata": {},
   "outputs": [
    {
     "data": {
      "text/plain": [
       "'ͧΪͱΤ͉εͽΤפֿπΤϜ϶\\ufb45πΤפֿπΤϹ'"
      ]
     },
     "execution_count": 65,
     "metadata": {},
     "output_type": "execute_result"
    }
   ],
   "source": [
    "ENCODE(p, k)r"
   ]
  },
  {
   "cell_type": "code",
   "execution_count": 67,
   "metadata": {},
   "outputs": [
    {
     "data": {
      "text/plain": [
       "'Hôm nay đi chơi đi !'"
      ]
     },
     "execution_count": 67,
     "metadata": {},
     "output_type": "execute_result"
    }
   ],
   "source": [
    "DECODE(ENCODE(p, k), k)"
   ]
  },
  {
   "cell_type": "code",
   "execution_count": 2,
   "metadata": {},
   "outputs": [],
   "source": [
    "def GCD_extended(x, y):\n",
    "    u1, u2, u3 = 1, 0, x\n",
    "    v1, v2, v3 = 0, 1, y\n",
    "    while v3 != 0:\n",
    "        q = u3//v3\n",
    "        t1, t2, t3 = u1 - q*v1, u2 - q*v2, u3 - q*v3\n",
    "        u1, u2, u3 = v1, v2, v3\n",
    "        v1, v2, v3 = t1, t2, t3\n",
    "    a, b, c= u1, u2, u3\n",
    "    return a, b, c"
   ]
  },
  {
   "cell_type": "code",
   "execution_count": 30,
   "metadata": {},
   "outputs": [],
   "source": [
    "def getPrivateKey(p, q, e):\n",
    "    n= p*q\n",
    "    print('n= %d' % n)\n",
    "    phi= (p-1)*(q-1)\n",
    "    print('phi= %d' % phi)\n",
    "    d = GCD_extended(e,phi)[0]\n",
    "    if d < 0:\n",
    "        d+= phi\n",
    "    print('d= %d' % d)\n",
    "    return n, d\n",
    "\n",
    "def E(M, k):\n",
    "    n, x= k\n",
    "    C= pow(M, x, n)\n",
    "    return C\n",
    "\n",
    "def D(C, k):\n",
    "    n, x= k\n",
    "    M= pow(C, x, n)\n",
    "    return M"
   ]
  },
  {
   "cell_type": "code",
   "execution_count": 31,
   "metadata": {},
   "outputs": [
    {
     "name": "stdout",
     "output_type": "stream",
     "text": [
      "n= 77\n",
      "phi= 60\n",
      "d= 53\n"
     ]
    },
    {
     "data": {
      "text/plain": [
       "(77, 53)"
      ]
     },
     "execution_count": 31,
     "metadata": {},
     "output_type": "execute_result"
    }
   ],
   "source": [
    "n1, d1= getPrivateKey(7, 11, 17)\n",
    "e1= 17\n",
    "n1, d1"
   ]
  },
  {
   "cell_type": "code",
   "execution_count": 32,
   "metadata": {},
   "outputs": [
    {
     "name": "stdout",
     "output_type": "stream",
     "text": [
      "n= 143\n",
      "phi= 120\n",
      "d= 11\n"
     ]
    },
    {
     "data": {
      "text/plain": [
       "(143, 11)"
      ]
     },
     "execution_count": 32,
     "metadata": {},
     "output_type": "execute_result"
    }
   ],
   "source": [
    "n2, d2= getPrivateKey(11,13,11)\n",
    "e2= 11\n",
    "n2, d2"
   ]
  },
  {
   "cell_type": "code",
   "execution_count": 33,
   "metadata": {},
   "outputs": [
    {
     "data": {
      "text/plain": [
       "(25, 25)"
      ]
     },
     "execution_count": 33,
     "metadata": {},
     "output_type": "execute_result"
    }
   ],
   "source": [
    "M= 9\n",
    "C1= E(M, (n1, d1))\n",
    "C= E(C1, (n2, e2))\n",
    "C1, C"
   ]
  },
  {
   "cell_type": "code",
   "execution_count": 34,
   "metadata": {},
   "outputs": [
    {
     "data": {
      "text/plain": [
       "25"
      ]
     },
     "execution_count": 34,
     "metadata": {},
     "output_type": "execute_result"
    }
   ],
   "source": [
    "pow(25, 11, 143)"
   ]
  },
  {
   "cell_type": "code",
   "execution_count": 35,
   "metadata": {},
   "outputs": [
    {
     "data": {
      "text/plain": [
       "(25, 9)"
      ]
     },
     "execution_count": 35,
     "metadata": {},
     "output_type": "execute_result"
    }
   ],
   "source": [
    "C1= D(C, (n2, d2))\n",
    "M= D(C1, (n1, e1))\n",
    "C1, M"
   ]
  },
  {
   "cell_type": "code",
   "execution_count": 87,
   "metadata": {},
   "outputs": [],
   "source": [
    "c= pow(m, 3, n)"
   ]
  },
  {
   "cell_type": "code",
   "execution_count": 88,
   "metadata": {},
   "outputs": [],
   "source": [
    "p= pow(c, 27, n)"
   ]
  },
  {
   "cell_type": "code",
   "execution_count": 89,
   "metadata": {},
   "outputs": [
    {
     "data": {
      "text/plain": [
       "4"
      ]
     },
     "execution_count": 89,
     "metadata": {},
     "output_type": "execute_result"
    }
   ],
   "source": [
    "p"
   ]
  },
  {
   "cell_type": "code",
   "execution_count": 90,
   "metadata": {},
   "outputs": [
    {
     "data": {
      "text/plain": [
       "58149737003040059690390169"
      ]
     },
     "execution_count": 90,
     "metadata": {},
     "output_type": "execute_result"
    }
   ],
   "source": [
    "c**27"
   ]
  },
  {
   "cell_type": "code",
   "execution_count": 91,
   "metadata": {},
   "outputs": [
    {
     "data": {
      "text/plain": [
       "729"
      ]
     },
     "execution_count": 91,
     "metadata": {},
     "output_type": "execute_result"
    }
   ],
   "source": [
    "9**3"
   ]
  },
  {
   "cell_type": "code",
   "execution_count": 92,
   "metadata": {},
   "outputs": [
    {
     "data": {
      "text/plain": [
       "14"
      ]
     },
     "execution_count": 92,
     "metadata": {},
     "output_type": "execute_result"
    }
   ],
   "source": [
    "pow(9,3,55)"
   ]
  },
  {
   "cell_type": "code",
   "execution_count": 93,
   "metadata": {},
   "outputs": [
    {
     "data": {
      "text/plain": [
       "49"
      ]
     },
     "execution_count": 93,
     "metadata": {},
     "output_type": "execute_result"
    }
   ],
   "source": [
    "pow(14,3,55)"
   ]
  },
  {
   "cell_type": "code",
   "execution_count": 94,
   "metadata": {},
   "outputs": [
    {
     "data": {
      "text/plain": [
       "4"
      ]
     },
     "execution_count": 94,
     "metadata": {},
     "output_type": "execute_result"
    }
   ],
   "source": [
    "pow(49,3,55)"
   ]
  },
  {
   "cell_type": "code",
   "execution_count": 98,
   "metadata": {},
   "outputs": [
    {
     "data": {
      "text/plain": [
       "49"
      ]
     },
     "execution_count": 98,
     "metadata": {},
     "output_type": "execute_result"
    }
   ],
   "source": [
    "pow(4,27,55)"
   ]
  },
  {
   "cell_type": "code",
   "execution_count": 96,
   "metadata": {},
   "outputs": [
    {
     "data": {
      "text/plain": [
       "13.5"
      ]
     },
     "execution_count": 96,
     "metadata": {},
     "output_type": "execute_result"
    }
   ],
   "source": [
    "27/2"
   ]
  },
  {
   "cell_type": "code",
   "execution_count": 97,
   "metadata": {},
   "outputs": [
    {
     "data": {
      "text/plain": [
       "6.5"
      ]
     },
     "execution_count": 97,
     "metadata": {},
     "output_type": "execute_result"
    }
   ],
   "source": [
    "13/2"
   ]
  },
  {
   "cell_type": "code",
   "execution_count": null,
   "metadata": {},
   "outputs": [],
   "source": []
  }
 ],
 "metadata": {
  "kernelspec": {
   "display_name": "Python 3",
   "language": "python",
   "name": "python3"
  },
  "language_info": {
   "codemirror_mode": {
    "name": "ipython",
    "version": 3
   },
   "file_extension": ".py",
   "mimetype": "text/x-python",
   "name": "python",
   "nbconvert_exporter": "python",
   "pygments_lexer": "ipython3",
   "version": "3.7.4"
  }
 },
 "nbformat": 4,
 "nbformat_minor": 2
}
