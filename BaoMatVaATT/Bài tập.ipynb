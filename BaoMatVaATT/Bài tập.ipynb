{
 "cells": [
  {
   "cell_type": "code",
   "execution_count": 41,
   "metadata": {},
   "outputs": [],
   "source": [
    "# Vector sieu tang\n",
    "# A= [1, 2, 4, 8, 16, 32, 64, 128]\n",
    "# M= 301, u= 31\n",
    "# a, Lập khóa công kha i K_u và khóa bí mật K_r cho hệ mật mã SnapSnack\n",
    "# b, Mã Vector v= 10\n",
    "M= 150\n",
    "u= 77\n",
    "A= [1, 2, 11, 15, 30, 60]"
   ]
  },
  {
   "cell_type": "code",
   "execution_count": 13,
   "metadata": {},
   "outputs": [
    {
     "data": {
      "text/plain": [
       "[77, 4, 97, 105, 60, 120]"
      ]
     },
     "execution_count": 13,
     "metadata": {},
     "output_type": "execute_result"
    }
   ],
   "source": [
    "# a,\n",
    "A_= [(a*u)%M for a in A]\n",
    "A_"
   ]
  },
  {
   "cell_type": "code",
   "execution_count": 14,
   "metadata": {},
   "outputs": [
    {
     "name": "stdout",
     "output_type": "stream",
     "text": [
      "Khóa công khai:  ([77, 4, 97, 105, 60, 120], 150)\n",
      "Khóa bí mật:  ([1, 2, 11, 15, 30, 60], 77)\n"
     ]
    }
   ],
   "source": [
    "# K_u= (A_, M)\n",
    "K_u= (A_, M)\n",
    "K_r= (A, u)\n",
    "print('Khóa công khai: ', K_u)\n",
    "print('Khóa bí mật: ', K_r) "
   ]
  },
  {
   "cell_type": "code",
   "execution_count": 15,
   "metadata": {},
   "outputs": [
    {
     "data": {
      "text/plain": [
       "'001010'"
      ]
     },
     "execution_count": 15,
     "metadata": {},
     "output_type": "execute_result"
    }
   ],
   "source": [
    "# b,\n",
    "v= 10\n",
    "v= \"{0:b}\".format(v)\n",
    "v= '0' * (len(A_) - len(v)) + v \n",
    "v"
   ]
  },
  {
   "cell_type": "code",
   "execution_count": 16,
   "metadata": {},
   "outputs": [],
   "source": [
    "v= '101101'"
   ]
  },
  {
   "cell_type": "code",
   "execution_count": 17,
   "metadata": {},
   "outputs": [
    {
     "name": "stdout",
     "output_type": "stream",
     "text": [
      "Mã hóa v:  99\n"
     ]
    }
   ],
   "source": [
    "w = 0\n",
    "for i in range(len(v)):\n",
    "    w += int(v[i]) * A_[i] % M\n",
    "w= w % M\n",
    "print('Mã hóa v: ', w)"
   ]
  },
  {
   "cell_type": "code",
   "execution_count": 3,
   "metadata": {},
   "outputs": [],
   "source": [
    "# c\n",
    "import pandas as pd\n",
    "def GCD_extended(x, y):\n",
    "    df= pd.DataFrame()\n",
    "    u1, u2, u3 = 1, 0, x\n",
    "    v1, v2, v3 = 0, 1, y\n",
    "    while v3 != 0:\n",
    "        q = u3//v3\n",
    "        t1, t2, t3 = u1 - q*v1, u2 - q*v2, u3 - q*v3\n",
    "        df= df.append({'q': q,'u1': u1,'u2': u2,'u3': u3,'v1': v1,'v2': v2,'v3': v3,'t1': t1,'t2': t2,'t3': t3}, ignore_index=True)\n",
    "        u1, u2, u3 = v1, v2, v3\n",
    "        v1, v2, v3 = t1, t2, t3\n",
    "    a, b, c= u1, u2, u3\n",
    "    print(df)\n",
    "    return a, b, c"
   ]
  },
  {
   "cell_type": "code",
   "execution_count": 15,
   "metadata": {},
   "outputs": [
    {
     "name": "stdout",
     "output_type": "stream",
     "text": [
      "      q     t1    t2    t3   u1   u2     u3    v1    v2     v3\n",
      "0   0.0    1.0   0.0  77.0  1.0  0.0   77.0   0.0   1.0  150.0\n",
      "1   1.0   -1.0   1.0  73.0  0.0  1.0  150.0   1.0   0.0   77.0\n",
      "2   1.0    2.0  -1.0   4.0  1.0  0.0   77.0  -1.0   1.0   73.0\n",
      "3  18.0  -37.0  19.0   1.0 -1.0  1.0   73.0   2.0  -1.0    4.0\n",
      "4   4.0  150.0 -77.0   0.0  2.0 -1.0    4.0 -37.0  19.0    1.0\n"
     ]
    }
   ],
   "source": [
    "#print(u, M)\n",
    "u_= GCD_extended(77, 150)[0]"
   ]
  },
  {
   "cell_type": "code",
   "execution_count": 17,
   "metadata": {},
   "outputs": [
    {
     "data": {
      "text/plain": [
       "113"
      ]
     },
     "execution_count": 17,
     "metadata": {},
     "output_type": "execute_result"
    }
   ],
   "source": [
    "u_ + 150"
   ]
  },
  {
   "cell_type": "code",
   "execution_count": 14,
   "metadata": {},
   "outputs": [
    {
     "data": {
      "text/plain": [
       "113"
      ]
     },
     "execution_count": 14,
     "metadata": {},
     "output_type": "execute_result"
    }
   ],
   "source": [
    "(19 * 77) % 150"
   ]
  },
  {
   "cell_type": "code",
   "execution_count": 35,
   "metadata": {},
   "outputs": [
    {
     "data": {
      "text/plain": [
       "80"
      ]
     },
     "execution_count": 35,
     "metadata": {},
     "output_type": "execute_result"
    }
   ],
   "source": [
    "# w * u_ mod M\n",
    "X = (10 * 113) % 150\n",
    "X"
   ]
  },
  {
   "cell_type": "code",
   "execution_count": 42,
   "metadata": {},
   "outputs": [
    {
     "name": "stdout",
     "output_type": "stream",
     "text": [
      "80\n",
      "101011\n"
     ]
    }
   ],
   "source": [
    "# w * u_ mod M\n",
    "X = (10 * 113) % 150\n",
    "print(X)\n",
    "V= ''\n",
    "for i in range(len(A)):\n",
    "    if X >= A[len(A) - i - 1]:\n",
    "        X= X - A[len(A) - i - 1]\n",
    "        V+= '1'\n",
    "    else:\n",
    "        V+= '0'\n",
    "print(V)\n",
    "V= int(V[::-1], 2)"
   ]
  },
  {
   "cell_type": "code",
   "execution_count": 43,
   "metadata": {},
   "outputs": [
    {
     "data": {
      "text/plain": [
       "53"
      ]
     },
     "execution_count": 43,
     "metadata": {},
     "output_type": "execute_result"
    }
   ],
   "source": [
    "V"
   ]
  },
  {
   "cell_type": "code",
   "execution_count": null,
   "metadata": {},
   "outputs": [],
   "source": [
    "# A, B sử dụng kỹ thuật phối khóa Diffie-Hellman để truyền tin \n",
    "# cho nhau với số nguyên tố được chọn là p = 71 và phần tử nguyên thủy alpha= 7\n",
    "# a) Nếu khóa bí mật của A là X_A = 5 thì khóa công khai của A là gì ?\n",
    "# b) "
   ]
  },
  {
   "cell_type": "markdown",
   "metadata": {},
   "source": [
    "Cho hệ RSA p=11, q= 47, e=3\n",
    "\n",
    "a, Tính vectỏ cong khai Ku, bí mật Kr\n",
    "\n",
    "b, Gỉa sử các vector công khai và bí mật là của A. Hãy mã bản tin X=26 để gửi đến A\n",
    "\n",
    "c, Cho biết bản mã vừa lập được ở bước b, là bản mã bí mật hay xác thực? (Mô hình 1, hay 2) Giải thích?\n"
   ]
  },
  {
   "cell_type": "code",
   "execution_count": 9,
   "metadata": {},
   "outputs": [],
   "source": [
    "# a"
   ]
  },
  {
   "cell_type": "code",
   "execution_count": 1,
   "metadata": {},
   "outputs": [],
   "source": [
    "p= 29\n",
    "q= 43\n",
    "e= 11"
   ]
  },
  {
   "cell_type": "code",
   "execution_count": 3,
   "metadata": {},
   "outputs": [
    {
     "name": "stdout",
     "output_type": "stream",
     "text": [
      "1176\n"
     ]
    },
    {
     "ename": "NameError",
     "evalue": "name 'GCD_extended' is not defined",
     "output_type": "error",
     "traceback": [
      "\u001b[0;31m---------------------------------------------------------------------------\u001b[0m",
      "\u001b[0;31mNameError\u001b[0m                                 Traceback (most recent call last)",
      "\u001b[0;32m<ipython-input-3-c7923742a35a>\u001b[0m in \u001b[0;36m<module>\u001b[0;34m\u001b[0m\n\u001b[1;32m      2\u001b[0m \u001b[0mphi\u001b[0m\u001b[0;34m=\u001b[0m \u001b[0;34m(\u001b[0m\u001b[0mp\u001b[0m\u001b[0;34m-\u001b[0m\u001b[0;36m1\u001b[0m\u001b[0;34m)\u001b[0m\u001b[0;34m*\u001b[0m\u001b[0;34m(\u001b[0m\u001b[0mq\u001b[0m\u001b[0;34m-\u001b[0m\u001b[0;36m1\u001b[0m\u001b[0;34m)\u001b[0m\u001b[0;34m\u001b[0m\u001b[0;34m\u001b[0m\u001b[0m\n\u001b[1;32m      3\u001b[0m \u001b[0mprint\u001b[0m\u001b[0;34m(\u001b[0m\u001b[0mphi\u001b[0m\u001b[0;34m)\u001b[0m\u001b[0;34m\u001b[0m\u001b[0;34m\u001b[0m\u001b[0m\n\u001b[0;32m----> 4\u001b[0;31m \u001b[0md\u001b[0m\u001b[0;34m=\u001b[0m \u001b[0mGCD_extended\u001b[0m\u001b[0;34m(\u001b[0m\u001b[0me\u001b[0m\u001b[0;34m,\u001b[0m \u001b[0mphi\u001b[0m\u001b[0;34m)\u001b[0m\u001b[0;34m[\u001b[0m\u001b[0;36m0\u001b[0m\u001b[0;34m]\u001b[0m\u001b[0;34m\u001b[0m\u001b[0;34m\u001b[0m\u001b[0m\n\u001b[0m\u001b[1;32m      5\u001b[0m \u001b[0mN\u001b[0m\u001b[0;34m,\u001b[0m \u001b[0mphi\u001b[0m\u001b[0;34m,\u001b[0m \u001b[0md\u001b[0m\u001b[0;34m\u001b[0m\u001b[0;34m\u001b[0m\u001b[0m\n",
      "\u001b[0;31mNameError\u001b[0m: name 'GCD_extended' is not defined"
     ]
    }
   ],
   "source": [
    "N= p*q\n",
    "phi= (p-1)*(q-1)\n",
    "print(phi)\n",
    "d= GCD_extended(e, phi)[0]\n",
    "N, phi, d"
   ]
  },
  {
   "cell_type": "code",
   "execution_count": 49,
   "metadata": {},
   "outputs": [
    {
     "data": {
      "text/plain": [
       "1"
      ]
     },
     "execution_count": 49,
     "metadata": {},
     "output_type": "execute_result"
    }
   ],
   "source": [
    "107 * 11 % phi"
   ]
  },
  {
   "cell_type": "code",
   "execution_count": 51,
   "metadata": {},
   "outputs": [
    {
     "data": {
      "text/plain": [
       "107"
      ]
     },
     "execution_count": 51,
     "metadata": {},
     "output_type": "execute_result"
    }
   ],
   "source": [
    "if d < 0:\n",
    "    d+= phi\n",
    "d"
   ]
  },
  {
   "cell_type": "code",
   "execution_count": 52,
   "metadata": {},
   "outputs": [
    {
     "data": {
      "text/plain": [
       "1"
      ]
     },
     "execution_count": 52,
     "metadata": {},
     "output_type": "execute_result"
    }
   ],
   "source": [
    "(d*e)%phi "
   ]
  },
  {
   "cell_type": "code",
   "execution_count": 53,
   "metadata": {},
   "outputs": [
    {
     "data": {
      "text/plain": [
       "((11, 1247), (107, 1247))"
      ]
     },
     "execution_count": 53,
     "metadata": {},
     "output_type": "execute_result"
    }
   ],
   "source": [
    "Ku= (e, N)\n",
    "Kr= (d, N)\n",
    "Ku, Kr"
   ]
  },
  {
   "cell_type": "code",
   "execution_count": 54,
   "metadata": {},
   "outputs": [],
   "source": [
    "# b"
   ]
  },
  {
   "cell_type": "code",
   "execution_count": 55,
   "metadata": {},
   "outputs": [
    {
     "data": {
      "text/plain": [
       "73"
      ]
     },
     "execution_count": 55,
     "metadata": {},
     "output_type": "execute_result"
    }
   ],
   "source": [
    "X= 3\n",
    "C= pow(X,e, N)\n",
    "C"
   ]
  },
  {
   "cell_type": "code",
   "execution_count": 17,
   "metadata": {},
   "outputs": [],
   "source": [
    "# c, là bản mã bí mật tới A từ B vì chỉ có A có khóa khóa bí mật mới giải mãi được mã bí mật "
   ]
  },
  {
   "cell_type": "code",
   "execution_count": 18,
   "metadata": {},
   "outputs": [
    {
     "data": {
      "text/plain": [
       "26"
      ]
     },
     "execution_count": 18,
     "metadata": {},
     "output_type": "execute_result"
    }
   ],
   "source": [
    "P= pow(C,d, N)\n",
    "P"
   ]
  },
  {
   "cell_type": "code",
   "execution_count": 9,
   "metadata": {},
   "outputs": [
    {
     "data": {
      "text/plain": [
       "3"
      ]
     },
     "execution_count": 9,
     "metadata": {},
     "output_type": "execute_result"
    }
   ],
   "source": [
    "pow(5,7,11)"
   ]
  },
  {
   "cell_type": "code",
   "execution_count": 10,
   "metadata": {},
   "outputs": [
    {
     "data": {
      "text/plain": [
       "78125"
      ]
     },
     "execution_count": 10,
     "metadata": {},
     "output_type": "execute_result"
    }
   ],
   "source": [
    "5**7"
   ]
  },
  {
   "cell_type": "code",
   "execution_count": 7,
   "metadata": {},
   "outputs": [
    {
     "data": {
      "text/plain": [
       "1"
      ]
     },
     "execution_count": 7,
     "metadata": {},
     "output_type": "execute_result"
    }
   ],
   "source": [
    "(35*11) % 192"
   ]
  },
  {
   "cell_type": "code",
   "execution_count": 57,
   "metadata": {},
   "outputs": [
    {
     "data": {
      "text/plain": [
       "5"
      ]
     },
     "execution_count": 57,
     "metadata": {},
     "output_type": "execute_result"
    }
   ],
   "source": [
    "pow(1222, 11, 1247)"
   ]
  },
  {
   "cell_type": "markdown",
   "metadata": {},
   "source": [
    "RSA, p= 31, q= 41, e= 271\n",
    "\n",
    "a, Ku, Kr\n",
    "\n",
    "b, Kí lên văn bản mở M= 100 bằng cách sử dụng hệ RSA trên\n",
    "\n",
    "c, Cho biết chữ ký ở b, có bí mật ko ?\n",
    "\n",
    "d, Ký với hàm hash biết hash(100)= 3. Lập trữ kí với hàm hash và M= 100 bằng hệ RSA"
   ]
  },
  {
   "cell_type": "code",
   "execution_count": 24,
   "metadata": {},
   "outputs": [],
   "source": [
    "p= 13\n",
    "q= 17\n",
    "e= 11"
   ]
  },
  {
   "cell_type": "code",
   "execution_count": 25,
   "metadata": {},
   "outputs": [
    {
     "name": "stdout",
     "output_type": "stream",
     "text": [
      "      q     t1    t2    t3    u1   u2     u3    v1   v2     v3\n",
      "0   0.0    1.0   0.0  11.0   1.0  0.0   11.0   0.0  1.0  192.0\n",
      "1  17.0  -17.0   1.0   5.0   0.0  1.0  192.0   1.0  0.0   11.0\n",
      "2   2.0   35.0  -2.0   1.0   1.0  0.0   11.0 -17.0  1.0    5.0\n",
      "3   5.0 -192.0  11.0   0.0 -17.0  1.0    5.0  35.0 -2.0    1.0\n"
     ]
    }
   ],
   "source": [
    "N= p*q\n",
    "phi= (p-1)*(q-1)\n",
    "d= GCD_extended(e, phi)[0]"
   ]
  },
  {
   "cell_type": "code",
   "execution_count": 26,
   "metadata": {},
   "outputs": [
    {
     "data": {
      "text/plain": [
       "192"
      ]
     },
     "execution_count": 26,
     "metadata": {},
     "output_type": "execute_result"
    }
   ],
   "source": [
    "phi"
   ]
  },
  {
   "cell_type": "code",
   "execution_count": 27,
   "metadata": {},
   "outputs": [
    {
     "data": {
      "text/plain": [
       "35"
      ]
     },
     "execution_count": 27,
     "metadata": {},
     "output_type": "execute_result"
    }
   ],
   "source": [
    "if d < 0:\n",
    "    d+= phi\n",
    "d"
   ]
  },
  {
   "cell_type": "code",
   "execution_count": 28,
   "metadata": {},
   "outputs": [
    {
     "data": {
      "text/plain": [
       "((11, 221), (35, 221))"
      ]
     },
     "execution_count": 28,
     "metadata": {},
     "output_type": "execute_result"
    }
   ],
   "source": [
    "Ku= (e, N)\n",
    "Kr= (d, N)\n",
    "Ku, Kr"
   ]
  },
  {
   "cell_type": "code",
   "execution_count": 33,
   "metadata": {},
   "outputs": [],
   "source": [
    "# b,"
   ]
  },
  {
   "cell_type": "code",
   "execution_count": 33,
   "metadata": {},
   "outputs": [],
   "source": [
    "SIG= pow(2,10,11)"
   ]
  },
  {
   "cell_type": "code",
   "execution_count": 34,
   "metadata": {},
   "outputs": [
    {
     "data": {
      "text/plain": [
       "1"
      ]
     },
     "execution_count": 34,
     "metadata": {},
     "output_type": "execute_result"
    }
   ],
   "source": [
    "SIG"
   ]
  },
  {
   "cell_type": "code",
   "execution_count": 38,
   "metadata": {},
   "outputs": [],
   "source": [
    "# C, Không bí mật vì được gửi kèm theo sig(M)  để người nhận có thể kiểm tra\n",
    "# ver(sig(M))= (sig(M))^e mid N == M"
   ]
  },
  {
   "cell_type": "code",
   "execution_count": 40,
   "metadata": {},
   "outputs": [],
   "source": [
    "# D\n",
    "# sig(m)= (hash(m))^d mod N"
   ]
  },
  {
   "cell_type": "code",
   "execution_count": 41,
   "metadata": {},
   "outputs": [
    {
     "data": {
      "text/plain": [
       "96"
      ]
     },
     "execution_count": 41,
     "metadata": {},
     "output_type": "execute_result"
    }
   ],
   "source": [
    "SIG= pow(3,31,1271)\n",
    "SIG"
   ]
  },
  {
   "cell_type": "code",
   "execution_count": 43,
   "metadata": {},
   "outputs": [
    {
     "data": {
      "text/plain": [
       "(100, 96)"
      ]
     },
     "execution_count": 43,
     "metadata": {},
     "output_type": "execute_result"
    }
   ],
   "source": [
    "#Chữ ký\n",
    "(100, SIG)"
   ]
  },
  {
   "cell_type": "markdown",
   "metadata": {},
   "source": [
    "# Bài tập giao thức"
   ]
  },
  {
   "cell_type": "markdown",
   "metadata": {},
   "source": [
    "Quy ước:\n",
    "- TA: Trung tâm tin cậy quản lý ID, Ver, SIG, Số alpha, số nguyên tố p\n",
    "- ID: Mã định danh cá nhận\n",
    "- Ver: Thuật toán kiểm tra \n",
    "- SIG: Thuật toán ký hay chữ lý \n",
    "\n",
    "a, Hãy cho biết giao thức MM gồm các bước sau là giao thức gì ?, kết quả của giao thức là gì  ?:\n",
    "\n",
    "b1: A, (B) chọn tỉ số n^2 a_A(a_B) và Tính b_A= (alpha)^a_A mod P, b_B= (alpha)^a_B mod P\n",
    "\n",
    "B2: A gửi b_A cho B theo kênh công khai, B gửi b_B cho A theo kênh công khai\n",
    "\n",
    "b3:  \n",
    "\n",
    "A tính K_1= (b_B)^a_A mod P\n",
    "\n",
    "B tính K_2= (b_A)^a_b mod P\n",
    "\n",
    "b, \n",
    "\n",
    "\n",
    "\n"
   ]
  },
  {
   "cell_type": "code",
   "execution_count": 58,
   "metadata": {},
   "outputs": [
    {
     "data": {
      "text/plain": [
       "299"
      ]
     },
     "execution_count": 58,
     "metadata": {},
     "output_type": "execute_result"
    }
   ],
   "source": [
    "13 * 23"
   ]
  },
  {
   "cell_type": "code",
   "execution_count": 59,
   "metadata": {},
   "outputs": [
    {
     "data": {
      "text/plain": [
       "264"
      ]
     },
     "execution_count": 59,
     "metadata": {},
     "output_type": "execute_result"
    }
   ],
   "source": [
    "12*22"
   ]
  },
  {
   "cell_type": "code",
   "execution_count": 60,
   "metadata": {},
   "outputs": [
    {
     "data": {
      "text/plain": [
       "29"
      ]
     },
     "execution_count": 60,
     "metadata": {},
     "output_type": "execute_result"
    }
   ],
   "source": [
    "GCD_extended(173, 264)[0]"
   ]
  },
  {
   "cell_type": "code",
   "execution_count": 61,
   "metadata": {},
   "outputs": [
    {
     "data": {
      "text/plain": [
       "1"
      ]
     },
     "execution_count": 61,
     "metadata": {},
     "output_type": "execute_result"
    }
   ],
   "source": [
    "29 * 173 % 264"
   ]
  },
  {
   "cell_type": "code",
   "execution_count": 62,
   "metadata": {},
   "outputs": [
    {
     "data": {
      "text/plain": [
       "5"
      ]
     },
     "execution_count": 62,
     "metadata": {},
     "output_type": "execute_result"
    }
   ],
   "source": [
    "pow(122,29,299)"
   ]
  },
  {
   "cell_type": "code",
   "execution_count": 63,
   "metadata": {},
   "outputs": [
    {
     "data": {
      "text/plain": [
       "122"
      ]
     },
     "execution_count": 63,
     "metadata": {},
     "output_type": "execute_result"
    }
   ],
   "source": [
    "pow(5,173,299)"
   ]
  },
  {
   "cell_type": "code",
   "execution_count": 64,
   "metadata": {},
   "outputs": [
    {
     "data": {
      "text/plain": [
       "48"
      ]
     },
     "execution_count": 64,
     "metadata": {},
     "output_type": "execute_result"
    }
   ],
   "source": [
    "pow(3,29,299)"
   ]
  },
  {
   "cell_type": "code",
   "execution_count": 65,
   "metadata": {},
   "outputs": [
    {
     "data": {
      "text/plain": [
       "1247"
      ]
     },
     "execution_count": 65,
     "metadata": {},
     "output_type": "execute_result"
    }
   ],
   "source": [
    "29*43"
   ]
  },
  {
   "cell_type": "code",
   "execution_count": 66,
   "metadata": {},
   "outputs": [
    {
     "data": {
      "text/plain": [
       "73"
      ]
     },
     "execution_count": 66,
     "metadata": {},
     "output_type": "execute_result"
    }
   ],
   "source": [
    "pow(3,11,1247)"
   ]
  },
  {
   "cell_type": "code",
   "execution_count": 67,
   "metadata": {},
   "outputs": [
    {
     "data": {
      "text/plain": [
       "107"
      ]
     },
     "execution_count": 67,
     "metadata": {},
     "output_type": "execute_result"
    }
   ],
   "source": [
    "GCD_extended(11,(28*42))[0]"
   ]
  },
  {
   "cell_type": "code",
   "execution_count": 68,
   "metadata": {},
   "outputs": [
    {
     "data": {
      "text/plain": [
       "3"
      ]
     },
     "execution_count": 68,
     "metadata": {},
     "output_type": "execute_result"
    }
   ],
   "source": [
    "pow(73,107,1247)"
   ]
  },
  {
   "cell_type": "code",
   "execution_count": 69,
   "metadata": {},
   "outputs": [
    {
     "data": {
      "text/plain": [
       "636"
      ]
     },
     "execution_count": 69,
     "metadata": {},
     "output_type": "execute_result"
    }
   ],
   "source": [
    "pow(48,11,1247)"
   ]
  },
  {
   "cell_type": "code",
   "execution_count": 70,
   "metadata": {},
   "outputs": [
    {
     "data": {
      "text/plain": [
       "3"
      ]
     },
     "execution_count": 70,
     "metadata": {},
     "output_type": "execute_result"
    }
   ],
   "source": [
    "pow(48,173,299)"
   ]
  },
  {
   "cell_type": "code",
   "execution_count": 5,
   "metadata": {},
   "outputs": [
    {
     "data": {
      "text/plain": [
       "1"
      ]
     },
     "execution_count": 5,
     "metadata": {},
     "output_type": "execute_result"
    }
   ],
   "source": [
    "11 * 107 % 1176"
   ]
  },
  {
   "cell_type": "code",
   "execution_count": null,
   "metadata": {},
   "outputs": [],
   "source": [
    "11*d / 1176 = x + 1/1176"
   ]
  }
 ],
 "metadata": {
  "kernelspec": {
   "display_name": "Python 3",
   "language": "python",
   "name": "python3"
  },
  "language_info": {
   "codemirror_mode": {
    "name": "ipython",
    "version": 3
   },
   "file_extension": ".py",
   "mimetype": "text/x-python",
   "name": "python",
   "nbconvert_exporter": "python",
   "pygments_lexer": "ipython3",
   "version": "3.7.6"
  }
 },
 "nbformat": 4,
 "nbformat_minor": 2
}
