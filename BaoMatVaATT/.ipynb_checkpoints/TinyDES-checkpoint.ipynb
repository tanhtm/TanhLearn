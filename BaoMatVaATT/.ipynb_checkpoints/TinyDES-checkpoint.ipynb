{
 "cells": [
  {
   "cell_type": "code",
   "execution_count": 7,
   "metadata": {},
   "outputs": [],
   "source": [
    "def expand(R):\n",
    "    # R= abcd\n",
    "    return R[2] + R[3] + R[1] + R[2] + R[1] + R[0]\n",
    "\n",
    "def shiftLeft(b, k):\n",
    "    #Dịch vòng k bit sang trái\n",
    "    r=b[k:]\n",
    "    r= r + b[:k]\n",
    "    return r\n",
    "\n",
    "def XOR(a, b):\n",
    "    assert len(a) == len(b), 'Không cùng số bit !'\n",
    "    return ''.join(['0' if a[i] == b[i] else '1' for i in range(len(a))])\n",
    "\n",
    "def compress(k):\n",
    "    # Nén khóa từ 8 bit thành 6 bit\n",
    "    return k[5] + k[1] + k[3] + k[2] + k[7] + k[0]\n",
    "\n",
    "def genKey(key):\n",
    "    # Sinh 3 khóa con 6bit từ khóa 8bit\n",
    "    l, r= key[:4], key[4:]\n",
    "    #print(l, r)\n",
    "    keys= []\n",
    "    for i in range(3):\n",
    "        #print('Bước %d' % (i+1))\n",
    "        if i % 2 == 0:\n",
    "            l= shiftLeft(l, 1)\n",
    "            r= shiftLeft(r, 1)\n",
    "        else:\n",
    "            l= shiftLeft(l, 2)\n",
    "            r= shiftLeft(r, 2)\n",
    "        #print(l, r)\n",
    "        keys.append(compress(l+r))\n",
    "    return keys\n",
    "\n",
    "def SBox(b):\n",
    "    # Thay thế\n",
    "    s=[[14, 4, 13, 1, 2, 15, 11, 8, 3, 10, 6, 12, 5, 9, 0, 7],\n",
    "       [0, 15, 7, 4, 14, 2, 13, 1, 10, 6, 12, 11, 9, 5, 3, 8],\n",
    "       [4, 1, 14, 8, 13, 6, 2, 11, 15, 12, 9, 7, 3, 10, 5, 0],\n",
    "       [15, 12, 8, 2, 4, 9, 1, 7, 5, 11, 3, 14, 10, 0, 6, 13]]\n",
    "    row= int(b[0] + b[5], 2)\n",
    "    col= int(b[1:-1], 2)\n",
    "    r= \"{0:b}\".format(s[row][col])\n",
    "    r= '0'*(4- len(r)) + r\n",
    "    return r\n",
    "\n",
    "def PBox(b):\n",
    "    # Hoán vị 4bit\n",
    "    return b[2] + b[0] + b[3] + b[1] # 1001 -> 0110 -> 1001\n",
    "\n",
    "def F(R, K):\n",
    "    #Feistel\n",
    "    return PBox(SBox(XOR(expand(R), K)))\n",
    "\n",
    "def encode(P, K):\n",
    "    Pl, Pr= P[:4], P[4:]\n",
    "    print('Pl= %s, Pr= %s' % (Pl, Pr))\n",
    "    key= genKey(K)\n",
    "    print('Sinh khóa con: ')\n",
    "    for i in range(3):\n",
    "        print('K%d= ' % (i+1) + key[i])\n",
    "    for i in range(3):\n",
    "        print('Vòng %d:' % (i + 1))\n",
    "        temp= Pr\n",
    "        f= F(Pr, key[i])\n",
    "        print('F%d= %s' % ((i+1), f))\n",
    "        Pr= XOR(f, Pl) \n",
    "        Pl= temp\n",
    "        print('L%d= %s, R%d= %s' % ((i+1), Pl,(i+1), Pr))\n",
    "    return Pl + Pr\n",
    "def decode(C, K):\n",
    "    Cl, Cr= C[:4], C[4:]\n",
    "    print('Cl= %s, Cr= %s' % (Cl, Cr))\n",
    "    key= genKey(K)\n",
    "    print('Sinh khóa con: ')\n",
    "    for i in range(3):\n",
    "        print('K%d= ' % (i+1) + key[i])\n",
    "    for i in range(3):\n",
    "        print('Vòng %d:' % (i + 1))\n",
    "        temp= Cr\n",
    "        f= F(Cr, key[3-i-1])\n",
    "        print('F%d= %s' % ((i+1), f))\n",
    "        Cr= XOR(f, Cl) \n",
    "        Cl= temp\n",
    "        print('L%d= %s, R%d= %s' % ((i+1), Cl,(i+1), Cr))\n",
    "    return Cl + Cr"
   ]
  },
  {
   "cell_type": "code",
   "execution_count": 5,
   "metadata": {},
   "outputs": [
    {
     "name": "stdout",
     "output_type": "stream",
     "text": [
      "Pl= 0101, Pr= 1100\n",
      "Sinh khóa con: \n",
      "K1= 101110\n",
      "K2= 110011\n",
      "K3= 001001\n",
      "Vòng 1:\n",
      "F1= 0100\n",
      "L1= 1100, R1= 0001\n",
      "Vòng 2:\n",
      "F2= 0101\n",
      "L2= 0001, R2= 1001\n",
      "Vòng 3:\n",
      "F3= 0011\n",
      "L3= 1001, R3= 0010\n"
     ]
    },
    {
     "data": {
      "text/plain": [
       "'10010010'"
      ]
     },
     "execution_count": 5,
     "metadata": {},
     "output_type": "execute_result"
    }
   ],
   "source": [
    "encode('01011100', '10011010')"
   ]
  },
  {
   "cell_type": "code",
   "execution_count": 8,
   "metadata": {},
   "outputs": [
    {
     "name": "stdout",
     "output_type": "stream",
     "text": [
      "Cl= 1001, Cr= 0010\n",
      "Sinh khóa con: \n",
      "K1= 101110\n",
      "K2= 110011\n",
      "K3= 001001\n",
      "Vòng 1:\n",
      "F1= 0010\n",
      "L1= 0010, R1= 1011\n",
      "Vòng 2:\n",
      "F2= 0010\n",
      "L2= 1011, R2= 0000\n",
      "Vòng 3:\n",
      "F3= 1110\n",
      "L3= 0000, R3= 0101\n"
     ]
    },
    {
     "data": {
      "text/plain": [
       "'00000101'"
      ]
     },
     "execution_count": 8,
     "metadata": {},
     "output_type": "execute_result"
    }
   ],
   "source": [
    "decode('10010010', '10011010')"
   ]
  },
  {
   "cell_type": "code",
   "execution_count": null,
   "metadata": {},
   "outputs": [],
   "source": []
  }
 ],
 "metadata": {
  "kernelspec": {
   "display_name": "Python 3",
   "language": "python",
   "name": "python3"
  },
  "language_info": {
   "codemirror_mode": {
    "name": "ipython",
    "version": 3
   },
   "file_extension": ".py",
   "mimetype": "text/x-python",
   "name": "python",
   "nbconvert_exporter": "python",
   "pygments_lexer": "ipython3",
   "version": "3.7.3"
  }
 },
 "nbformat": 4,
 "nbformat_minor": 2
}
