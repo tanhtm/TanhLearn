{
 "cells": [
  {
   "cell_type": "code",
   "execution_count": 12,
   "metadata": {},
   "outputs": [],
   "source": [
    "# Vector sieu tang\n",
    "# A= [1, 2, 4, 8, 16, 32, 64, 128]\n",
    "# M= 301, u= 31\n",
    "# a, Lập khóa công kha i K_u và khóa bí mật K_r cho hệ mật mã SnapSnack\n",
    "# b, Mã Vector v= 10\n",
    "M= 301\n",
    "u= 31\n",
    "A= [1, 2, 4, 8, 16, 32, 64, 128]"
   ]
  },
  {
   "cell_type": "code",
   "execution_count": 13,
   "metadata": {},
   "outputs": [
    {
     "data": {
      "text/plain": [
       "[31, 62, 124, 248, 195, 89, 178, 55]"
      ]
     },
     "execution_count": 13,
     "metadata": {},
     "output_type": "execute_result"
    }
   ],
   "source": [
    "# a,\n",
    "A_= [(a*u)%M for a in A]\n",
    "A_"
   ]
  },
  {
   "cell_type": "code",
   "execution_count": 18,
   "metadata": {},
   "outputs": [
    {
     "name": "stdout",
     "output_type": "stream",
     "text": [
      "Khóa công khai:  ([31, 62, 124, 248, 195, 89, 178, 55], 301)\n",
      "Khóa bí mật:  ([1, 2, 4, 8, 16, 32, 64, 128], 31)\n"
     ]
    }
   ],
   "source": [
    "# K_u= (A_, M)\n",
    "K_u= (A_, M)\n",
    "K_r= (A, u)\n",
    "print('Khóa công khai: ', K_u)\n",
    "print('Khóa bí mật: ', K_r) "
   ]
  },
  {
   "cell_type": "code",
   "execution_count": 22,
   "metadata": {},
   "outputs": [
    {
     "data": {
      "text/plain": [
       "'00001010'"
      ]
     },
     "execution_count": 22,
     "metadata": {},
     "output_type": "execute_result"
    }
   ],
   "source": [
    "# b,\n",
    "v= 10\n",
    "v= \"{0:b}\".format(v)\n",
    "v= '0' * (len(A_) - len(v)) + v \n",
    "v"
   ]
  },
  {
   "cell_type": "code",
   "execution_count": 30,
   "metadata": {},
   "outputs": [
    {
     "name": "stdout",
     "output_type": "stream",
     "text": [
      "Mã hóa v:  72\n"
     ]
    }
   ],
   "source": [
    "w = 0\n",
    "for i in range(len(v)):\n",
    "    w += int(v[i]) * A_[i] % M\n",
    "w= w % M\n",
    "print('Mã hóa v: ', w)"
   ]
  },
  {
   "cell_type": "code",
   "execution_count": 27,
   "metadata": {},
   "outputs": [],
   "source": [
    "# c\n",
    "import pandas as pd\n",
    "def GCD_extended(x, y):\n",
    "    df= pd.DataFrame()\n",
    "    u1, u2, u3 = 1, 0, x\n",
    "    v1, v2, v3 = 0, 1, y\n",
    "    while v3 != 0:\n",
    "        q = u3//v3\n",
    "        t1, t2, t3 = u1 - q*v1, u2 - q*v2, u3 - q*v3\n",
    "        df= df.append({'q': q,'u1': u1,'u2': u2,'u3': u3,'v1': v1,'v2': v2,'v3': v3,'t1': t1,'t2': t2,'t3': t3}, ignore_index=True)\n",
    "        u1, u2, u3 = v1, v2, v3\n",
    "        v1, v2, v3 = t1, t2, t3\n",
    "    a, b, c= u1, u2, u3\n",
    "    print(df)\n",
    "    return a, b, c"
   ]
  },
  {
   "cell_type": "code",
   "execution_count": 28,
   "metadata": {},
   "outputs": [
    {
     "name": "stdout",
     "output_type": "stream",
     "text": [
      "     q    t1     t2    t3   u1    u2     u3   v1    v2    v3\n",
      "0  9.0   1.0   -9.0  22.0  1.0   0.0  301.0  0.0   1.0  31.0\n",
      "1  1.0  -1.0   10.0   9.0  0.0   1.0   31.0  1.0  -9.0  22.0\n",
      "2  2.0   3.0  -29.0   4.0  1.0  -9.0   22.0 -1.0  10.0   9.0\n",
      "3  2.0  -7.0   68.0   1.0 -1.0  10.0    9.0  3.0 -29.0   4.0\n",
      "4  4.0  31.0 -301.0   0.0  3.0 -29.0    4.0 -7.0  68.0   1.0\n"
     ]
    }
   ],
   "source": [
    "u_= GCD_extended(301, 31)[0]"
   ]
  },
  {
   "cell_type": "code",
   "execution_count": 36,
   "metadata": {},
   "outputs": [
    {
     "data": {
      "text/plain": [
       "68"
      ]
     },
     "execution_count": 36,
     "metadata": {},
     "output_type": "execute_result"
    }
   ],
   "source": [
    "u_"
   ]
  },
  {
   "cell_type": "code",
   "execution_count": 53,
   "metadata": {},
   "outputs": [
    {
     "data": {
      "text/plain": [
       "136"
      ]
     },
     "execution_count": 53,
     "metadata": {},
     "output_type": "execute_result"
    }
   ],
   "source": [
    "# w * u_ mod M\n",
    "X = 68 * 2 % 301\n",
    "X"
   ]
  },
  {
   "cell_type": "code",
   "execution_count": 62,
   "metadata": {},
   "outputs": [],
   "source": [
    "# w * u_ mod M\n",
    "X = 68 * 2 % 301\n",
    "V= ''\n",
    "for i in range(len(A)):\n",
    "    if X >= A[len(A) - i - 1]:\n",
    "        X= X - A[len(A) - i - 1]\n",
    "        V+= '1'\n",
    "    else:\n",
    "        V+= '0'\n",
    "V= int(V[::-1], 2)"
   ]
  },
  {
   "cell_type": "code",
   "execution_count": 63,
   "metadata": {},
   "outputs": [
    {
     "data": {
      "text/plain": [
       "17"
      ]
     },
     "execution_count": 63,
     "metadata": {},
     "output_type": "execute_result"
    }
   ],
   "source": [
    "V"
   ]
  },
  {
   "cell_type": "code",
   "execution_count": null,
   "metadata": {},
   "outputs": [],
   "source": [
    "# A, B sử dụng kỹ thuật phối khóa Diffie-Hellman để truyền tin \n",
    "# cho nhau với số nguyên tố được chọn là p = 71 và phần tử nguyên thủy alpha= 7\n",
    "# a) Nếu khóa bí mật của A là X_A = 5 thì khóa công khai của A là gì ?\n",
    "# b) "
   ]
  },
  {
   "cell_type": "markdown",
   "metadata": {},
   "source": [
    "Cho hệ RSA p=11, q= 47, e=3\n",
    "\n",
    "a, Tính vectỏ cong khai Ku, bí mật Kr\n",
    "\n",
    "b, Gỉa sử các vector công khai và bí mật là của A. Hãy mã bản tin X=26 để gửi đến A\n",
    "\n",
    "c, Cho biết bản mã vừa lập được ở bước b, là bản mã bí mật hay xác thực? (Mô hình 1, hay 2) Giải thích?\n"
   ]
  },
  {
   "cell_type": "code",
   "execution_count": 9,
   "metadata": {},
   "outputs": [],
   "source": [
    "# a"
   ]
  },
  {
   "cell_type": "code",
   "execution_count": 1,
   "metadata": {},
   "outputs": [],
   "source": [
    "p= 11\n",
    "q= 47\n",
    "e= 3"
   ]
  },
  {
   "cell_type": "code",
   "execution_count": 3,
   "metadata": {},
   "outputs": [
    {
     "name": "stdout",
     "output_type": "stream",
     "text": [
      "0 1 0 3 0 1 460 1 0 3\n",
      "153 0 1 460 1 0 3 -153 1 1\n",
      "3 1 0 3 -153 1 1 460 -3 0\n"
     ]
    }
   ],
   "source": [
    "N= p*q\n",
    "phi= (p-1)*(q-1)\n",
    "d= GCD_extended(e, phi)[0]"
   ]
  },
  {
   "cell_type": "code",
   "execution_count": 5,
   "metadata": {},
   "outputs": [
    {
     "data": {
      "text/plain": [
       "307"
      ]
     },
     "execution_count": 5,
     "metadata": {},
     "output_type": "execute_result"
    }
   ],
   "source": [
    "if d < 0:\n",
    "    d+= phi\n",
    "d"
   ]
  },
  {
   "cell_type": "code",
   "execution_count": 6,
   "metadata": {},
   "outputs": [
    {
     "data": {
      "text/plain": [
       "1"
      ]
     },
     "execution_count": 6,
     "metadata": {},
     "output_type": "execute_result"
    }
   ],
   "source": [
    "(307*e)%phi "
   ]
  },
  {
   "cell_type": "code",
   "execution_count": 8,
   "metadata": {},
   "outputs": [
    {
     "data": {
      "text/plain": [
       "((3, 517), (307, 517))"
      ]
     },
     "execution_count": 8,
     "metadata": {},
     "output_type": "execute_result"
    }
   ],
   "source": [
    "Ku= (e, N)\n",
    "Kr= (d, N)\n",
    "Ku, Kr"
   ]
  },
  {
   "cell_type": "code",
   "execution_count": 10,
   "metadata": {},
   "outputs": [],
   "source": [
    "# b"
   ]
  },
  {
   "cell_type": "code",
   "execution_count": 12,
   "metadata": {},
   "outputs": [
    {
     "data": {
      "text/plain": [
       "515"
      ]
     },
     "execution_count": 12,
     "metadata": {},
     "output_type": "execute_result"
    }
   ],
   "source": [
    "X= 26\n",
    "C= pow(X,e, N)\n",
    "C"
   ]
  },
  {
   "cell_type": "code",
   "execution_count": 17,
   "metadata": {},
   "outputs": [],
   "source": [
    "# c, là bản mã bí mật tới A từ B vì chỉ có A có khóa khóa bí mật mới giải mãi được mã bí mật "
   ]
  },
  {
   "cell_type": "code",
   "execution_count": 18,
   "metadata": {},
   "outputs": [
    {
     "data": {
      "text/plain": [
       "26"
      ]
     },
     "execution_count": 18,
     "metadata": {},
     "output_type": "execute_result"
    }
   ],
   "source": [
    "P= pow(C,d, N)\n",
    "P"
   ]
  },
  {
   "cell_type": "markdown",
   "metadata": {},
   "source": [
    "RSA, p= 31, q= 41, e= 271\n",
    "\n",
    "a, Ku, Kr\n",
    "\n",
    "b, Kí lên văn bản mở M= 100 bằng cách sử dụng hệ RSA trên\n",
    "\n",
    "c, Cho biết chữ ký ở b, có bí mật ko ?\n",
    "\n",
    "d, Ký với hàm hash biết hash(100)= 3. Lập trữ kí với hàm hash và M= 100 bằng hệ RSA"
   ]
  },
  {
   "cell_type": "code",
   "execution_count": 29,
   "metadata": {},
   "outputs": [],
   "source": [
    "p= 31\n",
    "q= 41\n",
    "e= 271"
   ]
  },
  {
   "cell_type": "code",
   "execution_count": 30,
   "metadata": {},
   "outputs": [
    {
     "name": "stdout",
     "output_type": "stream",
     "text": [
      "      q      t1     t2     t3    u1   u2      u3    v1   v2      v3\n",
      "0   0.0     1.0    0.0  271.0   1.0  0.0   271.0   0.0  1.0  1200.0\n",
      "1   4.0    -4.0    1.0  116.0   0.0  1.0  1200.0   1.0  0.0   271.0\n",
      "2   2.0     9.0   -2.0   39.0   1.0  0.0   271.0  -4.0  1.0   116.0\n",
      "3   2.0   -22.0    5.0   38.0  -4.0  1.0   116.0   9.0 -2.0    39.0\n",
      "4   1.0    31.0   -7.0    1.0   9.0 -2.0    39.0 -22.0  5.0    38.0\n",
      "5  38.0 -1200.0  271.0    0.0 -22.0  5.0    38.0  31.0 -7.0     1.0\n"
     ]
    }
   ],
   "source": [
    "N= p*q\n",
    "phi= (p-1)*(q-1)\n",
    "d= GCD_extended(e, phi)[0]"
   ]
  },
  {
   "cell_type": "code",
   "execution_count": 31,
   "metadata": {},
   "outputs": [
    {
     "data": {
      "text/plain": [
       "31"
      ]
     },
     "execution_count": 31,
     "metadata": {},
     "output_type": "execute_result"
    }
   ],
   "source": [
    "d"
   ]
  },
  {
   "cell_type": "code",
   "execution_count": 32,
   "metadata": {},
   "outputs": [
    {
     "data": {
      "text/plain": [
       "((271, 1271), (31, 1271))"
      ]
     },
     "execution_count": 32,
     "metadata": {},
     "output_type": "execute_result"
    }
   ],
   "source": [
    "Ku= (e, N)\n",
    "Kr= (d, N)\n",
    "Ku, Kr"
   ]
  },
  {
   "cell_type": "code",
   "execution_count": 33,
   "metadata": {},
   "outputs": [],
   "source": [
    "# b,"
   ]
  },
  {
   "cell_type": "code",
   "execution_count": 36,
   "metadata": {},
   "outputs": [],
   "source": [
    "SIG= pow(100,d,N)"
   ]
  },
  {
   "cell_type": "code",
   "execution_count": 37,
   "metadata": {},
   "outputs": [
    {
     "data": {
      "text/plain": [
       "100"
      ]
     },
     "execution_count": 37,
     "metadata": {},
     "output_type": "execute_result"
    }
   ],
   "source": [
    "SIG"
   ]
  },
  {
   "cell_type": "code",
   "execution_count": 38,
   "metadata": {},
   "outputs": [],
   "source": [
    "# C, Không bí mật vì được gửi kèm theo sig(M)  để người nhận có thể kiểm tra\n",
    "# ver(sig(M))= (sig(M))^e mid N == M"
   ]
  },
  {
   "cell_type": "code",
   "execution_count": 40,
   "metadata": {},
   "outputs": [],
   "source": [
    "# D\n",
    "# sig(m)= (hash(m))^d mod N"
   ]
  },
  {
   "cell_type": "code",
   "execution_count": 41,
   "metadata": {},
   "outputs": [
    {
     "data": {
      "text/plain": [
       "96"
      ]
     },
     "execution_count": 41,
     "metadata": {},
     "output_type": "execute_result"
    }
   ],
   "source": [
    "SIG= pow(3,31,1271)\n",
    "SIG"
   ]
  },
  {
   "cell_type": "code",
   "execution_count": 43,
   "metadata": {},
   "outputs": [
    {
     "data": {
      "text/plain": [
       "(100, 96)"
      ]
     },
     "execution_count": 43,
     "metadata": {},
     "output_type": "execute_result"
    }
   ],
   "source": [
    "#Chữ ký\n",
    "(100, SIG)"
   ]
  },
  {
   "cell_type": "markdown",
   "metadata": {},
   "source": [
    "# Bài tập giao thức"
   ]
  },
  {
   "cell_type": "markdown",
   "metadata": {},
   "source": [
    "Quy ước:\n",
    "- TA: Trung tâm tin cậy quản lý ID, Ver, SIG, Số alpha, số nguyên tố p\n",
    "- ID: Mã định danh cá nhận\n",
    "- Ver: Thuật toán kiểm tra \n",
    "- SIG: Thuật toán ký hay chữ lý \n",
    "\n",
    "a, Hãy cho biết giao thức MM gồm các bước sau là giao thức gì ?, kết quả của giao thức là gì  ?:\n",
    "\n",
    "b1: A, (B) chọn tỉ số n^2 a_A(a_B) và Tính b_A= (alpha)^a_A mod P, b_B= (alpha)^a_B mod P\n",
    "\n",
    "B2: A gửi b_A cho B theo kênh công khai, B gửi b_B cho A theo kênh công khai\n",
    "\n",
    "b3:  \n",
    "\n",
    "A tính K_1= (b_B)^a_A mod P\n",
    "\n",
    "B tính K_2= (b_A)^a_b mod P\n",
    "\n",
    "b, \n",
    "\n",
    "\n",
    "\n"
   ]
  }
 ],
 "metadata": {
  "kernelspec": {
   "display_name": "Python 3",
   "language": "python",
   "name": "python3"
  },
  "language_info": {
   "codemirror_mode": {
    "name": "ipython",
    "version": 3
   },
   "file_extension": ".py",
   "mimetype": "text/x-python",
   "name": "python",
   "nbconvert_exporter": "python",
   "pygments_lexer": "ipython3",
   "version": "3.7.3"
  }
 },
 "nbformat": 4,
 "nbformat_minor": 2
}
