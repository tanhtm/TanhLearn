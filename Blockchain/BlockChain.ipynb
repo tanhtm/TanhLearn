{
 "cells": [
  {
   "cell_type": "markdown",
   "metadata": {},
   "source": [
    "# 1. Components Involved in Blockchain Project Development\n",
    "\n",
    "Now, you may also like to launch your own currency. Let us call this as TPCoin (TutorialsPoint Coin)\n",
    "\n",
    "The entire blockchain project development consists of three major components:\n",
    "\n",
    "- Client\n",
    "- Miners\n",
    "- Blockchain\n",
    "\n",
    "## 1.1 Client\n",
    "The Client is the one who will buy goods from other vendors. The client himself may become a vendor and will accept money from others against the goods he supplies. We assume here that the client can both be a supplier and a recipient of TPCoins. Thus, we will create a client class in our code that has the ability to send and receive money.\n",
    "\n",
    "## 1.2 Miner\n",
    "The Miner is the one who picks up the transactions from a transaction pool and assembles them in a block. The miner has to provide a valid proof-of-work to get the mining reward. All the money that miner collects as a fee will be for him to keep. He may spend that money on buying goods or services from other registered vendors on the network, just the way a Client described above does.\n",
    "\n",
    "## 1.3 Blockchain\n",
    "\n",
    "Finally, a Blockchain is a data structure that chains all the mined blocks in a chronological order. This chain is immutable and thus temper-proof.\n",
    "\n",
    "You may follow this tutorial by typing out the code presented in each step in a new Jupyter notebook. Alternatively, you may download the entire Jupyter notebook from www.anaconda.com.\n",
    "\n",
    "In the next chapter, we will develop a client that uses our blockchain system.\n"
   ]
  },
  {
   "cell_type": "markdown",
   "metadata": {},
   "source": [
    "# 2. Python Blockchain - Developing Client\n",
    "\n",
    "A client is somebody who holds TPCoins and transacts those for goods/services from other vendors on the network including his own. We should define a Client class for this purpose. To create a globally unique identification for the client, we use PKI (Public Key Infrastructure).\n",
    "\n",
    "The client should be able to send money from his wallet to another known person. Similarly, the client should be able to accept money from a third party. For spending money, the client would create a transaction specifying the sender’s name and the amount to be paid. For receiving money, the client will provide his identity to the third party − essentially a sender of the money. We do not store the balance amount of money the client holds in his wallet. During a transaction, we will compute the actual balance to ensure that the client has sufficient balance to make the payment.\n",
    "\n",
    "To develop the Client class and for the rest of the code in the project, we will need to import many Python libraries. These are listed below "
   ]
  },
  {
   "cell_type": "code",
   "execution_count": 1,
   "metadata": {},
   "outputs": [],
   "source": [
    "# import libraries\n",
    "import hashlib\n",
    "import random\n",
    "import string\n",
    "import json\n",
    "import binascii\n",
    "import numpy as np\n",
    "import pandas as pd\n",
    "import pylab as pl\n",
    "import logging\n",
    "import datetime\n",
    "import collections"
   ]
  },
  {
   "cell_type": "markdown",
   "metadata": {},
   "source": [
    "In addition to the above standard libraries, we are going to sign our transactions, create hash of the objects, etc. For this, you will need to import the following libraries"
   ]
  },
  {
   "cell_type": "code",
   "execution_count": 2,
   "metadata": {},
   "outputs": [],
   "source": [
    "# following imports are required by PKI\n",
    "import Crypto\n",
    "import Crypto.Random\n",
    "from Crypto.Hash import SHA\n",
    "from Crypto.PublicKey import RSA\n",
    "from Crypto.Signature import PKCS1_v1_5"
   ]
  },
  {
   "cell_type": "markdown",
   "metadata": {},
   "source": [
    "## 2.1 Python Blockchain - Client Class\n",
    "\n",
    "The Client class generates the private and public keys by using the built-in Python RSA algorithm. The interested reader may refer to this tutorial for the implementation of RSA. During the object initialization, we create private and public keys and store their values in the instance variable"
   ]
  },
  {
   "cell_type": "code",
   "execution_count": 3,
   "metadata": {},
   "outputs": [],
   "source": [
    "class Client:\n",
    "    def __init__(self):\n",
    "        random = Crypto.Random.new().read\n",
    "        # Generates the private and public keys 1024bit\n",
    "        self._private_key = RSA.generate(1024, random)\n",
    "        self._public_key = self._private_key.publickey()\n",
    "        \n",
    "        # Creat signer\n",
    "        self._signer = PKCS1_v1_5.new(self._private_key)\n",
    "\n",
    "    @property\n",
    "    def identity(self):\n",
    "        ###\n",
    "        # The identity is unique to each client and can be made \n",
    "        #publicly available. Anybody would be able to send virtual \n",
    "        #currency to you using this identity and it will get added \n",
    "        #to your wallet.\n",
    "        ###\n",
    "        return binascii.hexlify(self._public_key.exportKey(format='DER')).decode('ascii')"
   ]
  },
  {
   "cell_type": "code",
   "execution_count": 4,
   "metadata": {},
   "outputs": [
    {
     "name": "stdout",
     "output_type": "stream",
     "text": [
      "b'0\\x82\\x02]\\x02\\x01\\x00\\x02\\x81\\x81\\x00\\xaf\\n\\xec\\xe0l\\xde\\xbdp\\xd5\"\\rR\\xc4\\x81\\xc5\\x8d$\\x9a\\x17\\xb0\\xbb\\xea\\xa12\\xab\\xb3>\\x7f\\x95X\\xad\\xad\\xedd\\x90\\x072\\x8ch\\xd8i6j3\\xd6&}We\\xc4\\xd0\\xe7}\\x05\\x1b\\xeb\\xbf\\x8e\\xa6\\xc5\\xdc\\x1bM\\x1c\\x89\\x16\\x99\\x07\\x0e\\xa98\\xa0\\x94%\\xfc\\xcd\\xb0\"\\xfe\\xe7(\\',\\xa2\\xf6\\xff\\x11vZ\\x1e\\r@\\xe6\\'K+\\xa1\\xab\\x80\\x0c\\x11X-\\xcb>cc\\xef\\x8a\\x9d9\\x8c\\xa0D\\x03o\\xdf\\xa7\\x9c\\x1f\\x06e\\x92A.\\xa8w\\x8b\\x02\\x03\\x01\\x00\\x01\\x02\\x81\\x81\\x00\\x93\\xe2\\x8e\\x18Y\\xc2\\xa1\\x98\\x97h\\xea\\x8a\\xb7\\xdc\\xcf\\xd3\\x9cM\\xd7\\xa0\\x08S\\x85\\x972\\xbb\\x00\\x1dxF\\xf0\\x8dVX4\\xda\\xef\\xd8\\xf2\\xa7\\x8b\\xd4^K\\xa7,\\xe3\\x8e\\x98;}\\'fW\\x8f\\xacP-\\xac6\\xd3\\xeb\\xf8\\xeb\\xb0\\xd25p\\x02\\xfeCg4\\xfa_\\xf5\\xc9\\x18|\\xa4\\xde\\\\\\xeec2\\x81w\\xf8*\\x018\\x7fK\\xa9\\x1bo\\xf5\\xe3#\\xf51\\xab\\xcc\\xda\\xa2+\\xad\\xc2\\xed\\xee\\xe3(\\x81B\\x8b\\x900\\x1bT\\x89\\x7fmc\\xfa\\xba\\x9bka\\x02A\\x00\\xc1\\xf0\\x89R\\x88?\\xf5\\x85M\\xc1\\x90 H\\xb5\\x0f\\xb5\\xb6r\\xa3d\\xaauc\\x8c\\xf9\\xc3\\xfcfu9 A5\\xe4z\\x03T\\xf0\\xa4\\xa4\\x16E<-\\xecl\\xe8h\"\\xbe\\x98\\xec\\xbcU\\xfd\\xe86t)\\xb5l\\x8fy\\xf1\\x02A\\x00\\xe7\\x0e\\\\&G\\xc0{\\xad\\x86J\\x95{\\xde\\x07\\xe6\"N\\x848\\xae\\xb4\\xe5\\x9e\\xdeM\\x9b4Qf+f\\xb2\\x94\\xc8s\\xf4\\xf7\\xacf\\x97\\x10}yf}YC28b\\xa5\\xe1+\\n\\xd6\\x8e\\xa4\\x14\\x83O\\x9b\\xa8-;\\x02@e`\\xa9G\\xdd5!\\xd0\\x86\\xee\\xd1\\xba.\\x87\\x87(\\xc3\\xb0u<\\xdf\\xe5\\xf1\\x1d\\xf6I\\xbe\\x9c\\x88VNH\\x085\\xe0\\x99\\xf1B\\xc1\\xad\\x8c~\\xb0\\x90\\x88\\xef\\xfd$\\xc2T\\xc3w\\xac\\x93~\\xe0m\\xe6\\x97\\x0e\\xe1*\\xb6\\xe1\\x02A\\x00\\xbe\\xfb\\x15\\x9b\\xe6\\x8e\\xe9+\\x82\\xe6\\xbf,EW\\xce\\x16\\xe9CL\\xfe\\xcb3H\\xdf\\x82\\xd2\\x18\\xaaw\\x82\\xc4>3\\xd0\\x84X%\\'\\xf1\\x1cH[\\x0e/r\\xc8\\x87LIb\\xf0\\xado@d\\x1c>\\xef]\\xa2=\\x8d\\x02\\xe5\\x02@@0\\xff\\x15v*\\x0ewA\\xa5+\\xebP\\xb6H\\x00-\\xa5\\x96\\x85\\xa1A\\x1b\\x14\\x9d0\\x91\\xe6\\xa2\\'\\x9c\\x07s\\x84F\\xb2\\xfb\\xad\\x1fE[\\xa3\\x15[^\\x07\\xb3\\x87R6\\x1eej\\x1c\\xbfG\\x9f\\xb7\\x11r\\xeb\\xedyo'\n",
      "<Crypto.Signature.PKCS1_v1_5.PKCS115_SigScheme object at 0x7f8821ad2490>\n"
     ]
    },
    {
     "data": {
      "text/plain": [
       "'30819f300d06092a864886f70d010101050003818d0030818902818100af0aece06cdebd70d5220d52c481c58d249a17b0bbeaa132abb33e7f9558adaded649007328c68d869366a33d6267d5765c4d0e77d051bebbf8ea6c5dc1b4d1c891699070ea938a09425fccdb022fee728272ca2f6ff11765a1e0d40e6274b2ba1ab800c11582dcb3e6363ef8a9d398ca044036fdfa79c1f066592412ea8778b0203010001'"
      ]
     },
     "execution_count": 4,
     "metadata": {},
     "output_type": "execute_result"
    }
   ],
   "source": [
    "#Testing Client\n",
    "Dinesh = Client()\n",
    "print(Dinesh._private_key.exportKey(format='DER'))\n",
    "print(Dinesh._signer)\n",
    "Dinesh.identity"
   ]
  },
  {
   "cell_type": "markdown",
   "metadata": {},
   "source": [
    "The above code creates an instance of Client and assigns it to the variable Dinesh. We print the public key of Dinesh by calling its identity method."
   ]
  },
  {
   "cell_type": "markdown",
   "metadata": {},
   "source": [
    "# 3. Python Blockchain - Transaction Class\n",
    "\n",
    "Let us create a Transaction class so that a client will be able to send money to somebody. Note that a client can be both a sender or a recipient of the money. When you want to receive money, some other sender will create a transaction and specify your public address in it."
   ]
  },
  {
   "cell_type": "code",
   "execution_count": 5,
   "metadata": {},
   "outputs": [],
   "source": [
    "class Transaction:\n",
    "    #Client can be both a sender or a recipient of the money.\n",
    "    #Create a transaction and specify your public address in it.\n",
    "    \n",
    "    def __init__(self, sender, recipient, value):\n",
    "        #Initialization of a transaction class\n",
    "        self.sender = sender\n",
    "        self.recipient = recipient\n",
    "        self.value = value\n",
    "        self.time = datetime.datetime.now()\n",
    "    \n",
    "    def to_dict(self):\n",
    "        #Combines all the four above-mentioned instance variables \n",
    "        #in a dictionary object.\n",
    "        if self.sender == \"Genesis\":\n",
    "            identity = \"Genesis\"\n",
    "        else:\n",
    "            identity = self.sender.identity\n",
    "\n",
    "        return collections.OrderedDict({\n",
    "            'sender': identity,\n",
    "            'recipient': self.recipient,\n",
    "            'value': self.value,\n",
    "            'time' : self.time})\n",
    "    \n",
    "    def sign_transaction(self):\n",
    "        #The generated signature is decoded to get the ASCII \n",
    "        #representation for printing and storing it in our blockchain.\n",
    "        private_key = self.sender._private_key\n",
    "        signer = PKCS1_v1_5.new(private_key)\n",
    "        h = SHA.new(str(self.to_dict()).encode('utf8'))\n",
    "        return binascii.hexlify(signer.sign(h)).decode('ascii')\n",
    "    \n",
    "    def display(self):\n",
    "        dict = self.to_dict()\n",
    "        print (\"sender: \" + dict['sender'])\n",
    "        print ('-----')\n",
    "        print (\"recipient: \" + dict['recipient'])\n",
    "        print ('-----')\n",
    "        print (\"value: \" + str(dict['value']))\n",
    "        print ('-----')\n",
    "        print (\"time: \" + str(dict['time']))\n",
    "        print ('-----')\n",
    "    "
   ]
  },
  {
   "cell_type": "markdown",
   "metadata": {},
   "source": [
    "#### Testing Transaction Class"
   ]
  },
  {
   "cell_type": "code",
   "execution_count": 28,
   "metadata": {},
   "outputs": [
    {
     "name": "stdout",
     "output_type": "stream",
     "text": [
      "sender: 30819f300d06092a864886f70d010101050003818d0030818902818100b71807ab02cbd33401a4a73c7a2fe48929222e5d08663c38ba09299336455b6ac7b1b986e0d78e644c3cc0c781e1598fef4c43d74340aeefd62a9daff31278ef7c5f07050bdd5c3950472f3901667c67be9779ded76a4a04614a0f279ef17ea85d01e2dfe72e8ee838991d38bb14ff5d060b2dccead0ddcf31dcb09aa105291f0203010001\n",
      "-----\n",
      "recipient: 30819f300d06092a864886f70d010101050003818d0030818902818100c24fb8ca200f21136b7160b2485fb3b6df826e51018245cf150ac39d1cf08e599b46101638092dfb62cd8b192f2376e392f4dc6d394689936be70971c74043890b39e1365927bc28249d858ea2d91b258fcd9f7cd8163b1c02081b04137539eba449c14c2fa362d0a6f339bc9385a5aa0af3aa045b714170f6577ed02943dfed0203010001\n",
      "-----\n",
      "value: 5.0\n",
      "-----\n",
      "time: 2019-10-04 09:04:55.397731\n",
      "-----\n"
     ]
    },
    {
     "data": {
      "text/plain": [
       "'3c4fa1ac0f6b966444baea9b3e98497132f15d871d5762bd68b2354154593f5797489daa3e7e1ca4f7fb357bfc092cb2a455551dcfc698b6039c2b1ad60c409870e7230837e0d6e13d70e266542f23f5a7bd3a5dedbfc422e5cf7de6aeac87770782654d993c68757598af9591182abaddfcc3756d9339271103bce5ba0f014b'"
      ]
     },
     "execution_count": 28,
     "metadata": {},
     "output_type": "execute_result"
    }
   ],
   "source": [
    "#Create two users, called Dinesh and Ramesh\n",
    "Dinesh = Client()\n",
    "Ramesh = Client()\n",
    "\n",
    "#Dinesh is sending payment to Ramesh, he will need \n",
    "#the public key of Ramesh which is obtained by using \n",
    "#the identity property of the client.\n",
    "\n",
    "#Create the transaction \n",
    "t = Transaction(\n",
    "   Dinesh,\n",
    "   Ramesh.identity,\n",
    "   5.0\n",
    ")\n",
    "t.display()\n",
    "'4d13ca144e5bd2614827a5b0e9c285567439358ad66eb7d71ff117a87476a523b9de1d04a3d044e6167caad367e870058878bb0e77405e71d21ab9ddf11f7520732e931aef77c85d90ac63a24ff47840a58611d944b3d836518eed4389ba806ca3c7c0ffd6a1bf3caaf536ee22522fd471a96d0bbc7acf355d2b97dbf1a04caa'\n",
    "signature = t.sign_transaction()\n",
    "signature "
   ]
  },
  {
   "cell_type": "code",
   "execution_count": 34,
   "metadata": {},
   "outputs": [
    {
     "name": "stdout",
     "output_type": "stream",
     "text": [
      "sender: 30819f300d06092a864886f70d010101050003818d0030818902818100b71807ab02cbd33401a4a73c7a2fe48929222e5d08663c38ba09299336455b6ac7b1b986e0d78e644c3cc0c781e1598fef4c43d74340aeefd62a9daff31278ef7c5f07050bdd5c3950472f3901667c67be9779ded76a4a04614a0f279ef17ea85d01e2dfe72e8ee838991d38bb14ff5d060b2dccead0ddcf31dcb09aa105291f0203010001\n",
      "-----\n",
      "recipient: 30819f300d06092a864886f70d010101050003818d0030818902818100c24fb8ca200f21136b7160b2485fb3b6df826e51018245cf150ac39d1cf08e599b46101638092dfb62cd8b192f2376e392f4dc6d394689936be70971c74043890b39e1365927bc28249d858ea2d91b258fcd9f7cd8163b1c02081b04137539eba449c14c2fa362d0a6f339bc9385a5aa0af3aa045b714170f6577ed02943dfed0203010001\n",
      "-----\n",
      "value: 4.0\n",
      "-----\n",
      "time: 2019-10-04 09:04:55.397731\n",
      "-----\n"
     ]
    },
    {
     "data": {
      "text/plain": [
       "'5a538139da0acd57b4c2b727514f3aaef5aaf14a96f32cc05de0ce2d261f0c2c7a47a1275e047de8e08004bcfd1f9ccd78b3805711449167a6cd6e4c62123ecf76fc50d35bae47cec4812b3b392f5f87d4013e8057e4212d44b8ddbd6485c7e470d8fd9fe19cccec1bcb162ba6ecea1e5097977f4fb9d6b46627faded855e623'"
      ]
     },
     "execution_count": 34,
     "metadata": {},
     "output_type": "execute_result"
    }
   ],
   "source": [
    "t2 = Transaction(\n",
    "   Dinesh,\n",
    "   Ramesh.identity,\n",
    "   4.0\n",
    ")\n",
    "t2.time= t.time\n",
    "t2.display()\n",
    "#'4d13ca144e5bd2614827a5b0e9c285567439358ad66eb7d71ff117a87476a523b9de1d04a3d044e6167caad367e870058878bb0e77405e71d21ab9ddf11f7520732e931aef77c85d90ac63a24ff47840a58611d944b3d836518eed4389ba806ca3c7c0ffd6a1bf3caaf536ee22522fd471a96d0bbc7acf355d2b97dbf1a04caa'\n",
    "signature = t2.sign_transaction()\n",
    "signature "
   ]
  },
  {
   "cell_type": "markdown",
   "metadata": {},
   "source": [
    "## 3.1 Creating Multiple Transactions\n",
    "\n",
    "The transactions made by various clients are queued in the system; the miners pick up the transactions from this queue and add it to the block. They will then mine the block and the winning miner would have the privilege of adding the block to the blockchain and thereby earn some money for himself.\n",
    "\n",
    "We will describe this mining process later when we discuss the creation of the blockchain. Before we write the code for multiple transactions, let us add a small utility function to print the contents of a given transaction.\n",
    "\n",
    "\n"
   ]
  },
  {
   "cell_type": "code",
   "execution_count": 7,
   "metadata": {},
   "outputs": [],
   "source": [
    "class MultiTransaction:\n",
    "    \n",
    "    def __init__ (self):\n",
    "        self.transactions = []\n",
    "    \n",
    "    def add(self, transaction):\n",
    "        self.transactions.append(transaction)\n",
    "    \n",
    "    def display(self):\n",
    "        for transaction in self.transactions:\n",
    "            transaction.display()\n",
    "            print ('--------------')"
   ]
  },
  {
   "cell_type": "code",
   "execution_count": 8,
   "metadata": {
    "scrolled": true
   },
   "outputs": [
    {
     "name": "stdout",
     "output_type": "stream",
     "text": [
      "sender: 30819f300d06092a864886f70d010101050003818d0030818902818100c415d41a11d019cfa7a4b2d1c3263617d496ab52f43ff3c11f3935b1deef021f7be1d14f47e1e01198e36fa82562ef54c6e6cb6787d5613033ef7601e0f2721cda01031b68ddc08944661b94395c50a9fce54a9f6b2034a20092da90bae39223f985443e10f62acaaaa853e8429704963b0566d0e4a8fff2b5576eff4a817e610203010001\n",
      "-----\n",
      "recipient: 30819f300d06092a864886f70d010101050003818d0030818902818100c70fa52c173171e4c43a2de0f7d8eda22a793cac9d3b4223f038ce0f4b744871f294f3d599e3b13a3aacbb028f1868f43adc29583f26b7cf7ff70e4e424c735ace2bce458c22612c842b6f60efbcd1ede6d1a1e3929bf3269810225a97c6668fe641958df164d17647f518502a020f615c9cd0ffcf33affcafeaf7253b8e56b70203010001\n",
      "-----\n",
      "value: 15.0\n",
      "-----\n",
      "time: 2019-10-04 09:02:35.906813\n",
      "-----\n",
      "--------------\n",
      "sender: 30819f300d06092a864886f70d010101050003818d0030818902818100c415d41a11d019cfa7a4b2d1c3263617d496ab52f43ff3c11f3935b1deef021f7be1d14f47e1e01198e36fa82562ef54c6e6cb6787d5613033ef7601e0f2721cda01031b68ddc08944661b94395c50a9fce54a9f6b2034a20092da90bae39223f985443e10f62acaaaa853e8429704963b0566d0e4a8fff2b5576eff4a817e610203010001\n",
      "-----\n",
      "recipient: 30819f300d06092a864886f70d010101050003818d0030818902818100b30de5e879abcda50f4e0d8331fa6bde5a3eaf460954aa506d9d4f9c42864cfd8067311c933178d3a981465722fad2d5d13c3c0a66c338ede75aa753e66f18af11d7cd3f137524a66682b9e088e5db72762c3d53a774c0e28a4f00d6d20b074dc25d47f86d3581f1a789855b9007600aca6354d61cc0e772432c16c0805e28cb0203010001\n",
      "-----\n",
      "value: 6.0\n",
      "-----\n",
      "time: 2019-10-04 09:02:35.910436\n",
      "-----\n",
      "--------------\n",
      "sender: 30819f300d06092a864886f70d010101050003818d0030818902818100c70fa52c173171e4c43a2de0f7d8eda22a793cac9d3b4223f038ce0f4b744871f294f3d599e3b13a3aacbb028f1868f43adc29583f26b7cf7ff70e4e424c735ace2bce458c22612c842b6f60efbcd1ede6d1a1e3929bf3269810225a97c6668fe641958df164d17647f518502a020f615c9cd0ffcf33affcafeaf7253b8e56b70203010001\n",
      "-----\n",
      "recipient: 30819f300d06092a864886f70d010101050003818d0030818902818100a0b9e594eba7a0ec43903d3aa5d03f922a5d9456ddb7f4f4325a77dac0737cdc4cbd85c510f8686da5b1a3755a8e5d841b00c71c0a13bfaffba0d9eb3c25a54b949ab42e066946273dbc56a37612ef17a6cd93740d0b500eaa008d62cd491487515a7ceab6e0272168fd5ca8e082026f7d9a7b8d50a122120a9f135d1264e0430203010001\n",
      "-----\n",
      "value: 2.0\n",
      "-----\n",
      "time: 2019-10-04 09:02:35.913648\n",
      "-----\n",
      "--------------\n",
      "sender: 30819f300d06092a864886f70d010101050003818d0030818902818100b30de5e879abcda50f4e0d8331fa6bde5a3eaf460954aa506d9d4f9c42864cfd8067311c933178d3a981465722fad2d5d13c3c0a66c338ede75aa753e66f18af11d7cd3f137524a66682b9e088e5db72762c3d53a774c0e28a4f00d6d20b074dc25d47f86d3581f1a789855b9007600aca6354d61cc0e772432c16c0805e28cb0203010001\n",
      "-----\n",
      "recipient: 30819f300d06092a864886f70d010101050003818d0030818902818100c70fa52c173171e4c43a2de0f7d8eda22a793cac9d3b4223f038ce0f4b744871f294f3d599e3b13a3aacbb028f1868f43adc29583f26b7cf7ff70e4e424c735ace2bce458c22612c842b6f60efbcd1ede6d1a1e3929bf3269810225a97c6668fe641958df164d17647f518502a020f615c9cd0ffcf33affcafeaf7253b8e56b70203010001\n",
      "-----\n",
      "value: 4.0\n",
      "-----\n",
      "time: 2019-10-04 09:02:35.916393\n",
      "-----\n",
      "--------------\n",
      "sender: 30819f300d06092a864886f70d010101050003818d0030818902818100a0b9e594eba7a0ec43903d3aa5d03f922a5d9456ddb7f4f4325a77dac0737cdc4cbd85c510f8686da5b1a3755a8e5d841b00c71c0a13bfaffba0d9eb3c25a54b949ab42e066946273dbc56a37612ef17a6cd93740d0b500eaa008d62cd491487515a7ceab6e0272168fd5ca8e082026f7d9a7b8d50a122120a9f135d1264e0430203010001\n",
      "-----\n",
      "recipient: 30819f300d06092a864886f70d010101050003818d0030818902818100b30de5e879abcda50f4e0d8331fa6bde5a3eaf460954aa506d9d4f9c42864cfd8067311c933178d3a981465722fad2d5d13c3c0a66c338ede75aa753e66f18af11d7cd3f137524a66682b9e088e5db72762c3d53a774c0e28a4f00d6d20b074dc25d47f86d3581f1a789855b9007600aca6354d61cc0e772432c16c0805e28cb0203010001\n",
      "-----\n",
      "value: 7.0\n",
      "-----\n",
      "time: 2019-10-04 09:02:35.919106\n",
      "-----\n",
      "--------------\n",
      "sender: 30819f300d06092a864886f70d010101050003818d0030818902818100c70fa52c173171e4c43a2de0f7d8eda22a793cac9d3b4223f038ce0f4b744871f294f3d599e3b13a3aacbb028f1868f43adc29583f26b7cf7ff70e4e424c735ace2bce458c22612c842b6f60efbcd1ede6d1a1e3929bf3269810225a97c6668fe641958df164d17647f518502a020f615c9cd0ffcf33affcafeaf7253b8e56b70203010001\n",
      "-----\n",
      "recipient: 30819f300d06092a864886f70d010101050003818d0030818902818100b30de5e879abcda50f4e0d8331fa6bde5a3eaf460954aa506d9d4f9c42864cfd8067311c933178d3a981465722fad2d5d13c3c0a66c338ede75aa753e66f18af11d7cd3f137524a66682b9e088e5db72762c3d53a774c0e28a4f00d6d20b074dc25d47f86d3581f1a789855b9007600aca6354d61cc0e772432c16c0805e28cb0203010001\n",
      "-----\n",
      "value: 3.0\n",
      "-----\n",
      "time: 2019-10-04 09:02:35.921538\n",
      "-----\n",
      "--------------\n",
      "sender: 30819f300d06092a864886f70d010101050003818d0030818902818100b30de5e879abcda50f4e0d8331fa6bde5a3eaf460954aa506d9d4f9c42864cfd8067311c933178d3a981465722fad2d5d13c3c0a66c338ede75aa753e66f18af11d7cd3f137524a66682b9e088e5db72762c3d53a774c0e28a4f00d6d20b074dc25d47f86d3581f1a789855b9007600aca6354d61cc0e772432c16c0805e28cb0203010001\n",
      "-----\n",
      "recipient: 30819f300d06092a864886f70d010101050003818d0030818902818100c415d41a11d019cfa7a4b2d1c3263617d496ab52f43ff3c11f3935b1deef021f7be1d14f47e1e01198e36fa82562ef54c6e6cb6787d5613033ef7601e0f2721cda01031b68ddc08944661b94395c50a9fce54a9f6b2034a20092da90bae39223f985443e10f62acaaaa853e8429704963b0566d0e4a8fff2b5576eff4a817e610203010001\n",
      "-----\n",
      "value: 8.0\n",
      "-----\n",
      "time: 2019-10-04 09:02:35.923963\n",
      "-----\n",
      "--------------\n",
      "sender: 30819f300d06092a864886f70d010101050003818d0030818902818100b30de5e879abcda50f4e0d8331fa6bde5a3eaf460954aa506d9d4f9c42864cfd8067311c933178d3a981465722fad2d5d13c3c0a66c338ede75aa753e66f18af11d7cd3f137524a66682b9e088e5db72762c3d53a774c0e28a4f00d6d20b074dc25d47f86d3581f1a789855b9007600aca6354d61cc0e772432c16c0805e28cb0203010001\n",
      "-----\n",
      "recipient: 30819f300d06092a864886f70d010101050003818d0030818902818100c70fa52c173171e4c43a2de0f7d8eda22a793cac9d3b4223f038ce0f4b744871f294f3d599e3b13a3aacbb028f1868f43adc29583f26b7cf7ff70e4e424c735ace2bce458c22612c842b6f60efbcd1ede6d1a1e3929bf3269810225a97c6668fe641958df164d17647f518502a020f615c9cd0ffcf33affcafeaf7253b8e56b70203010001\n",
      "-----\n",
      "value: 1.0\n",
      "-----\n",
      "time: 2019-10-04 09:02:35.926157\n",
      "-----\n",
      "--------------\n",
      "sender: 30819f300d06092a864886f70d010101050003818d0030818902818100a0b9e594eba7a0ec43903d3aa5d03f922a5d9456ddb7f4f4325a77dac0737cdc4cbd85c510f8686da5b1a3755a8e5d841b00c71c0a13bfaffba0d9eb3c25a54b949ab42e066946273dbc56a37612ef17a6cd93740d0b500eaa008d62cd491487515a7ceab6e0272168fd5ca8e082026f7d9a7b8d50a122120a9f135d1264e0430203010001\n",
      "-----\n",
      "recipient: 30819f300d06092a864886f70d010101050003818d0030818902818100c415d41a11d019cfa7a4b2d1c3263617d496ab52f43ff3c11f3935b1deef021f7be1d14f47e1e01198e36fa82562ef54c6e6cb6787d5613033ef7601e0f2721cda01031b68ddc08944661b94395c50a9fce54a9f6b2034a20092da90bae39223f985443e10f62acaaaa853e8429704963b0566d0e4a8fff2b5576eff4a817e610203010001\n",
      "-----\n",
      "value: 5.0\n",
      "-----\n",
      "time: 2019-10-04 09:02:35.928264\n",
      "-----\n",
      "--------------\n",
      "sender: 30819f300d06092a864886f70d010101050003818d0030818902818100a0b9e594eba7a0ec43903d3aa5d03f922a5d9456ddb7f4f4325a77dac0737cdc4cbd85c510f8686da5b1a3755a8e5d841b00c71c0a13bfaffba0d9eb3c25a54b949ab42e066946273dbc56a37612ef17a6cd93740d0b500eaa008d62cd491487515a7ceab6e0272168fd5ca8e082026f7d9a7b8d50a122120a9f135d1264e0430203010001\n",
      "-----\n",
      "recipient: 30819f300d06092a864886f70d010101050003818d0030818902818100c70fa52c173171e4c43a2de0f7d8eda22a793cac9d3b4223f038ce0f4b744871f294f3d599e3b13a3aacbb028f1868f43adc29583f26b7cf7ff70e4e424c735ace2bce458c22612c842b6f60efbcd1ede6d1a1e3929bf3269810225a97c6668fe641958df164d17647f518502a020f615c9cd0ffcf33affcafeaf7253b8e56b70203010001\n",
      "-----\n",
      "value: 3.0\n",
      "-----\n",
      "time: 2019-10-04 09:02:35.930355\n",
      "-----\n",
      "--------------\n"
     ]
    }
   ],
   "source": [
    "#Example\n",
    "Dinesh = Client()\n",
    "Ramesh = Client()\n",
    "Seema = Client()\n",
    "Vijay = Client()\n",
    "\n",
    "t1 = Transaction(\n",
    "   Dinesh,\n",
    "   Ramesh.identity,\n",
    "   15.0\n",
    ")\n",
    "t1.sign_transaction()\n",
    "\n",
    "t2 = Transaction(\n",
    "   Dinesh,\n",
    "   Seema.identity,\n",
    "   6.0\n",
    ")\n",
    "t2.sign_transaction()\n",
    "\n",
    "t3 = Transaction(\n",
    "   Ramesh,\n",
    "   Vijay.identity,\n",
    "   2.0\n",
    ")\n",
    "t3.sign_transaction()\n",
    "\n",
    "t4 = Transaction(\n",
    "   Seema,\n",
    "   Ramesh.identity,\n",
    "   4.0\n",
    ")\n",
    "t4.sign_transaction()\n",
    "\n",
    "t5 = Transaction(\n",
    "   Vijay,\n",
    "   Seema.identity,\n",
    "   7.0\n",
    ")\n",
    "t5.sign_transaction()\n",
    "\n",
    "t6 = Transaction(\n",
    "   Ramesh,\n",
    "   Seema.identity,\n",
    "   3.0\n",
    ")\n",
    "t6.sign_transaction()\n",
    "\n",
    "t7 = Transaction(\n",
    "   Seema,\n",
    "   Dinesh.identity,\n",
    "   8.0\n",
    ")\n",
    "t7.sign_transaction()\n",
    "\n",
    "t8 = Transaction(\n",
    "   Seema,\n",
    "   Ramesh.identity,\n",
    "   1.0\n",
    ")\n",
    "t8.sign_transaction()\n",
    "\n",
    "t9 = Transaction(\n",
    "   Vijay,\n",
    "   Dinesh.identity,\n",
    "   5.0\n",
    ")\n",
    "t9.sign_transaction()\n",
    "\n",
    "t10 = Transaction(\n",
    "   Vijay,\n",
    "   Ramesh.identity,\n",
    "   3.0\n",
    ")\n",
    "t10.sign_transaction()\n",
    "\n",
    "muliTran = MultiTransaction()\n",
    "muliTran.add(t1)\n",
    "muliTran.add(t2)\n",
    "muliTran.add(t3)\n",
    "muliTran.add(t4)\n",
    "muliTran.add(t5)\n",
    "muliTran.add(t6)\n",
    "muliTran.add(t7)\n",
    "muliTran.add(t8)\n",
    "muliTran.add(t9)\n",
    "muliTran.add(t10)\n",
    "muliTran.display()"
   ]
  },
  {
   "cell_type": "markdown",
   "metadata": {},
   "source": [
    "# 4. Python Blockchain - Block Class\n",
    "\n",
    "\n",
    "\n",
    "A block consists of a varying number of transactions.\n",
    "For simplicity, in our case we will assume that the block consists of a fixed number of transactions, which is three in this case. As the block needs to store the list of these three transactions.\n",
    "we will declare an instance variable called **verified_transactions**\n",
    "\n",
    "``\n",
    "self.verified_transactions = []\n",
    "``\n",
    "\n",
    "We have named this variable as **verified_transactions** to indicate that only the verified valid transactions will be added to the block. Each block also holds the hash value of the previous block, so that the chain of blocks becomes immutable.\n",
    "To store the previous hash, we declare an instance variable as follows\n",
    "\n",
    "``\n",
    "self.previous_block_hash = \"\"\n",
    "``\n",
    "\n",
    "Finally, we declare one more variable called Nonce for storing the nonce created by the miner during the mining process\n",
    "\n",
    "``\n",
    "self.Nonce = \"\"\n",
    "``\n",
    "\n",
    "The full definition of the Block"
   ]
  },
  {
   "cell_type": "code",
   "execution_count": 9,
   "metadata": {},
   "outputs": [],
   "source": [
    "class Block:\n",
    "    def __init__(self):\n",
    "        self.verified_transactions = []\n",
    "        self.previous_block_hash = \"\"\n",
    "        self.Nonce = \"\""
   ]
  },
  {
   "cell_type": "markdown",
   "metadata": {},
   "source": [
    "As each block needs the value of the previous block’s hash we declare a global variable called last_block_hash as follows:\n",
    "\n",
    "``\n",
    "last_block_hash = \"\"\n",
    "``\n",
    "\n",
    "# 5. Python Blockchain - Creating Genesis Block\n",
    "\n",
    "We assume that the originator of TPCoins initially gives out 500 TPCoins to a known client **Dinesh**."
   ]
  },
  {
   "cell_type": "code",
   "execution_count": 10,
   "metadata": {},
   "outputs": [],
   "source": [
    "#We then create a genesis transaction \n",
    "#and send 500 TPCoins to Dinesh’s public address.\n",
    "Dinesh = Client()\n",
    "t0 = Transaction (\n",
    "   \"Genesis\",\n",
    "   Dinesh.identity,\n",
    "   500.0\n",
    ")\n",
    "\n",
    "#Creat an instance of Block\n",
    "block0 = Block()\n",
    "\n",
    "#Initializing the previous_block_hash and Nonce \n",
    "#instance variables to None, as this is the very \n",
    "#first transaction to be stored\n",
    "\n",
    "block0.previous_block_hash = None\n",
    "block0.Nonce = None\n",
    "\n",
    "#Adding the above t0 transaction to the verified_transactions \n",
    "#list maintained within the block\n",
    "block0.verified_transactions.append (t0)"
   ]
  },
  {
   "cell_type": "markdown",
   "metadata": {},
   "source": [
    "At this point, the block is completely initialized and is ready to be added to our blockchain. We will be creating the blockchain for this purpose. Before we add the block to the blockchain, we will hash the block and store its value in the global variable called **last_block_hash** that we declared previously. This value will be used by the next miner in his block.\n",
    "\n",
    "We use the following two lines of coding for hashing the block and storing the digest value."
   ]
  },
  {
   "cell_type": "code",
   "execution_count": 11,
   "metadata": {},
   "outputs": [],
   "source": [
    "digest = hash(block0)\n",
    "last_block_hash = digest"
   ]
  },
  {
   "cell_type": "code",
   "execution_count": 12,
   "metadata": {},
   "outputs": [
    {
     "data": {
      "text/plain": [
       "8763915709577"
      ]
     },
     "execution_count": 12,
     "metadata": {},
     "output_type": "execute_result"
    }
   ],
   "source": [
    "digest"
   ]
  },
  {
   "cell_type": "markdown",
   "metadata": {},
   "source": [
    "# 6. Python Creating Blockchain\n",
    "\n",
    "A blockchain contains a list of blocks chained to each other. To store the entire list, we will create a list variable"
   ]
  },
  {
   "cell_type": "code",
   "execution_count": 13,
   "metadata": {},
   "outputs": [],
   "source": [
    "TPCoins = []"
   ]
  },
  {
   "cell_type": "code",
   "execution_count": 14,
   "metadata": {},
   "outputs": [],
   "source": [
    "# Dumping the contents of the entire blockchain\n",
    "def dump_blockchain (self):\n",
    "    print (\"Number of blocks in the chain: \" + str(len (self)))\n",
    "    for x in range (len(TPCoins)):\n",
    "        block_temp = TPCoins[x]\n",
    "        print (\"block # \" + str(x))\n",
    "        for transaction in block_temp.verified_transactions:\n",
    "            transaction.display()\n",
    "            print ('--------------')\n",
    "        print ('=====================================')"
   ]
  },
  {
   "cell_type": "markdown",
   "metadata": {},
   "source": [
    "####  Adding Genesis Block"
   ]
  },
  {
   "cell_type": "code",
   "execution_count": 15,
   "metadata": {},
   "outputs": [],
   "source": [
    "TPCoins.append (block0)"
   ]
  },
  {
   "cell_type": "code",
   "execution_count": 16,
   "metadata": {},
   "outputs": [
    {
     "name": "stdout",
     "output_type": "stream",
     "text": [
      "Number of blocks in the chain: 1\n",
      "block # 0\n",
      "sender: Genesis\n",
      "-----\n",
      "recipient: 30819f300d06092a864886f70d010101050003818d0030818902818100b64346c6245ea886e575621fb8232855b9cb69664ca17c392f5ac0f9e175f54b97bc565754c87b0122bc9ad90e7d6919a7ecdf335fdf0510b6077cbf5ea2d5d73d64b87ad2dad532f0bf4cfc7ba6ea89cfa9d5f15a55180635b1f45d523c1da03b9005d84004a92258c179a92c08ee1cc379cbe66fab75a037708f7706a4e47d0203010001\n",
      "-----\n",
      "value: 500.0\n",
      "-----\n",
      "time: 2019-10-04 09:02:36.117125\n",
      "-----\n",
      "--------------\n",
      "=====================================\n"
     ]
    }
   ],
   "source": [
    "dump_blockchain(TPCoins)"
   ]
  },
  {
   "cell_type": "markdown",
   "metadata": {},
   "source": [
    "At this point the blockchain system is ready to use."
   ]
  },
  {
   "cell_type": "markdown",
   "metadata": {},
   "source": [
    "# 7. Creating Miners\n",
    "\n",
    "For enabling mining, we need to develop a mining function. The mining functionality needs to generate a digest on a given message string and provide a proof-of-work. \n",
    "\n",
    "## 7.1 Message Digest Function"
   ]
  },
  {
   "cell_type": "code",
   "execution_count": 17,
   "metadata": {},
   "outputs": [],
   "source": [
    "def sha256(message):\n",
    "    return hashlib.sha256(message.encode('ascii')).hexdigest()"
   ]
  },
  {
   "cell_type": "markdown",
   "metadata": {},
   "source": [
    "The sha256 function takes a message as a parameter, encodes it to ASCII, generates a hexadecimal digest and returns the value to the caller."
   ]
  },
  {
   "cell_type": "markdown",
   "metadata": {},
   "source": [
    "## 7.2 Mining Function\n",
    "\n",
    "We now develop the mine function that implements our own mining strategy. Our strategy in this case would be to generate a hash on the given message that is prefixed with a given number of 1’s. The given number of 1’s is specified as a parameter to mine function specified as the difficulty level.\n",
    "\n",
    "For example, if you specify a difficulty level of 2, the generated hash on a given message should start with two 1’s - like 11xxxxxxxx. If the difficulty level is 3, the generated hash should start with three 1’s - like 111xxxxxxxx. Given these requirements, we will now develop the mining function as shown in the steps given below.\n",
    "\n",
    "#### Step 1\n",
    "The mining function takes two parameters - the message and the difficulty level.\n",
    "\n",
    "``\n",
    "def mine(message, difficulty=1):\n",
    "``\n",
    "\n",
    "#### Step 2\n",
    "The difficulty level needs to be greater or equal to 1, we ensure this with the following assert statement \n",
    "\n",
    "``\n",
    "assert difficulty >= 1\n",
    "``\n",
    "\n",
    "#### Step 3\n",
    "We create a prefix variable using the set difficulty level.\n",
    "\n",
    "``\n",
    "prefix = '1' * difficulty\n",
    "``\n",
    "\n",
    "Note if the difficulty level is 2 the prefix would be “11” and if the difficulty level is 3, the prefix would be “111”, and so on. We will check if this prefix exists in the generated digest of the message. To digest the message itself, we use the following two lines of code."
   ]
  },
  {
   "cell_type": "code",
   "execution_count": 18,
   "metadata": {},
   "outputs": [],
   "source": [
    "def mine(message, difficulty=1):\n",
    "    assert difficulty >= 1\n",
    "    prefix = '1' * difficulty\n",
    "    i= 0\n",
    "    while True :\n",
    "        digest = sha256(str(hash(message)) + str(i))\n",
    "        if digest.startswith(prefix):\n",
    "            print (\"after \" + str(i) + \" iterations found nonce: \"+ digest)\n",
    "            return digest\n",
    "        i+= 1"
   ]
  },
  {
   "cell_type": "markdown",
   "metadata": {},
   "source": [
    "#### Testing Mining Function"
   ]
  },
  {
   "cell_type": "code",
   "execution_count": 19,
   "metadata": {},
   "outputs": [
    {
     "name": "stdout",
     "output_type": "stream",
     "text": [
      "after 13437 iterations found nonce: 11173af799241cca7a8cc01e17c44b8d62dc893bebb4e96978316bea659de5fe\n"
     ]
    },
    {
     "data": {
      "text/plain": [
       "'11173af799241cca7a8cc01e17c44b8d62dc893bebb4e96978316bea659de5fe'"
      ]
     },
     "execution_count": 19,
     "metadata": {},
     "output_type": "execute_result"
    }
   ],
   "source": [
    "mine (\"test message\", 3)"
   ]
  },
  {
   "cell_type": "markdown",
   "metadata": {},
   "source": [
    "# 8. Python Blockchain - Adding Blocks\n",
    "\n",
    "Each miner will pick up the transactions from a previously created transaction pool. To track the number of messages already mined, we have to create a global variable\n"
   ]
  },
  {
   "cell_type": "code",
   "execution_count": 20,
   "metadata": {},
   "outputs": [],
   "source": [
    "last_transaction_index = 0"
   ]
  },
  {
   "cell_type": "markdown",
   "metadata": {},
   "source": [
    "## 8.1 Adding First \n",
    "\n",
    "Before adding the transaction to the block the miner will verify the validity of the transaction. The transaction validity is verified by testing for equality the hash provided by the sender against the hash generated by the miner using sender’s public key. Also, the miner will verify that the sender has sufficient balance to pay for the current transaction."
   ]
  },
  {
   "cell_type": "code",
   "execution_count": 21,
   "metadata": {},
   "outputs": [
    {
     "name": "stdout",
     "output_type": "stream",
     "text": [
      "after 283 iterations found nonce: 11b39714e94ac1f92255991e93e36ffb57275c10f1f368a18df539e9e5dfeea8\n"
     ]
    }
   ],
   "source": [
    "transactions= [t0, t1, t2, t3, t4, t5, t6, t7, t8, t9, t10]\n",
    "\n",
    "block = Block()\n",
    "#Picking up the top 3 transactions from the queue\n",
    "for i in range(3):\n",
    "    temp_transaction = transactions[last_transaction_index]\n",
    "    # validate transaction\n",
    "    # if valid\n",
    "    block.verified_transactions.append (temp_transaction)\n",
    "    last_transaction_index += 1\n",
    "\n",
    "#dd the hash of the last block\n",
    "block.previous_block_hash = last_block_hash\n",
    "\n",
    "#Minning the block with a difficulty level of 2.\n",
    "block.Nonce = mine (block, 2)\n",
    "digest = hash (block)\n",
    "TPCoins.append (block)\n",
    "\n",
    "#Re-initialize the global variable last_block_hash \n",
    "#for the use in next block\n",
    "last_block_hash = digest"
   ]
  },
  {
   "cell_type": "markdown",
   "metadata": {},
   "source": [
    "## 8.2 Adding More Blocks"
   ]
  },
  {
   "cell_type": "code",
   "execution_count": 22,
   "metadata": {},
   "outputs": [
    {
     "name": "stdout",
     "output_type": "stream",
     "text": [
      "after 122 iterations found nonce: 11c8d3a2223dac1d3da6c479fd51c415365e24af90dc73c89e1c23371fc10d72\n",
      "after 63 iterations found nonce: 11b9601b81973f7b0fd56511b12446ab3aaaef377f9c4b9bd09b397f33a55baa\n"
     ]
    }
   ],
   "source": [
    "# Miner 2 adds a block\n",
    "block = Block()\n",
    "\n",
    "for i in range(3):\n",
    "    temp_transaction = transactions[last_transaction_index]\n",
    "    # validate transaction\n",
    "    # if valid\n",
    "    block.verified_transactions.append (temp_transaction)\n",
    "    last_transaction_index += 1\n",
    "block.previous_block_hash = last_block_hash\n",
    "block.Nonce = mine (block, 2)\n",
    "digest = hash (block)\n",
    "TPCoins.append (block)\n",
    "last_block_hash = digest\n",
    "# Miner 3 adds a block\n",
    "block = Block()\n",
    "\n",
    "for i in range(3):\n",
    "    temp_transaction = transactions[last_transaction_index]\n",
    "    #display_transaction (temp_transaction)\n",
    "    # validate transaction\n",
    "    # if valid\n",
    "    block.verified_transactions.append (temp_transaction)\n",
    "    last_transaction_index += 1\n",
    "\n",
    "block.previous_block_hash = last_block_hash\n",
    "block.Nonce = mine (block, 2)\n",
    "digest = hash (block)\n",
    "\n",
    "TPCoins.append (block)\n",
    "last_block_hash = digest"
   ]
  },
  {
   "cell_type": "code",
   "execution_count": 23,
   "metadata": {},
   "outputs": [
    {
     "name": "stdout",
     "output_type": "stream",
     "text": [
      "Number of blocks in the chain: 4\n",
      "block # 0\n",
      "sender: Genesis\n",
      "-----\n",
      "recipient: 30819f300d06092a864886f70d010101050003818d0030818902818100b64346c6245ea886e575621fb8232855b9cb69664ca17c392f5ac0f9e175f54b97bc565754c87b0122bc9ad90e7d6919a7ecdf335fdf0510b6077cbf5ea2d5d73d64b87ad2dad532f0bf4cfc7ba6ea89cfa9d5f15a55180635b1f45d523c1da03b9005d84004a92258c179a92c08ee1cc379cbe66fab75a037708f7706a4e47d0203010001\n",
      "-----\n",
      "value: 500.0\n",
      "-----\n",
      "time: 2019-10-04 09:02:36.117125\n",
      "-----\n",
      "--------------\n",
      "=====================================\n",
      "block # 1\n",
      "sender: Genesis\n",
      "-----\n",
      "recipient: 30819f300d06092a864886f70d010101050003818d0030818902818100b64346c6245ea886e575621fb8232855b9cb69664ca17c392f5ac0f9e175f54b97bc565754c87b0122bc9ad90e7d6919a7ecdf335fdf0510b6077cbf5ea2d5d73d64b87ad2dad532f0bf4cfc7ba6ea89cfa9d5f15a55180635b1f45d523c1da03b9005d84004a92258c179a92c08ee1cc379cbe66fab75a037708f7706a4e47d0203010001\n",
      "-----\n",
      "value: 500.0\n",
      "-----\n",
      "time: 2019-10-04 09:02:36.117125\n",
      "-----\n",
      "--------------\n",
      "sender: 30819f300d06092a864886f70d010101050003818d0030818902818100c415d41a11d019cfa7a4b2d1c3263617d496ab52f43ff3c11f3935b1deef021f7be1d14f47e1e01198e36fa82562ef54c6e6cb6787d5613033ef7601e0f2721cda01031b68ddc08944661b94395c50a9fce54a9f6b2034a20092da90bae39223f985443e10f62acaaaa853e8429704963b0566d0e4a8fff2b5576eff4a817e610203010001\n",
      "-----\n",
      "recipient: 30819f300d06092a864886f70d010101050003818d0030818902818100c70fa52c173171e4c43a2de0f7d8eda22a793cac9d3b4223f038ce0f4b744871f294f3d599e3b13a3aacbb028f1868f43adc29583f26b7cf7ff70e4e424c735ace2bce458c22612c842b6f60efbcd1ede6d1a1e3929bf3269810225a97c6668fe641958df164d17647f518502a020f615c9cd0ffcf33affcafeaf7253b8e56b70203010001\n",
      "-----\n",
      "value: 15.0\n",
      "-----\n",
      "time: 2019-10-04 09:02:35.906813\n",
      "-----\n",
      "--------------\n",
      "sender: 30819f300d06092a864886f70d010101050003818d0030818902818100c415d41a11d019cfa7a4b2d1c3263617d496ab52f43ff3c11f3935b1deef021f7be1d14f47e1e01198e36fa82562ef54c6e6cb6787d5613033ef7601e0f2721cda01031b68ddc08944661b94395c50a9fce54a9f6b2034a20092da90bae39223f985443e10f62acaaaa853e8429704963b0566d0e4a8fff2b5576eff4a817e610203010001\n",
      "-----\n",
      "recipient: 30819f300d06092a864886f70d010101050003818d0030818902818100b30de5e879abcda50f4e0d8331fa6bde5a3eaf460954aa506d9d4f9c42864cfd8067311c933178d3a981465722fad2d5d13c3c0a66c338ede75aa753e66f18af11d7cd3f137524a66682b9e088e5db72762c3d53a774c0e28a4f00d6d20b074dc25d47f86d3581f1a789855b9007600aca6354d61cc0e772432c16c0805e28cb0203010001\n",
      "-----\n",
      "value: 6.0\n",
      "-----\n",
      "time: 2019-10-04 09:02:35.910436\n",
      "-----\n",
      "--------------\n",
      "=====================================\n",
      "block # 2\n",
      "sender: 30819f300d06092a864886f70d010101050003818d0030818902818100c70fa52c173171e4c43a2de0f7d8eda22a793cac9d3b4223f038ce0f4b744871f294f3d599e3b13a3aacbb028f1868f43adc29583f26b7cf7ff70e4e424c735ace2bce458c22612c842b6f60efbcd1ede6d1a1e3929bf3269810225a97c6668fe641958df164d17647f518502a020f615c9cd0ffcf33affcafeaf7253b8e56b70203010001\n",
      "-----\n",
      "recipient: 30819f300d06092a864886f70d010101050003818d0030818902818100a0b9e594eba7a0ec43903d3aa5d03f922a5d9456ddb7f4f4325a77dac0737cdc4cbd85c510f8686da5b1a3755a8e5d841b00c71c0a13bfaffba0d9eb3c25a54b949ab42e066946273dbc56a37612ef17a6cd93740d0b500eaa008d62cd491487515a7ceab6e0272168fd5ca8e082026f7d9a7b8d50a122120a9f135d1264e0430203010001\n",
      "-----\n",
      "value: 2.0\n",
      "-----\n",
      "time: 2019-10-04 09:02:35.913648\n",
      "-----\n",
      "--------------\n",
      "sender: 30819f300d06092a864886f70d010101050003818d0030818902818100b30de5e879abcda50f4e0d8331fa6bde5a3eaf460954aa506d9d4f9c42864cfd8067311c933178d3a981465722fad2d5d13c3c0a66c338ede75aa753e66f18af11d7cd3f137524a66682b9e088e5db72762c3d53a774c0e28a4f00d6d20b074dc25d47f86d3581f1a789855b9007600aca6354d61cc0e772432c16c0805e28cb0203010001\n",
      "-----\n",
      "recipient: 30819f300d06092a864886f70d010101050003818d0030818902818100c70fa52c173171e4c43a2de0f7d8eda22a793cac9d3b4223f038ce0f4b744871f294f3d599e3b13a3aacbb028f1868f43adc29583f26b7cf7ff70e4e424c735ace2bce458c22612c842b6f60efbcd1ede6d1a1e3929bf3269810225a97c6668fe641958df164d17647f518502a020f615c9cd0ffcf33affcafeaf7253b8e56b70203010001\n",
      "-----\n",
      "value: 4.0\n",
      "-----\n",
      "time: 2019-10-04 09:02:35.916393\n",
      "-----\n",
      "--------------\n",
      "sender: 30819f300d06092a864886f70d010101050003818d0030818902818100a0b9e594eba7a0ec43903d3aa5d03f922a5d9456ddb7f4f4325a77dac0737cdc4cbd85c510f8686da5b1a3755a8e5d841b00c71c0a13bfaffba0d9eb3c25a54b949ab42e066946273dbc56a37612ef17a6cd93740d0b500eaa008d62cd491487515a7ceab6e0272168fd5ca8e082026f7d9a7b8d50a122120a9f135d1264e0430203010001\n",
      "-----\n",
      "recipient: 30819f300d06092a864886f70d010101050003818d0030818902818100b30de5e879abcda50f4e0d8331fa6bde5a3eaf460954aa506d9d4f9c42864cfd8067311c933178d3a981465722fad2d5d13c3c0a66c338ede75aa753e66f18af11d7cd3f137524a66682b9e088e5db72762c3d53a774c0e28a4f00d6d20b074dc25d47f86d3581f1a789855b9007600aca6354d61cc0e772432c16c0805e28cb0203010001\n",
      "-----\n",
      "value: 7.0\n",
      "-----\n",
      "time: 2019-10-04 09:02:35.919106\n",
      "-----\n",
      "--------------\n",
      "=====================================\n",
      "block # 3\n",
      "sender: 30819f300d06092a864886f70d010101050003818d0030818902818100c70fa52c173171e4c43a2de0f7d8eda22a793cac9d3b4223f038ce0f4b744871f294f3d599e3b13a3aacbb028f1868f43adc29583f26b7cf7ff70e4e424c735ace2bce458c22612c842b6f60efbcd1ede6d1a1e3929bf3269810225a97c6668fe641958df164d17647f518502a020f615c9cd0ffcf33affcafeaf7253b8e56b70203010001\n",
      "-----\n",
      "recipient: 30819f300d06092a864886f70d010101050003818d0030818902818100b30de5e879abcda50f4e0d8331fa6bde5a3eaf460954aa506d9d4f9c42864cfd8067311c933178d3a981465722fad2d5d13c3c0a66c338ede75aa753e66f18af11d7cd3f137524a66682b9e088e5db72762c3d53a774c0e28a4f00d6d20b074dc25d47f86d3581f1a789855b9007600aca6354d61cc0e772432c16c0805e28cb0203010001\n",
      "-----\n",
      "value: 3.0\n",
      "-----\n",
      "time: 2019-10-04 09:02:35.921538\n",
      "-----\n",
      "--------------\n",
      "sender: 30819f300d06092a864886f70d010101050003818d0030818902818100b30de5e879abcda50f4e0d8331fa6bde5a3eaf460954aa506d9d4f9c42864cfd8067311c933178d3a981465722fad2d5d13c3c0a66c338ede75aa753e66f18af11d7cd3f137524a66682b9e088e5db72762c3d53a774c0e28a4f00d6d20b074dc25d47f86d3581f1a789855b9007600aca6354d61cc0e772432c16c0805e28cb0203010001\n",
      "-----\n",
      "recipient: 30819f300d06092a864886f70d010101050003818d0030818902818100c415d41a11d019cfa7a4b2d1c3263617d496ab52f43ff3c11f3935b1deef021f7be1d14f47e1e01198e36fa82562ef54c6e6cb6787d5613033ef7601e0f2721cda01031b68ddc08944661b94395c50a9fce54a9f6b2034a20092da90bae39223f985443e10f62acaaaa853e8429704963b0566d0e4a8fff2b5576eff4a817e610203010001\n",
      "-----\n",
      "value: 8.0\n",
      "-----\n",
      "time: 2019-10-04 09:02:35.923963\n",
      "-----\n",
      "--------------\n",
      "sender: 30819f300d06092a864886f70d010101050003818d0030818902818100b30de5e879abcda50f4e0d8331fa6bde5a3eaf460954aa506d9d4f9c42864cfd8067311c933178d3a981465722fad2d5d13c3c0a66c338ede75aa753e66f18af11d7cd3f137524a66682b9e088e5db72762c3d53a774c0e28a4f00d6d20b074dc25d47f86d3581f1a789855b9007600aca6354d61cc0e772432c16c0805e28cb0203010001\n",
      "-----\n",
      "recipient: 30819f300d06092a864886f70d010101050003818d0030818902818100c70fa52c173171e4c43a2de0f7d8eda22a793cac9d3b4223f038ce0f4b744871f294f3d599e3b13a3aacbb028f1868f43adc29583f26b7cf7ff70e4e424c735ace2bce458c22612c842b6f60efbcd1ede6d1a1e3929bf3269810225a97c6668fe641958df164d17647f518502a020f615c9cd0ffcf33affcafeaf7253b8e56b70203010001\n",
      "-----\n",
      "value: 1.0\n",
      "-----\n",
      "time: 2019-10-04 09:02:35.926157\n",
      "-----\n",
      "--------------\n",
      "=====================================\n"
     ]
    }
   ],
   "source": [
    "dump_blockchain(TPCoins)"
   ]
  },
  {
   "cell_type": "code",
   "execution_count": null,
   "metadata": {},
   "outputs": [],
   "source": []
  }
 ],
 "metadata": {
  "kernelspec": {
   "display_name": "Python 3",
   "language": "python",
   "name": "python3"
  },
  "language_info": {
   "codemirror_mode": {
    "name": "ipython",
    "version": 3
   },
   "file_extension": ".py",
   "mimetype": "text/x-python",
   "name": "python",
   "nbconvert_exporter": "python",
   "pygments_lexer": "ipython3",
   "version": "3.7.4"
  }
 },
 "nbformat": 4,
 "nbformat_minor": 2
}
