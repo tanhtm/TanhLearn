{
 "cells": [
  {
   "cell_type": "markdown",
   "metadata": {},
   "source": [
    "# 1. Components Involved in Blockchain Project Development\n",
    "The entire blockchain project development consists of three major components:\n",
    "\n",
    "- Client\n",
    "- Miners\n",
    "- Blockchain\n",
    "\n",
    "## 1.1 Client\n",
    "The Client is the one who will buy goods from other vendors. The client himself may become a vendor and will accept money from others against the goods he supplies. We assume here that the client can both be a supplier and a recipient of TPCoins. Thus, we will create a client class in our code that has the ability to send and receive money.\n",
    "\n",
    "## 1.2 Miner\n",
    "The Miner is the one who picks up the transactions from a transaction pool and assembles them in a block. The miner has to provide a valid proof-of-work to get the mining reward. All the money that miner collects as a fee will be for him to keep. He may spend that money on buying goods or services from other registered vendors on the network, just the way a Client described above does.\n",
    "\n",
    "## 1.3 Blockchain\n",
    "\n",
    "Finally, a Blockchain is a data structure that chains all the mined blocks in a chronological order. This chain is immutable and thus temper-proof.\n",
    "\n",
    "You may follow this tutorial by typing out the code presented in each step in a new Jupyter notebook. Alternatively, you may download the entire Jupyter notebook from www.anaconda.com.\n",
    "\n",
    "In the next chapter, we will develop a client that uses our blockchain system.\n"
   ]
  },
  {
   "cell_type": "markdown",
   "metadata": {},
   "source": [
    "# 2. Python Blockchain - Developing Client\n",
    "\n",
    "A client is somebody who holds TPCoins and transacts those for goods/services from other vendors on the network including his own. We should define a Client class for this purpose. To create a globally unique identification for the client, we use PKI (Public Key Infrastructure).\n",
    "\n",
    "The client should be able to send money from his wallet to another known person. Similarly, the client should be able to accept money from a third party. For spending money, the client would create a transaction specifying the sender’s name and the amount to be paid. For receiving money, the client will provide his identity to the third party − essentially a sender of the money. We do not store the balance amount of money the client holds in his wallet. During a transaction, we will compute the actual balance to ensure that the client has sufficient balance to make the payment.\n",
    "\n",
    "To develop the Client class and for the rest of the code in the project, we will need to import many Python libraries. These are listed below "
   ]
  },
  {
   "cell_type": "code",
   "execution_count": 1,
   "metadata": {},
   "outputs": [],
   "source": [
    "# import libraries\n",
    "import hashlib\n",
    "import random\n",
    "import string\n",
    "import json\n",
    "import binascii\n",
    "import numpy as np\n",
    "import pandas as pd\n",
    "import pylab as pl\n",
    "import logging\n",
    "import datetime\n",
    "import collections"
   ]
  },
  {
   "cell_type": "markdown",
   "metadata": {},
   "source": [
    "In addition to the above standard libraries, we are going to sign our transactions, create hash of the objects, etc. For this, you will need to import the following libraries"
   ]
  },
  {
   "cell_type": "code",
   "execution_count": 2,
   "metadata": {},
   "outputs": [],
   "source": [
    "# following imports are required by PKI\n",
    "import Crypto\n",
    "import Crypto.Random\n",
    "from Crypto.Hash import SHA\n",
    "from Crypto.PublicKey import RSA\n",
    "from Crypto.Signature import PKCS1_v1_5"
   ]
  },
  {
   "cell_type": "markdown",
   "metadata": {},
   "source": [
    "## 2.1 Python Blockchain - Client Class\n",
    "\n",
    "The Client class generates the private and public keys by using the built-in Python RSA algorithm. The interested reader may refer to this tutorial for the implementation of RSA. During the object initialization, we create private and public keys and store their values in the instance variable"
   ]
  },
  {
   "cell_type": "code",
   "execution_count": 4,
   "metadata": {},
   "outputs": [],
   "source": [
    "class Client:\n",
    "    def __init__(self):\n",
    "        random = Crypto.Random.new().read\n",
    "        # Generates the private and public keys 1024bit\n",
    "        self._private_key = RSA.generate(1024, random)\n",
    "        self._public_key = self._private_key.publickey()\n",
    "        \n",
    "        # Creat signer\n",
    "        self._signer = PKCS1_v1_5.new(self._private_key)\n",
    "\n",
    "    @property\n",
    "    def identity(self):\n",
    "        ###\n",
    "        # The identity is unique to each client and can be made \n",
    "        #publicly available. Anybody would be able to send virtual \n",
    "        #currency to you using this identity and it will get added \n",
    "        #to your wallet.\n",
    "        ###\n",
    "        return binascii.hexlify(self._public_key.exportKey(format='DER')).decode('ascii')"
   ]
  },
  {
   "cell_type": "code",
   "execution_count": 12,
   "metadata": {},
   "outputs": [
    {
     "data": {
      "text/plain": [
       "'30819f300d06092a864886f70d010101050003818d0030818902818100eb70cc3f566da83e47fe7ffcc0ef07587540f3a5059c4aeaf2756cb3ed9fa8555bf0d409ed68a3a05e2adf6dfa8429f8465a1eeb10928b639856d6d8d92a1fd177f2fc777822cb7696bb310f490dd6f252ce4bc665028bd6099fab8267e8428b974830f9a47a941fc8b3671c1ebd87315fd17a6660accc8128380f74f55312ad0203010001'"
      ]
     },
     "execution_count": 12,
     "metadata": {},
     "output_type": "execute_result"
    }
   ],
   "source": [
    "#Testing Client\n",
    "Dinesh = Client()\n",
    "Dinesh.identity"
   ]
  },
  {
   "cell_type": "markdown",
   "metadata": {},
   "source": [
    "The above code creates an instance of Client and assigns it to the variable Dinesh. We print the public key of Dinesh by calling its identity method."
   ]
  },
  {
   "cell_type": "markdown",
   "metadata": {},
   "source": [
    "# 3. Python Blockchain - Transaction Class\n",
    "\n",
    "Let us create a Transaction class so that a client will be able to send money to somebody. Note that a client can be both a sender or a recipient of the money. When you want to receive money, some other sender will create a transaction and specify your public address in it."
   ]
  },
  {
   "cell_type": "code",
   "execution_count": 13,
   "metadata": {},
   "outputs": [],
   "source": [
    "class Transaction:\n",
    "    #Client can be both a sender or a recipient of the money.\n",
    "    #Create a transaction and specify your public address in it.\n",
    "    \n",
    "    def __init__(self, sender, recipient, value):\n",
    "        #Initialization of a transaction class\n",
    "        self.sender = sender\n",
    "        self.recipient = recipient\n",
    "        self.value = value\n",
    "        self.time = datetime.datetime.now()\n",
    "    \n",
    "    def to_dict(self):\n",
    "        #Combines all the four above-mentioned instance variables \n",
    "        #in a dictionary object.\n",
    "        if self.sender == \"Genesis\":\n",
    "            identity = \"Genesis\"\n",
    "        else:\n",
    "            identity = self.sender.identity\n",
    "\n",
    "        return collections.OrderedDict({\n",
    "            'sender': identity,\n",
    "            'recipient': self.recipient,\n",
    "            'value': self.value,\n",
    "            'time' : self.time})\n",
    "    \n",
    "    def sign_transaction(self):\n",
    "        #The generated signature is decoded to get the ASCII \n",
    "        #representation for printing and storing it in our blockchain.\n",
    "        private_key = self.sender._private_key\n",
    "        signer = PKCS1_v1_5.new(private_key)\n",
    "        h = SHA.new(str(self.to_dict()).encode('utf8'))\n",
    "        return binascii.hexlify(signer.sign(h)).decode('ascii')\n",
    "    \n",
    "    def display(self):\n",
    "        dict = self.to_dict()\n",
    "        print (\"sender: \" + dict['sender'])\n",
    "        print ('-----')\n",
    "        print (\"recipient: \" + dict['recipient'])\n",
    "        print ('-----')\n",
    "        print (\"value: \" + str(dict['value']))\n",
    "        print ('-----')\n",
    "        print (\"time: \" + str(dict['time']))\n",
    "        print ('-----')\n",
    "    "
   ]
  },
  {
   "cell_type": "markdown",
   "metadata": {},
   "source": [
    "#### Testing Transaction Class"
   ]
  },
  {
   "cell_type": "code",
   "execution_count": 14,
   "metadata": {},
   "outputs": [
    {
     "name": "stdout",
     "output_type": "stream",
     "text": [
      "sender: 30819f300d06092a864886f70d010101050003818d0030818902818100b476e084b773db55557079f1c229730d2055abf0f4bc9b3e4ec7be5937dba2a0757fa5b435a0a3fe318342cbe743c47d4c30e9fbb069a144ed6944ed585d696b80d311505591e97bbd405d16cbaa77abb5c2fb69f56ad705ce6268c2d20f61bf318fb512606f7861b236e3c5ec5c50e219cc70e2f2b41fb589dc0b9e3a150b9d0203010001\n",
      "-----\n",
      "recipient: 30819f300d06092a864886f70d010101050003818d0030818902818100a4219066e262a83c46438ff7b9ce223ac1ec272b99567db410e4276f288d724c1e3b36f625ef7fd8786b1cb43f4fb45e3ea4f3edbac615f5d3fd4c4fffa8671ddad8c308519edbd5f3417af986db705020f04fa0f02443eff6447d848be4a222cd966d2e154ef740a24eb5efa07ccc739402d68682677af823605883c51e1d370203010001\n",
      "-----\n",
      "value: 5.0\n",
      "-----\n",
      "time: 2019-09-20 10:46:57.070257\n",
      "-----\n"
     ]
    },
    {
     "data": {
      "text/plain": [
       "'44219c257162848ffe19a1cb405a8746559d2375ff65767e82e3b5454e1aec69e63a8fa428fde5e52c1ae4f7a1cd89d063d1ac37de4be3a139164025a92efeb2b0d70f526b747286fe58c2b551b44c0b174f6b7d9dcaa2c2720c1ca6c645f068ca04c78d29aed3b55e7f477d2365a30cba4a0e1ade02cd8d7d468eaf459f9044'"
      ]
     },
     "execution_count": 14,
     "metadata": {},
     "output_type": "execute_result"
    }
   ],
   "source": [
    "#Create two users, called Dinesh and Ramesh\n",
    "Dinesh = Client()\n",
    "Ramesh = Client()\n",
    "\n",
    "#Dinesh is sending payment to Ramesh, he will need \n",
    "#the public key of Ramesh which is obtained by using \n",
    "#the identity property of the client.\n",
    "\n",
    "#Create the transaction \n",
    "t = Transaction(\n",
    "   Dinesh,\n",
    "   Ramesh.identity,\n",
    "   5.0\n",
    ")\n",
    "t.display()\n",
    "\n",
    "signature = t.sign_transaction()\n",
    "signature "
   ]
  },
  {
   "cell_type": "markdown",
   "metadata": {},
   "source": [
    "## 3.1 Creating Multiple Transactions\n",
    "\n",
    "The transactions made by various clients are queued in the system; the miners pick up the transactions from this queue and add it to the block. They will then mine the block and the winning miner would have the privilege of adding the block to the blockchain and thereby earn some money for himself.\n",
    "\n",
    "We will describe this mining process later when we discuss the creation of the blockchain. Before we write the code for multiple transactions, let us add a small utility function to print the contents of a given transaction.\n",
    "\n",
    "\n"
   ]
  },
  {
   "cell_type": "code",
   "execution_count": 16,
   "metadata": {},
   "outputs": [],
   "source": [
    "class MultiTransaction:\n",
    "    \n",
    "    def __init__ (self):\n",
    "        self.transactions = []\n",
    "    \n",
    "    def add(self, transaction):\n",
    "        self.transactions.append(transaction.sign_transaction())\n",
    "    "
   ]
  },
  {
   "cell_type": "code",
   "execution_count": null,
   "metadata": {},
   "outputs": [],
   "source": []
  }
 ],
 "metadata": {
  "kernelspec": {
   "display_name": "Python 3",
   "language": "python",
   "name": "python3"
  },
  "language_info": {
   "codemirror_mode": {
    "name": "ipython",
    "version": 3
   },
   "file_extension": ".py",
   "mimetype": "text/x-python",
   "name": "python",
   "nbconvert_exporter": "python",
   "pygments_lexer": "ipython3",
   "version": "3.7.4"
  }
 },
 "nbformat": 4,
 "nbformat_minor": 2
}
