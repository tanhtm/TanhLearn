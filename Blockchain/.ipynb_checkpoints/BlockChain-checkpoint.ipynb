{
 "cells": [
  {
   "cell_type": "markdown",
   "metadata": {},
   "source": [
    "# 1. Components Involved in Blockchain Project Development\n",
    "The entire blockchain project development consists of three major components:\n",
    "\n",
    "- Client\n",
    "- Miners\n",
    "- Blockchain\n",
    "\n",
    "## 1.1 Client\n",
    "The Client is the one who will buy goods from other vendors. The client himself may become a vendor and will accept money from others against the goods he supplies. We assume here that the client can both be a supplier and a recipient of TPCoins. Thus, we will create a client class in our code that has the ability to send and receive money.\n",
    "\n",
    "## 1.2 Miner\n",
    "The Miner is the one who picks up the transactions from a transaction pool and assembles them in a block. The miner has to provide a valid proof-of-work to get the mining reward. All the money that miner collects as a fee will be for him to keep. He may spend that money on buying goods or services from other registered vendors on the network, just the way a Client described above does.\n",
    "\n",
    "## 1.3 Blockchain\n",
    "\n",
    "Finally, a Blockchain is a data structure that chains all the mined blocks in a chronological order. This chain is immutable and thus temper-proof.\n",
    "\n",
    "You may follow this tutorial by typing out the code presented in each step in a new Jupyter notebook. Alternatively, you may download the entire Jupyter notebook from www.anaconda.com.\n",
    "\n",
    "In the next chapter, we will develop a client that uses our blockchain system.\n"
   ]
  },
  {
   "cell_type": "markdown",
   "metadata": {},
   "source": [
    "# 2. Python Blockchain - Developing Client\n",
    "\n",
    "A client is somebody who holds TPCoins and transacts those for goods/services from other vendors on the network including his own. We should define a Client class for this purpose. To create a globally unique identification for the client, we use PKI (Public Key Infrastructure).\n",
    "\n",
    "The client should be able to send money from his wallet to another known person. Similarly, the client should be able to accept money from a third party. For spending money, the client would create a transaction specifying the sender’s name and the amount to be paid. For receiving money, the client will provide his identity to the third party − essentially a sender of the money. We do not store the balance amount of money the client holds in his wallet. During a transaction, we will compute the actual balance to ensure that the client has sufficient balance to make the payment.\n",
    "\n",
    "To develop the Client class and for the rest of the code in the project, we will need to import many Python libraries. These are listed below "
   ]
  },
  {
   "cell_type": "code",
   "execution_count": 1,
   "metadata": {},
   "outputs": [],
   "source": [
    "# import libraries\n",
    "import hashlib\n",
    "import random\n",
    "import string\n",
    "import json\n",
    "import binascii\n",
    "import numpy as np\n",
    "import pandas as pd\n",
    "import pylab as pl\n",
    "import logging\n",
    "import datetime\n",
    "import collections"
   ]
  },
  {
   "cell_type": "markdown",
   "metadata": {},
   "source": [
    "In addition to the above standard libraries, we are going to sign our transactions, create hash of the objects, etc. For this, you will need to import the following libraries"
   ]
  },
  {
   "cell_type": "code",
   "execution_count": 2,
   "metadata": {},
   "outputs": [],
   "source": [
    "# following imports are required by PKI\n",
    "import Crypto\n",
    "import Crypto.Random\n",
    "from Crypto.Hash import SHA\n",
    "from Crypto.PublicKey import RSA\n",
    "from Crypto.Signature import PKCS1_v1_5"
   ]
  },
  {
   "cell_type": "markdown",
   "metadata": {},
   "source": [
    "## 2.1 Python Blockchain - Client Class\n",
    "\n",
    "The Client class generates the private and public keys by using the built-in Python RSA algorithm. The interested reader may refer to this tutorial for the implementation of RSA. During the object initialization, we create private and public keys and store their values in the instance variable"
   ]
  },
  {
   "cell_type": "code",
   "execution_count": 3,
   "metadata": {},
   "outputs": [],
   "source": [
    "class Client:\n",
    "    def __init__(self):\n",
    "        random = Crypto.Random.new().read\n",
    "        # Generates the private and public keys 1024bit\n",
    "        self._private_key = RSA.generate(1024, random)\n",
    "        self._public_key = self._private_key.publickey()\n",
    "        \n",
    "        # Creat signer\n",
    "        self._signer = PKCS1_v1_5.new(self._private_key)\n",
    "\n",
    "    @property\n",
    "    def identity(self):\n",
    "        ###\n",
    "        # The identity is unique to each client and can be made \n",
    "        #publicly available. Anybody would be able to send virtual \n",
    "        #currency to you using this identity and it will get added \n",
    "        #to your wallet.\n",
    "        ###\n",
    "        return binascii.hexlify(self._public_key.exportKey(format='DER')).decode('ascii')"
   ]
  },
  {
   "cell_type": "code",
   "execution_count": 4,
   "metadata": {},
   "outputs": [
    {
     "data": {
      "text/plain": [
       "'30819f300d06092a864886f70d010101050003818d00308189028181009e7fdd53a6ac4b0418588309ea9e44d6d4d6d9f16db7e49d1b252f3740e68d820340cbc57dc3f973201a82a36f0dfa5f42ea5368d29f7a6c254c220670485cfdbfc06b743b580fc5915af476256655cd6039abd129035511cf2be399d9468ad928e13e2d0a18949f2ae9ab40a86ed0d582017aa5f7e9b2264f7eb21c3436f7070203010001'"
      ]
     },
     "execution_count": 4,
     "metadata": {},
     "output_type": "execute_result"
    }
   ],
   "source": [
    "#Testing Client\n",
    "Dinesh = Client()\n",
    "Dinesh.identity"
   ]
  },
  {
   "cell_type": "markdown",
   "metadata": {},
   "source": [
    "The above code creates an instance of Client and assigns it to the variable Dinesh. We print the public key of Dinesh by calling its identity method."
   ]
  },
  {
   "cell_type": "markdown",
   "metadata": {},
   "source": [
    "# 3. Python Blockchain - Transaction Class\n",
    "\n",
    "Let us create a Transaction class so that a client will be able to send money to somebody. Note that a client can be both a sender or a recipient of the money. When you want to receive money, some other sender will create a transaction and specify your public address in it."
   ]
  },
  {
   "cell_type": "code",
   "execution_count": 5,
   "metadata": {},
   "outputs": [],
   "source": [
    "class Transaction:\n",
    "    #Client can be both a sender or a recipient of the money.\n",
    "    #Create a transaction and specify your public address in it.\n",
    "    \n",
    "    def __init__(self, sender, recipient, value):\n",
    "        #Initialization of a transaction class\n",
    "        self.sender = sender\n",
    "        self.recipient = recipient\n",
    "        self.value = value\n",
    "        self.time = datetime.datetime.now()\n",
    "    \n",
    "    def to_dict(self):\n",
    "        #Combines all the four above-mentioned instance variables \n",
    "        #in a dictionary object.\n",
    "        if self.sender == \"Genesis\":\n",
    "            identity = \"Genesis\"\n",
    "        else:\n",
    "            identity = self.sender.identity\n",
    "\n",
    "        return collections.OrderedDict({\n",
    "            'sender': identity,\n",
    "            'recipient': self.recipient,\n",
    "            'value': self.value,\n",
    "            'time' : self.time})\n",
    "    \n",
    "    def sign_transaction(self):\n",
    "        #The generated signature is decoded to get the ASCII \n",
    "        #representation for printing and storing it in our blockchain.\n",
    "        private_key = self.sender._private_key\n",
    "        signer = PKCS1_v1_5.new(private_key)\n",
    "        h = SHA.new(str(self.to_dict()).encode('utf8'))\n",
    "        return binascii.hexlify(signer.sign(h)).decode('ascii')\n",
    "    \n",
    "    def display(self):\n",
    "        dict = self.to_dict()\n",
    "        print (\"sender: \" + dict['sender'])\n",
    "        print ('-----')\n",
    "        print (\"recipient: \" + dict['recipient'])\n",
    "        print ('-----')\n",
    "        print (\"value: \" + str(dict['value']))\n",
    "        print ('-----')\n",
    "        print (\"time: \" + str(dict['time']))\n",
    "        print ('-----')\n",
    "    "
   ]
  },
  {
   "cell_type": "markdown",
   "metadata": {},
   "source": [
    "#### Testing Transaction Class"
   ]
  },
  {
   "cell_type": "code",
   "execution_count": 6,
   "metadata": {},
   "outputs": [
    {
     "name": "stdout",
     "output_type": "stream",
     "text": [
      "sender: 30819f300d06092a864886f70d010101050003818d0030818902818100dc0906d33798476cb66f48c9de73bc36d618d627b37ac8bd34708ba1eae44713317492c393b94513e49069295578f73a4ba89752abfd1cf89767c5bd973441a5320fd8ec532ee50ed100a6c3112313d203cc8043528da73c7931dd328d892c6dc040b4a8509bc228eecff6390a5bd1d7130f038c333a8b2a4a8a684dfa06730f0203010001\n",
      "-----\n",
      "recipient: 30819f300d06092a864886f70d010101050003818d0030818902818100cf09f4803b1f0b65227a75fdb58679d0029fef0406488d5c5676e92a53e5d62dca3d3a2b583f1b223127daff8547a079ee92d25223d50d06987c1b0a191bb3b0b6b016a6887e182096536944f66392d19fe04208fbba04f4348927b5abc2b17468359e3e49ee6d743ece8cd43148b4f2a7fa9e23bc32669a6f6077eb15971ac90203010001\n",
      "-----\n",
      "value: 5.0\n",
      "-----\n",
      "time: 2019-09-24 10:10:05.008391\n",
      "-----\n"
     ]
    },
    {
     "data": {
      "text/plain": [
       "'5d9d551c3693426fd3a43f0cc2d9ae556cf8d2fcf1c614f5f2b61b4a12dad6e7b7c4871fd3faac2d9c772f844474970f2df03ef980d1d98723aa4e89e70332224d8e51c6dd5614073e1c8ec1754679b455a616ebbc0386efb306afd665fb1b08c0e061e2b6015c1e971568652fa76f26380564b4cfacff5522d089a0ace709f2'"
      ]
     },
     "execution_count": 6,
     "metadata": {},
     "output_type": "execute_result"
    }
   ],
   "source": [
    "#Create two users, called Dinesh and Ramesh\n",
    "Dinesh = Client()\n",
    "Ramesh = Client()\n",
    "\n",
    "#Dinesh is sending payment to Ramesh, he will need \n",
    "#the public key of Ramesh which is obtained by using \n",
    "#the identity property of the client.\n",
    "\n",
    "#Create the transaction \n",
    "t = Transaction(\n",
    "   Dinesh,\n",
    "   Ramesh.identity,\n",
    "   5.0\n",
    ")\n",
    "t.display()\n",
    "\n",
    "signature = t.sign_transaction()\n",
    "signature "
   ]
  },
  {
   "cell_type": "markdown",
   "metadata": {},
   "source": [
    "## 3.1 Creating Multiple Transactions\n",
    "\n",
    "The transactions made by various clients are queued in the system; the miners pick up the transactions from this queue and add it to the block. They will then mine the block and the winning miner would have the privilege of adding the block to the blockchain and thereby earn some money for himself.\n",
    "\n",
    "We will describe this mining process later when we discuss the creation of the blockchain. Before we write the code for multiple transactions, let us add a small utility function to print the contents of a given transaction.\n",
    "\n",
    "\n"
   ]
  },
  {
   "cell_type": "code",
   "execution_count": 17,
   "metadata": {},
   "outputs": [],
   "source": [
    "class MultiTransaction:\n",
    "    \n",
    "    def __init__ (self):\n",
    "        self.transactions = []\n",
    "    \n",
    "    def add(self, transaction):\n",
    "        self.transactions.append(transaction)\n",
    "    \n",
    "    def display(self):\n",
    "        for transaction in self.transactions:\n",
    "            transaction.display()\n",
    "            print ('--------------')"
   ]
  },
  {
   "cell_type": "code",
   "execution_count": 18,
   "metadata": {
    "scrolled": true
   },
   "outputs": [
    {
     "name": "stdout",
     "output_type": "stream",
     "text": [
      "sender: 30819f300d06092a864886f70d010101050003818d0030818902818100989ad0778552217100becc2a61483feb22521ce75625132e2af19acbc20f49a72f52a088afd25c1ff0df0e34777bfdbab65e73f16e33c07fcf5f745bc9ace097629aac9ef8cb05333abc7d72783ceaa91a0bef696fa70008ae7e451d206cf3bce587b55bc91f816a4816ca0335d60ade4f20e3cef04300cb077a83021a4641790203010001\n",
      "-----\n",
      "recipient: 30819f300d06092a864886f70d010101050003818d0030818902818100bac40715332798af1cbb247edcea8bcb323641cec98a59262c0c1100bde65b523fbad99f4b76be444833faf365dbb5df47a8cd6a74aba5fe70f943c5f639dcad581cf9a4397f3f37e8f82862e6966273ae07dc69bbe8d867e9122444a3709ef3a03691babc7294c2a5b6e3867590c2ddb81f78238b109d8cda023cf9b80b97730203010001\n",
      "-----\n",
      "value: 15.0\n",
      "-----\n",
      "time: 2019-09-24 10:12:01.801249\n",
      "-----\n",
      "--------------\n",
      "sender: 30819f300d06092a864886f70d010101050003818d0030818902818100989ad0778552217100becc2a61483feb22521ce75625132e2af19acbc20f49a72f52a088afd25c1ff0df0e34777bfdbab65e73f16e33c07fcf5f745bc9ace097629aac9ef8cb05333abc7d72783ceaa91a0bef696fa70008ae7e451d206cf3bce587b55bc91f816a4816ca0335d60ade4f20e3cef04300cb077a83021a4641790203010001\n",
      "-----\n",
      "recipient: 30819f300d06092a864886f70d010101050003818d0030818902818100c235b33e9b57139285089507b6f64ff63fff57e10d6270d0ad60cbd863b938da94f91eb4fb22a551bb761d854fe81b09eecbafa8be4a7b2b50e692a39cbeb2d6cae249fc8faa8ecaed40bb3e15d7d2e197a579c2e004061ce3f07ef06e18bfe560190850b7e72a56929fa091cb943759eebed92a80dea43a9c05a6c748e92c050203010001\n",
      "-----\n",
      "value: 6.0\n",
      "-----\n",
      "time: 2019-09-24 10:12:01.803604\n",
      "-----\n",
      "--------------\n",
      "sender: 30819f300d06092a864886f70d010101050003818d0030818902818100989ad0778552217100becc2a61483feb22521ce75625132e2af19acbc20f49a72f52a088afd25c1ff0df0e34777bfdbab65e73f16e33c07fcf5f745bc9ace097629aac9ef8cb05333abc7d72783ceaa91a0bef696fa70008ae7e451d206cf3bce587b55bc91f816a4816ca0335d60ade4f20e3cef04300cb077a83021a4641790203010001\n",
      "-----\n",
      "recipient: 30819f300d06092a864886f70d010101050003818d0030818902818100c235b33e9b57139285089507b6f64ff63fff57e10d6270d0ad60cbd863b938da94f91eb4fb22a551bb761d854fe81b09eecbafa8be4a7b2b50e692a39cbeb2d6cae249fc8faa8ecaed40bb3e15d7d2e197a579c2e004061ce3f07ef06e18bfe560190850b7e72a56929fa091cb943759eebed92a80dea43a9c05a6c748e92c050203010001\n",
      "-----\n",
      "value: 6.0\n",
      "-----\n",
      "time: 2019-09-24 10:12:01.803604\n",
      "-----\n",
      "--------------\n"
     ]
    }
   ],
   "source": [
    "#Example\n",
    "Dinesh = Client()\n",
    "Ramesh = Client()\n",
    "Seema = Client()\n",
    "Vijay = Client()\n",
    "\n",
    "t1 = Transaction(\n",
    "   Dinesh,\n",
    "   Ramesh.identity,\n",
    "   15.0\n",
    ")\n",
    "t1.sign_transaction()\n",
    "\n",
    "t2 = Transaction(\n",
    "   Dinesh,\n",
    "   Seema.identity,\n",
    "   6.0\n",
    ")\n",
    "t2.sign_transaction()\n",
    "\n",
    "t3 = Transaction(\n",
    "   Ramesh,\n",
    "   Vijay.identity,\n",
    "   2.0\n",
    ")\n",
    "t3.sign_transaction()\n",
    "\n",
    "muliTran = MultiTransaction()\n",
    "muliTran.add(t1)\n",
    "muliTran.add(t2)\n",
    "muliTran.add(t2)\n",
    "muliTran.display()"
   ]
  },
  {
   "cell_type": "markdown",
   "metadata": {},
   "source": [
    "# 4. Python Blockchain - Block Class\n",
    "\n",
    "\n",
    "\n",
    "A block consists of a varying number of transactions.\n",
    "For simplicity, in our case we will assume that the block consists of a fixed number of transactions, which is three in this case. As the block needs to store the list of these three transactions.\n",
    "we will declare an instance variable called **verified_transactions**\n",
    "\n",
    "``\n",
    "self.verified_transactions = []\n",
    "``\n",
    "\n",
    "We have named this variable as **verified_transactions** to indicate that only the verified valid transactions will be added to the block. Each block also holds the hash value of the previous block, so that the chain of blocks becomes immutable.\n",
    "To store the previous hash, we declare an instance variable as follows\n",
    "\n",
    "``\n",
    "self.previous_block_hash = \"\"\n",
    "``\n",
    "\n",
    "Finally, we declare one more variable called Nonce for storing the nonce created by the miner during the mining process\n",
    "\n",
    "``\n",
    "self.Nonce = \"\"\n",
    "``"
   ]
  },
  {
   "cell_type": "code",
   "execution_count": null,
   "metadata": {},
   "outputs": [],
   "source": []
  }
 ],
 "metadata": {
  "kernelspec": {
   "display_name": "Python 3",
   "language": "python",
   "name": "python3"
  },
  "language_info": {
   "codemirror_mode": {
    "name": "ipython",
    "version": 3
   },
   "file_extension": ".py",
   "mimetype": "text/x-python",
   "name": "python",
   "nbconvert_exporter": "python",
   "pygments_lexer": "ipython3",
   "version": "3.7.4"
  }
 },
 "nbformat": 4,
 "nbformat_minor": 2
}
