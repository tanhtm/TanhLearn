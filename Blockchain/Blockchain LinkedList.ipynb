{
 "cells": [
  {
   "cell_type": "code",
   "execution_count": 1,
   "metadata": {},
   "outputs": [],
   "source": [
    "# import libraries\n",
    "import hashlib\n",
    "import random\n",
    "import string\n",
    "import json\n",
    "import binascii\n",
    "import numpy as np\n",
    "import pandas as pd\n",
    "import pylab as pl\n",
    "import logging\n",
    "import datetime\n",
    "import collections"
   ]
  },
  {
   "cell_type": "code",
   "execution_count": 2,
   "metadata": {},
   "outputs": [],
   "source": [
    "# following imports are required by PKI\n",
    "import Crypto\n",
    "import Crypto.Random\n",
    "from Crypto.Hash import SHA\n",
    "from Crypto.PublicKey import RSA\n",
    "from Crypto.Signature import PKCS1_v1_5"
   ]
  },
  {
   "cell_type": "code",
   "execution_count": 5,
   "metadata": {},
   "outputs": [],
   "source": [
    "class Client:\n",
    "    def __init__(self):\n",
    "        random = Crypto.Random.new().read\n",
    "        # Generates the private and public keys 1024bit\n",
    "        self._private_key = RSA.generate(1024, random)\n",
    "        self._public_key = self._private_key.publickey()\n",
    "        \n",
    "        # Creat signer\n",
    "        self._signer = PKCS1_v1_5.new(self._private_key)\n",
    "\n",
    "    @property\n",
    "    def identity(self):\n",
    "        ###\n",
    "        # The identity is unique to each client and can be made \n",
    "        #publicly available. Anybody would be able to send virtual \n",
    "        #currency to you using this identity and it will get added \n",
    "        #to your wallet.\n",
    "        ###\n",
    "        return binascii.hexlify(self._public_key.exportKey(format='DER')).decode('ascii')"
   ]
  },
  {
   "cell_type": "code",
   "execution_count": 4,
   "metadata": {},
   "outputs": [
    {
     "data": {
      "text/plain": [
       "'30819f300d06092a864886f70d010101050003818d00308189028181009fd8e7c11f7d5e7c2cea05f243ed92f1c5bd7586679a94f7f688dfdd843601b795b635c8950f8dd165c6be1c246210655d84df01fdb60f294b53425934b85e25da9ace060bb209e9ddb727862cbd4bb5ae924b41778fcf6ab15b36b1742591976df1f26eec95afc705f1943f03f7ed0b28b6fa2fccef66acbdfcdf5103898c730203010001'"
      ]
     },
     "execution_count": 4,
     "metadata": {},
     "output_type": "execute_result"
    }
   ],
   "source": [
    "#Testing Client\n",
    "Dinesh = Client()\n",
    "Dinesh.identity"
   ]
  },
  {
   "cell_type": "code",
   "execution_count": 10,
   "metadata": {},
   "outputs": [],
   "source": [
    "class Transaction:\n",
    "    #Client can be both a sender or a recipient of the money.\n",
    "    #Create a transaction and specify your public address in it.\n",
    "    \n",
    "    def __init__(self, sender, recipient, value):\n",
    "        #Initialization of a transaction class\n",
    "        self.sender = sender\n",
    "        self.recipient = recipient # Identity of recipient\n",
    "        self.value = value\n",
    "        self.time = datetime.datetime.now()\n",
    "    \n",
    "    def to_dict(self):\n",
    "        #Combines all the four above-mentioned instance variables \n",
    "        #in a dictionary object.\n",
    "        if self.sender == \"Genesis\":\n",
    "            identity = \"Genesis\"\n",
    "        else:\n",
    "            identity = self.sender.identity\n",
    "\n",
    "        return collections.OrderedDict({\n",
    "            'sender': identity,\n",
    "            'recipient': self.recipient,\n",
    "            'value': self.value,\n",
    "            'time' : self.time})\n",
    "    \n",
    "    def sign_transaction(self):\n",
    "        #The generated signature is decoded to get the ASCII \n",
    "        #representation for printing and storing it in our blockchain.\n",
    "        private_key = self.sender._private_key\n",
    "        signer = PKCS1_v1_5.new(private_key)\n",
    "        h = SHA.new(str(self.to_dict()).encode('utf8'))\n",
    "        return binascii.hexlify(signer.sign(h)).decode('ascii')\n",
    "    \n",
    "    def display(self):\n",
    "        dict = self.to_dict()\n",
    "        print (\"sender: \" + dict['sender'])\n",
    "        print ('-----')\n",
    "        print (\"recipient: \" + dict['recipient'])\n",
    "        print ('-----')\n",
    "        print (\"value: \" + str(dict['value']))\n",
    "        print ('-----')\n",
    "        print (\"time: \" + str(dict['time']))\n",
    "        print ('-----')\n",
    "    "
   ]
  },
  {
   "cell_type": "code",
   "execution_count": 11,
   "metadata": {},
   "outputs": [
    {
     "name": "stdout",
     "output_type": "stream",
     "text": [
      "sender: 30819f300d06092a864886f70d010101050003818d0030818902818100b6bfc42beb9568ab13eb184455edadcf82e16aa8b179f44e51d6fb460d5e139e17168e8105bb524fd98ad86f05ef98933a4a8f3444199278b5c14781ef4a06ba7928878d98fa83c8d366fc9372c5fe00278ac6443fa00c628d7b9942096b919405698586b254081847a07ff4e90bd00c4d4bca4eebc6516d214ea3d3cbc4f7d50203010001\n",
      "-----\n",
      "recipient: 30819f300d06092a864886f70d010101050003818d00308189028181008f53d6461ca7cbfe52b14ffa3ba9874e455ce1b7aa65cd77c22303a36ed4c6d8de649cfc574296172f38a5eb7f3d7efbe7222b63df90d0f7971ff68dbdece4a25225ed63b532c937895a1b248e4ed002df33302b23a3bfb6c0cc11f8b4247eae0aee991253a36d3661d4cd9d3c7a7734999bd3aa99c99d7f504b38e3246a27a70203010001\n",
      "-----\n",
      "value: 5.0\n",
      "-----\n",
      "time: 2019-10-05 21:36:24.971144\n",
      "-----\n"
     ]
    }
   ],
   "source": [
    "#Create two users, called Dinesh and Ramesh\n",
    "Dinesh = Client()\n",
    "Ramesh = Client()\n",
    "\n",
    "#Dinesh is sending payment to Ramesh, he will need \n",
    "#the public key of Ramesh which is obtained by using \n",
    "#the identity property of the client.\n",
    "\n",
    "#Create the transaction \n",
    "t = Transaction(\n",
    "   Dinesh,\n",
    "   Ramesh.identity,\n",
    "   5.0\n",
    ")\n",
    "t.display()"
   ]
  },
  {
   "cell_type": "code",
   "execution_count": null,
   "metadata": {},
   "outputs": [],
   "source": []
  }
 ],
 "metadata": {
  "kernelspec": {
   "display_name": "Python 3",
   "language": "python",
   "name": "python3"
  },
  "language_info": {
   "codemirror_mode": {
    "name": "ipython",
    "version": 3
   },
   "file_extension": ".py",
   "mimetype": "text/x-python",
   "name": "python",
   "nbconvert_exporter": "python",
   "pygments_lexer": "ipython3",
   "version": "3.7.4"
  }
 },
 "nbformat": 4,
 "nbformat_minor": 2
}
