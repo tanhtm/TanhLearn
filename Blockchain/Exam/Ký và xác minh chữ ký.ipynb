{
 "cells": [
  {
   "cell_type": "code",
   "execution_count": 6,
   "metadata": {},
   "outputs": [],
   "source": [
    "from Crypto.Signature import PKCS1_v1_5\n",
    "from Crypto.Hash import SHA\n",
    "from Crypto.PublicKey import RSA\n",
    "import Crypto\n",
    "import binascii\n",
    "\n",
    "message = 'abc'\n",
    "random = Crypto.Random.new().read\n",
    "private_key = RSA.generate(1024, random)\n",
    "signer = PKCS1_v1_5.new(private_key)\n",
    "h = SHA.new(message.encode('utf8'))\n",
    "sign= signer.sign(h)"
   ]
  },
  {
   "cell_type": "code",
   "execution_count": 7,
   "metadata": {},
   "outputs": [
    {
     "data": {
      "text/plain": [
       "b'4\\xa6\\x18\\x00\\x8b\\xee\\xfb\\xee\\x8d\\xec\\x04\\x8a\\x0eH\\x91\\x03\\\\,\\xc9a\\xdf\\xba`\\xfd\\x92\\x8b\\xb1\\xed\\xef\\xeco_\\xbai\\xf2\\xe2\\x1a}\\xd8\\xed<Z\\x8b\\xc6\\xa1\\xde3\\xb80\\xa8zNU\\xaf\\xe1\\xc6\\xdc\\xbf\\xe4\\xa6\\xd7\\x08x\\x00_v\\xa7~c\\xff\\xf3\\xef[\\xa0\\x17Kb\\xdb\\t\\xc9\\x91B\\xf1\\x0f\\x97Z*\\x89\\xb2\\xaf\\x181\\x08~8\\xc4\\xbdFD\\x86*/\\xc4\\x08\\xec\\x8d\\x97i\\x89\\x8b\\xc6r+\\xfcW\\n\\xd8Z\\x8e\\xbf\\x92W\\x1c$\\x93\\xc7\\xa6d'"
      ]
     },
     "execution_count": 7,
     "metadata": {},
     "output_type": "execute_result"
    }
   ],
   "source": [
    "sign"
   ]
  },
  {
   "cell_type": "code",
   "execution_count": 3,
   "metadata": {},
   "outputs": [
    {
     "data": {
      "text/plain": [
       "True"
      ]
     },
     "execution_count": 3,
     "metadata": {},
     "output_type": "execute_result"
    }
   ],
   "source": [
    "verifier = PKCS1_v1_5.new(private_key)\n",
    "verifier.verify(h, sign)"
   ]
  },
  {
   "cell_type": "code",
   "execution_count": 4,
   "metadata": {},
   "outputs": [],
   "source": [
    "private_key2 = RSA.generate(1024, random)\n",
    "signer2 = PKCS1_v1_5.new(private_key2)\n",
    "h = SHA.new(message.encode('utf8'))\n",
    "sign2= signer2.sign(h)"
   ]
  },
  {
   "cell_type": "code",
   "execution_count": 5,
   "metadata": {},
   "outputs": [
    {
     "data": {
      "text/plain": [
       "False"
      ]
     },
     "execution_count": 5,
     "metadata": {},
     "output_type": "execute_result"
    }
   ],
   "source": [
    "verifier = PKCS1_v1_5.new(private_key2)\n",
    "verifier.verify(h, sign)"
   ]
  },
  {
   "cell_type": "code",
   "execution_count": null,
   "metadata": {},
   "outputs": [],
   "source": []
  }
 ],
 "metadata": {
  "kernelspec": {
   "display_name": "Python 3",
   "language": "python",
   "name": "python3"
  },
  "language_info": {
   "codemirror_mode": {
    "name": "ipython",
    "version": 3
   },
   "file_extension": ".py",
   "mimetype": "text/x-python",
   "name": "python",
   "nbconvert_exporter": "python",
   "pygments_lexer": "ipython3",
   "version": "3.7.4"
  }
 },
 "nbformat": 4,
 "nbformat_minor": 2
}
