{
 "cells": [
  {
   "cell_type": "markdown",
   "metadata": {},
   "source": [
    "## Định nghĩa văn phạm\n",
    "\n",
    "Văn phạm phi ngữ cảnh\n",
    "\n",
    "https://en.wikipedia.org/wiki/Greibach_normal_form"
   ]
  },
  {
   "cell_type": "code",
   "execution_count": 1,
   "metadata": {},
   "outputs": [],
   "source": [
    "class Grammar:\n",
    "    Name= 'G'\n",
    "    Sigma= [] #Tập kí hiệu cơ bản\n",
    "    V= [] # Tập kí hiệu bổ sung\n",
    "    sigma= '𝜎' # Ký hiệu xuất phát của văn phạm\n",
    "    P= [] #rules Các quy tắc thay thế\n",
    "    \n",
    "    def display(self):\n",
    "        print('%s= (Σ,𝑉,𝜎,𝑃)' % self.Name)\n",
    "        print('Σ= ' + str(self.Sigma))\n",
    "        print('𝑉= ' + str(self.V))\n",
    "        print('𝜎= ' + self.sigma)\n",
    "        tmp= [ '%s → %s' % rule for rule in self.P]\n",
    "        print('𝑃= ' + '{' + ', '.join(tmp) + '}')"
   ]
  },
  {
   "cell_type": "code",
   "execution_count": 2,
   "metadata": {},
   "outputs": [
    {
     "name": "stdout",
     "output_type": "stream",
     "text": [
      "G= (Σ,𝑉,𝜎,𝑃)\n",
      "Σ= {'b', 'a'}\n",
      "𝑉= {'A', '𝜎', 'B'}\n",
      "𝜎= 𝜎\n",
      "𝑃= {B → bBa, A → b, B → None, 𝜎 → AB, A → aAb}\n"
     ]
    }
   ],
   "source": [
    "G= Grammar()\n",
    "G.Sigma= {'a', 'b'}\n",
    "G.sigma= '𝜎'\n",
    "G.V= {G.sigma, 'A', 'B'}\n",
    "G.P= {(G.sigma, 'AB'), \n",
    "      ('A', 'aAb'), \n",
    "      ('A', 'b'), \n",
    "      ('B', 'bBa'), \n",
    "      ('B', None)}\n",
    "G.display()"
   ]
  },
  {
   "cell_type": "code",
   "execution_count": 3,
   "metadata": {},
   "outputs": [],
   "source": [
    "w= 'abbba'"
   ]
  },
  {
   "cell_type": "markdown",
   "metadata": {},
   "source": [
    "## Thuật toán phân tích từ trên xuống kiếm tra xâu có thuộc văn phạm"
   ]
  },
  {
   "cell_type": "markdown",
   "metadata": {},
   "source": [
    "#### Input:\n",
    "Văn phạm phi ngữ cảnh $G= (\\Sigma, V, \\sigma, P)$ không đệ quy trái và xấu $\\omega = a_1a_2...a_n \\in \\Sigma^*$\n",
    "\n",
    "#### Output\n",
    "Cây suy dẫn của $\\omega$ nếu $\\omega \\in L(G)$ và thông báo lỗi nếu $\\omega \\not \\in L(G)$\n",
    "\n",
    "#### Code"
   ]
  },
  {
   "cell_type": "code",
   "execution_count": 4,
   "metadata": {},
   "outputs": [],
   "source": [
    "def search(G, w):\n",
    "    memo = dict()\n",
    "    def solve(f, t):\n",
    "        # Tìm đường đi để xâu f trở thành xâu t trong văn phạm G\n",
    "        if len(f) == 0:\n",
    "            return False\n",
    "        if len(t) == 0:\n",
    "            return len(f) == 0\n",
    "        T = f[0]\n",
    "        v = t[0]\n",
    "        if (T,v) in memo:\n",
    "            return memo[(T,v)]\n",
    "        print(T,v)\n",
    "        if T in G.V:\n",
    "            for rule in G.P:\n",
    "                if T == rule[0]:\n",
    "                    if rule[1] is None:\n",
    "                        r= solve(f[1:], w)\n",
    "                        memo[(T,v)] = r\n",
    "                    else:\n",
    "                        r= solve(rule[1] + f[1:], w)\n",
    "                        memo[(T,v)] = r\n",
    "            return False\n",
    "        elif T in G.Sigma:\n",
    "            if T == v:\n",
    "                r= solve(f[1:], w[1:])\n",
    "                memo[(T,v)] = r\n",
    "            else:\n",
    "                memo[(T,v)] = False\n",
    "    \n",
    "    result= solve(G.sigma, w)\n",
    "    return result"
   ]
  },
  {
   "cell_type": "code",
   "execution_count": 5,
   "metadata": {},
   "outputs": [
    {
     "name": "stdout",
     "output_type": "stream",
     "text": [
      "\n",
      "                         _______38_________________________________\n",
      "                        /                                          \\\n",
      "             __________35                        ___________________60___\n",
      "            /            \\                      /                        \\\n",
      "          _29______       36               ____43______                  _62\n",
      "         /         \\        \\             /            \\                /\n",
      "    ____28         _34       37      ____41            _46___          61\n",
      "   /              /                 /      \\          /      \\\n",
      "  20            _33                39       42      _45      _48\n",
      " /  \\          /                     \\             /        /   \\\n",
      "6    24       30                      40          44       47    57\n",
      "\n"
     ]
    }
   ],
   "source": [
    "from binarytree import tree, bst, heap\n",
    "my_bst = bst(height=5, is_perfect=False)\n",
    "print(my_bst) "
   ]
  },
  {
   "cell_type": "code",
   "execution_count": 6,
   "metadata": {},
   "outputs": [
    {
     "ename": "NodeValueError",
     "evalue": "node value must be a number",
     "output_type": "error",
     "traceback": [
      "\u001b[0;31m---------------------------------------------------------------------------\u001b[0m",
      "\u001b[0;31mNodeValueError\u001b[0m                            Traceback (most recent call last)",
      "\u001b[0;32m<ipython-input-6-5ed78208f1b4>\u001b[0m in \u001b[0;36m<module>\u001b[0;34m\u001b[0m\n\u001b[1;32m      1\u001b[0m \u001b[0;32mfrom\u001b[0m \u001b[0mbinarytree\u001b[0m \u001b[0;32mimport\u001b[0m \u001b[0mNode\u001b[0m\u001b[0;34m\u001b[0m\u001b[0;34m\u001b[0m\u001b[0m\n\u001b[0;32m----> 2\u001b[0;31m \u001b[0mroot\u001b[0m \u001b[0;34m=\u001b[0m \u001b[0mNode\u001b[0m\u001b[0;34m(\u001b[0m\u001b[0;34m'A'\u001b[0m\u001b[0;34m)\u001b[0m\u001b[0;34m\u001b[0m\u001b[0;34m\u001b[0m\u001b[0m\n\u001b[0m\u001b[1;32m      3\u001b[0m \u001b[0mroot\u001b[0m\u001b[0;34m.\u001b[0m\u001b[0mleft\u001b[0m \u001b[0;34m=\u001b[0m \u001b[0mNode\u001b[0m\u001b[0;34m(\u001b[0m\u001b[0;34m'B'\u001b[0m\u001b[0;34m)\u001b[0m\u001b[0;34m\u001b[0m\u001b[0;34m\u001b[0m\u001b[0m\n\u001b[1;32m      4\u001b[0m \u001b[0mroot\u001b[0m\u001b[0;34m.\u001b[0m\u001b[0mright\u001b[0m \u001b[0;34m=\u001b[0m \u001b[0mNode\u001b[0m\u001b[0;34m(\u001b[0m\u001b[0;34m'g'\u001b[0m\u001b[0;34m)\u001b[0m\u001b[0;34m\u001b[0m\u001b[0;34m\u001b[0m\u001b[0m\n\u001b[1;32m      5\u001b[0m \u001b[0mroot\u001b[0m\u001b[0;34m.\u001b[0m\u001b[0mleft\u001b[0m\u001b[0;34m.\u001b[0m\u001b[0mright\u001b[0m \u001b[0;34m=\u001b[0m \u001b[0mNode\u001b[0m\u001b[0;34m(\u001b[0m\u001b[0;34m'J'\u001b[0m\u001b[0;34m)\u001b[0m\u001b[0;34m\u001b[0m\u001b[0;34m\u001b[0m\u001b[0m\n",
      "\u001b[0;32m~/Anaconda/ENTER/envs/tensor/lib/python3.7/site-packages/binarytree/__init__.py\u001b[0m in \u001b[0;36m__init__\u001b[0;34m(self, value, left, right)\u001b[0m\n\u001b[1;32m    337\u001b[0m     \u001b[0;32mdef\u001b[0m \u001b[0m__init__\u001b[0m\u001b[0;34m(\u001b[0m\u001b[0mself\u001b[0m\u001b[0;34m,\u001b[0m \u001b[0mvalue\u001b[0m\u001b[0;34m,\u001b[0m \u001b[0mleft\u001b[0m\u001b[0;34m=\u001b[0m\u001b[0;32mNone\u001b[0m\u001b[0;34m,\u001b[0m \u001b[0mright\u001b[0m\u001b[0;34m=\u001b[0m\u001b[0;32mNone\u001b[0m\u001b[0;34m)\u001b[0m\u001b[0;34m:\u001b[0m\u001b[0;34m\u001b[0m\u001b[0;34m\u001b[0m\u001b[0m\n\u001b[1;32m    338\u001b[0m         \u001b[0;32mif\u001b[0m \u001b[0;32mnot\u001b[0m \u001b[0misinstance\u001b[0m\u001b[0;34m(\u001b[0m\u001b[0mvalue\u001b[0m\u001b[0;34m,\u001b[0m \u001b[0mnumbers\u001b[0m\u001b[0;34m.\u001b[0m\u001b[0mNumber\u001b[0m\u001b[0;34m)\u001b[0m\u001b[0;34m:\u001b[0m\u001b[0;34m\u001b[0m\u001b[0;34m\u001b[0m\u001b[0m\n\u001b[0;32m--> 339\u001b[0;31m             \u001b[0;32mraise\u001b[0m \u001b[0mNodeValueError\u001b[0m\u001b[0;34m(\u001b[0m\u001b[0;34m'node value must be a number'\u001b[0m\u001b[0;34m)\u001b[0m\u001b[0;34m\u001b[0m\u001b[0;34m\u001b[0m\u001b[0m\n\u001b[0m\u001b[1;32m    340\u001b[0m         \u001b[0;32mif\u001b[0m \u001b[0mleft\u001b[0m \u001b[0;32mis\u001b[0m \u001b[0;32mnot\u001b[0m \u001b[0;32mNone\u001b[0m \u001b[0;32mand\u001b[0m \u001b[0;32mnot\u001b[0m \u001b[0misinstance\u001b[0m\u001b[0;34m(\u001b[0m\u001b[0mleft\u001b[0m\u001b[0;34m,\u001b[0m \u001b[0mNode\u001b[0m\u001b[0;34m)\u001b[0m\u001b[0;34m:\u001b[0m\u001b[0;34m\u001b[0m\u001b[0;34m\u001b[0m\u001b[0m\n\u001b[1;32m    341\u001b[0m             \u001b[0;32mraise\u001b[0m \u001b[0mNodeTypeError\u001b[0m\u001b[0;34m(\u001b[0m\u001b[0;34m'left child must be a Node instance'\u001b[0m\u001b[0;34m)\u001b[0m\u001b[0;34m\u001b[0m\u001b[0;34m\u001b[0m\u001b[0m\n",
      "\u001b[0;31mNodeValueError\u001b[0m: node value must be a number"
     ]
    }
   ],
   "source": [
    "from binarytree import Node\n",
    "root = Node('A')\n",
    "root.left = Node('B')\n",
    "root.right = Node('g')\n",
    "root.left.right = Node('J')\n",
    "print(root)"
   ]
  },
  {
   "cell_type": "code",
   "execution_count": 7,
   "metadata": {},
   "outputs": [],
   "source": [
    "def _build_tree_string(root, curr_index, index=False, delimiter='-'):\n",
    "    \"\"\"Recursively walk down the binary tree and build a pretty-print string.\n",
    "    In each recursive call, a \"box\" of characters visually representing the\n",
    "    current (sub)tree is constructed line by line. Each line is padded with\n",
    "    whitespaces to ensure all lines in the box have the same length. Then the\n",
    "    box, its width, and start-end positions of its root node value repr string\n",
    "    (required for drawing branches) are sent up to the parent call. The parent\n",
    "    call then combines its left and right sub-boxes to build a larger box etc.\n",
    "    :param root: Root node of the binary tree.\n",
    "    :type root: binarytree.Node | None\n",
    "    :param curr_index: Level-order_ index of the current node (root node is 0).\n",
    "    :type curr_index: int\n",
    "    :param index: If set to True, include the level-order_ node indexes using\n",
    "        the following format: ``{index}{delimiter}{value}`` (default: False).\n",
    "    :type index: bool\n",
    "    :param delimiter: Delimiter character between the node index and the node\n",
    "        value (default: '-').\n",
    "    :type delimiter:\n",
    "    :return: Box of characters visually representing the current subtree, width\n",
    "        of the box, and start-end positions of the repr string of the new root\n",
    "        node value.\n",
    "    :rtype: ([str], int, int, int)\n",
    "    .. _Level-order:\n",
    "        https://en.wikipedia.org/wiki/Tree_traversal#Breadth-first_search\n",
    "    \"\"\"\n",
    "    if root is None:\n",
    "        return [], 0, 0, 0\n",
    "\n",
    "    line1 = []\n",
    "    line2 = []\n",
    "    if index:\n",
    "        node_repr = '{}{}{}'.format(curr_index, delimiter, root.value)\n",
    "    else:\n",
    "        node_repr = str(root.value)\n",
    "\n",
    "    new_root_width = gap_size = len(node_repr)\n",
    "\n",
    "    # Get the left and right sub-boxes, their widths, and root repr positions\n",
    "    l_box, l_box_width, l_root_start, l_root_end = \\\n",
    "        _build_tree_string(root.left, 2 * curr_index + 1, index, delimiter)\n",
    "    r_box, r_box_width, r_root_start, r_root_end = \\\n",
    "        _build_tree_string(root.right, 2 * curr_index + 2, index, delimiter)\n",
    "\n",
    "    # Draw the branch connecting the current root node to the left sub-box\n",
    "    # Pad the line with whitespaces where necessary\n",
    "    if l_box_width > 0:\n",
    "        l_root = (l_root_start + l_root_end) // 2 + 1\n",
    "        line1.append(' ' * (l_root + 1))\n",
    "        line1.append('_' * (l_box_width - l_root))\n",
    "        line2.append(' ' * l_root + '/')\n",
    "        line2.append(' ' * (l_box_width - l_root))\n",
    "        new_root_start = l_box_width + 1\n",
    "        gap_size += 1\n",
    "    else:\n",
    "        new_root_start = 0\n",
    "\n",
    "    # Draw the representation of the current root node\n",
    "    line1.append(node_repr)\n",
    "    line2.append(' ' * new_root_width)\n",
    "\n",
    "    # Draw the branch connecting the current root node to the right sub-box\n",
    "    # Pad the line with whitespaces where necessary\n",
    "    if r_box_width > 0:\n",
    "        r_root = (r_root_start + r_root_end) // 2\n",
    "        line1.append('_' * r_root)\n",
    "        line1.append(' ' * (r_box_width - r_root + 1))\n",
    "        line2.append(' ' * r_root + '\\\\')\n",
    "        line2.append(' ' * (r_box_width - r_root))\n",
    "        gap_size += 1\n",
    "    new_root_end = new_root_start + new_root_width - 1\n",
    "\n",
    "    # Combine the left and right sub-boxes with the branches drawn above\n",
    "    gap = ' ' * gap_size\n",
    "    new_box = [''.join(line1), ''.join(line2)]\n",
    "    for i in range(max(len(l_box), len(r_box))):\n",
    "        l_line = l_box[i] if i < len(l_box) else ' ' * l_box_width\n",
    "        r_line = r_box[i] if i < len(r_box) else ' ' * r_box_width\n",
    "        new_box.append(l_line + gap + r_line)\n",
    "\n",
    "    # Return the new box, its width and its root repr positions\n",
    "    return new_box, len(new_box[0]), new_root_start, new_root_end\n"
   ]
  },
  {
   "cell_type": "code",
   "execution_count": 23,
   "metadata": {},
   "outputs": [],
   "source": [
    "class Node:\n",
    "    def __init__ (self, value, left=None, right=None):\n",
    "        self.value = value\n",
    "        self.left = left\n",
    "        self.right = right\n",
    "        \n",
    "    def __str__(self):\n",
    "        s= self.value\n",
    "        if not self.left is None:\n",
    "            s+= str(self.left)\n",
    "        if not self.right is None:\n",
    "            s+= str(self.right)\n",
    "        return s"
   ]
  },
  {
   "cell_type": "code",
   "execution_count": 24,
   "metadata": {},
   "outputs": [
    {
     "name": "stdout",
     "output_type": "stream",
     "text": [
      "ABCD\n"
     ]
    }
   ],
   "source": [
    "root = Node('A')\n",
    "root.left= Node('B')\n",
    "root.right= Node('C')\n",
    "root.right.left= Node('D')\n",
    "print(root)"
   ]
  },
  {
   "cell_type": "code",
   "execution_count": 25,
   "metadata": {},
   "outputs": [
    {
     "ename": "ModuleNotFoundError",
     "evalue": "No module named 'sklearn'",
     "output_type": "error",
     "traceback": [
      "\u001b[0;31m---------------------------------------------------------------------------\u001b[0m",
      "\u001b[0;31mModuleNotFoundError\u001b[0m                       Traceback (most recent call last)",
      "\u001b[0;32m<ipython-input-25-6d9aafea91ef>\u001b[0m in \u001b[0;36m<module>\u001b[0;34m\u001b[0m\n\u001b[0;32m----> 1\u001b[0;31m \u001b[0;32mfrom\u001b[0m \u001b[0msklearn\u001b[0m\u001b[0;34m.\u001b[0m\u001b[0mdatasets\u001b[0m \u001b[0;32mimport\u001b[0m \u001b[0mload_iris\u001b[0m\u001b[0;34m\u001b[0m\u001b[0;34m\u001b[0m\u001b[0m\n\u001b[0m\u001b[1;32m      2\u001b[0m \u001b[0miris\u001b[0m \u001b[0;34m=\u001b[0m \u001b[0mload_iris\u001b[0m\u001b[0;34m(\u001b[0m\u001b[0;34m)\u001b[0m\u001b[0;34m\u001b[0m\u001b[0;34m\u001b[0m\u001b[0m\n\u001b[1;32m      3\u001b[0m \u001b[0;34m\u001b[0m\u001b[0m\n\u001b[1;32m      4\u001b[0m \u001b[0;31m# Model (can also use single decision tree)\u001b[0m\u001b[0;34m\u001b[0m\u001b[0;34m\u001b[0m\u001b[0;34m\u001b[0m\u001b[0m\n\u001b[1;32m      5\u001b[0m \u001b[0;32mfrom\u001b[0m \u001b[0msklearn\u001b[0m\u001b[0;34m.\u001b[0m\u001b[0mensemble\u001b[0m \u001b[0;32mimport\u001b[0m \u001b[0mRandomForestClassifier\u001b[0m\u001b[0;34m\u001b[0m\u001b[0;34m\u001b[0m\u001b[0m\n",
      "\u001b[0;31mModuleNotFoundError\u001b[0m: No module named 'sklearn'"
     ]
    }
   ],
   "source": [
    "from sklearn.datasets import load_iris\n",
    "iris = load_iris()\n",
    "\n",
    "# Model (can also use single decision tree)\n",
    "from sklearn.ensemble import RandomForestClassifier\n",
    "model = RandomForestClassifier(n_estimators=10)\n",
    "\n",
    "# Train\n",
    "model.fit(iris.data, iris.target)\n",
    "# Extract single tree\n",
    "estimator = model.estimators_[5]\n",
    "\n",
    "from sklearn.tree import export_graphviz\n",
    "# Export as dot file\n",
    "export_graphviz(estimator, out_file='tree.dot', \n",
    "                feature_names = iris.feature_names,\n",
    "                class_names = iris.target_names,\n",
    "                rounded = True, proportion = False, \n",
    "                precision = 2, filled = True)\n",
    "\n",
    "# Convert to png using system command (requires Graphviz)\n",
    "from subprocess import call\n",
    "call(['dot', '-Tpng', 'tree.dot', '-o', 'tree.png', '-Gdpi=600'])\n",
    "\n",
    "# Display in jupyter notebook\n",
    "from IPython.display import Image\n",
    "Image(filename = 'tree.png')"
   ]
  },
  {
   "cell_type": "code",
   "execution_count": null,
   "metadata": {},
   "outputs": [],
   "source": []
  }
 ],
 "metadata": {
  "kernelspec": {
   "display_name": "Python 3",
   "language": "python",
   "name": "python3"
  },
  "language_info": {
   "codemirror_mode": {
    "name": "ipython",
    "version": 3
   },
   "file_extension": ".py",
   "mimetype": "text/x-python",
   "name": "python",
   "nbconvert_exporter": "python",
   "pygments_lexer": "ipython3",
   "version": "3.7.4"
  }
 },
 "nbformat": 4,
 "nbformat_minor": 2
}
